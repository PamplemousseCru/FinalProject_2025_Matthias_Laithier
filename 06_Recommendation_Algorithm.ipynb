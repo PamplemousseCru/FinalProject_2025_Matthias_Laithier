{
 "cells": [
  {
   "cell_type": "markdown",
   "id": "934c7244",
   "metadata": {},
   "source": [
    "## Introduction"
   ]
  },
  {
   "cell_type": "markdown",
   "id": "b6a979c4",
   "metadata": {},
   "source": [
    "This notebook aims to create a recommendation system algorithm from our trained neural network, then to evaluate it against well-known metrics and a baseline."
   ]
  },
  {
   "cell_type": "markdown",
   "id": "7ca20fe9",
   "metadata": {},
   "source": [
    "## Imports"
   ]
  },
  {
   "cell_type": "code",
   "execution_count": 1,
   "id": "50849516",
   "metadata": {},
   "outputs": [
    {
     "name": "stderr",
     "output_type": "stream",
     "text": [
      "2025-05-17 21:15:56.425313: I tensorflow/core/util/port.cc:153] oneDNN custom operations are on. You may see slightly different numerical results due to floating-point round-off errors from different computation orders. To turn them off, set the environment variable `TF_ENABLE_ONEDNN_OPTS=0`.\n",
      "2025-05-17 21:15:56.434655: E external/local_xla/xla/stream_executor/cuda/cuda_fft.cc:467] Unable to register cuFFT factory: Attempting to register factory for plugin cuFFT when one has already been registered\n",
      "WARNING: All log messages before absl::InitializeLog() is called are written to STDERR\n",
      "E0000 00:00:1747509356.444130 1003643 cuda_dnn.cc:8579] Unable to register cuDNN factory: Attempting to register factory for plugin cuDNN when one has already been registered\n",
      "E0000 00:00:1747509356.446960 1003643 cuda_blas.cc:1407] Unable to register cuBLAS factory: Attempting to register factory for plugin cuBLAS when one has already been registered\n",
      "W0000 00:00:1747509356.455182 1003643 computation_placer.cc:177] computation placer already registered. Please check linkage and avoid linking the same target more than once.\n",
      "W0000 00:00:1747509356.455189 1003643 computation_placer.cc:177] computation placer already registered. Please check linkage and avoid linking the same target more than once.\n",
      "W0000 00:00:1747509356.455190 1003643 computation_placer.cc:177] computation placer already registered. Please check linkage and avoid linking the same target more than once.\n",
      "W0000 00:00:1747509356.455191 1003643 computation_placer.cc:177] computation placer already registered. Please check linkage and avoid linking the same target more than once.\n",
      "2025-05-17 21:15:56.457855: I tensorflow/core/platform/cpu_feature_guard.cc:210] This TensorFlow binary is optimized to use available CPU instructions in performance-critical operations.\n",
      "To enable the following instructions: AVX2 AVX512F AVX512_VNNI AVX512_BF16 FMA, in other operations, rebuild TensorFlow with the appropriate compiler flags.\n"
     ]
    }
   ],
   "source": [
    "import tensorflow as tf\n",
    "import pandas as pd\n",
    "import numpy as np\n",
    "from sklearn.metrics import ndcg_score\n",
    "from tqdm import tqdm\n",
    "import matplotlib.pyplot as plt"
   ]
  },
  {
   "cell_type": "markdown",
   "id": "f0c0b201",
   "metadata": {},
   "source": [
    "## Loading the test data and the trained model"
   ]
  },
  {
   "cell_type": "code",
   "execution_count": 2,
   "id": "eca63c16",
   "metadata": {},
   "outputs": [
    {
     "name": "stderr",
     "output_type": "stream",
     "text": [
      "I0000 00:00:1747509358.408585 1003643 gpu_device.cc:2019] Created device /job:localhost/replica:0/task:0/device:GPU:0 with 13574 MB memory:  -> device: 0, name: NVIDIA GeForce RTX 4080 SUPER, pci bus id: 0000:01:00.0, compute capability: 8.9\n"
     ]
    }
   ],
   "source": [
    "export_dir = \"./exports/test_data/\"\n",
    "test_dataset = pd.read_parquet(export_dir + \"test_dataset.pq\")\n",
    "export_dir = \"./exports/trained_model/\"\n",
    "model = tf.keras.models.load_model(export_dir + \"model.keras\")"
   ]
  },
  {
   "cell_type": "markdown",
   "id": "6ed7bfa5",
   "metadata": {},
   "source": [
    "## Recommandation algorithm"
   ]
  },
  {
   "cell_type": "markdown",
   "id": "5e8fc7b0",
   "metadata": {},
   "source": [
    "The algorithm we chose is pretty simple. For a given user, we predict all the watch ratios we think he would have had if he interacted with all the videos of the test data (small matrix).\n",
    "\n",
    "Then, we sort them and we recommend the videos for which we think he will have the highest watch ratio, which should mean it is the video he would prefer.\n",
    "\n",
    "To achieve that, given a user_id, we extract all the couples (user features, video features) corresponding to our user_id from the test data, and we predict watch ratios for each of them."
   ]
  },
  {
   "cell_type": "code",
   "execution_count": 3,
   "id": "09e5cf51",
   "metadata": {},
   "outputs": [],
   "source": [
    "def to_dataset(df: pd.DataFrame) -> tuple[np.ndarray, np.ndarray, np.ndarray, np.ndarray]:\n",
    "    user_columns = [f\"avg_feat_{i}\" for i in range(31)] + [f\"avg_category_{i}\" for i in range(1, 40)]\n",
    "    video_columns = [\"video_duration\", \"trend_score\"] + [f\"feat_{i}\" for i in range(31)] + [f\"category_{i}\" for i in range(1, 40)]\n",
    "    target = \"watch_ratio\"\n",
    "    X_user, X_video, y = df[user_columns].values, df[video_columns], df[target].values\n",
    "    return X_user, X_video, y, df[\"video_id\"].values\n",
    "\n",
    "def get_recommendations_and_ground_truth(user_id: int) -> list[int]:\n",
    "    X_user, X_video, y_test, video_ids = to_dataset(test_dataset[test_dataset[\"user_id\"] == user_id])\n",
    "    y_preds = model.predict((X_user, X_video), verbose=False).flatten()\n",
    "    # We sort then flip to get highest watch ratios first\n",
    "    indexes = np.flip(np.argsort(y_test))\n",
    "    ground_truth = video_ids[indexes]\n",
    "    indexes = np.flip(np.argsort(y_preds))\n",
    "    recommendations = video_ids[indexes]\n",
    "\n",
    "    return recommendations, ground_truth"
   ]
  },
  {
   "cell_type": "markdown",
   "id": "ebdae02c",
   "metadata": {},
   "source": [
    "## Simulate recommendations for a user"
   ]
  },
  {
   "cell_type": "markdown",
   "id": "233cd287",
   "metadata": {},
   "source": [
    "We will simulate the recommandations for a random user in order to test our algorithm:"
   ]
  },
  {
   "cell_type": "code",
   "execution_count": 4,
   "id": "54e2423b",
   "metadata": {},
   "outputs": [
    {
     "data": {
      "text/plain": [
       "array([4040, 5525,  314, ...,  408, 4010, 4636], shape=(2861,))"
      ]
     },
     "execution_count": 4,
     "metadata": {},
     "output_type": "execute_result"
    }
   ],
   "source": [
    "user_id = 1534\n",
    "recommendations, ground_truth = get_recommendations_and_ground_truth(user_id)\n",
    "recommendations"
   ]
  },
  {
   "cell_type": "markdown",
   "id": "4cb01f8a",
   "metadata": {},
   "source": [
    "So we can recommend videos for a given user, now let's evaluate that."
   ]
  },
  {
   "cell_type": "markdown",
   "id": "b343ea7e",
   "metadata": {},
   "source": [
    "## Evaluation"
   ]
  },
  {
   "cell_type": "markdown",
   "id": "22b24fa7",
   "metadata": {},
   "source": [
    "We will use the NDCG@K (Normalized Discounted Cumulative Gain) metric to evaluate our model.\n",
    "\n",
    "This metric is relevant for our case because it rewards placing relevant videos early in the recommendations."
   ]
  },
  {
   "cell_type": "code",
   "execution_count": 5,
   "id": "b65b4995",
   "metadata": {},
   "outputs": [
    {
     "name": "stderr",
     "output_type": "stream",
     "text": [
      "100%|██████████| 1354/1354 [00:54<00:00, 24.62it/s]\n"
     ]
    }
   ],
   "source": [
    "def evaluate_ndcg_at_10_over_all_users():\n",
    "    user_columns = [f\"avg_feat_{i}\" for i in range(31)] + [f\"avg_category_{i}\" for i in range(1, 40)]\n",
    "    video_columns = [\"video_duration\", \"trend_score\"] + [f\"feat_{i}\" for i in range(31)] + [f\"category_{i}\" for i in range(1, 40)]\n",
    "\n",
    "    ndcg_10_list = []\n",
    "\n",
    "    for user_id, group in tqdm(test_dataset.groupby(\"user_id\", sort=False)):\n",
    "        X_user = group[user_columns].to_numpy()\n",
    "        X_video = group[video_columns].to_numpy()\n",
    "        y_test = group[\"watch_ratio\"].to_numpy()\n",
    "\n",
    "        y_pred = model.predict((X_user, X_video), batch_size=512, verbose=False).flatten()\n",
    "        ndcg = ndcg_score([y_test], [y_pred], k=10)\n",
    "        ndcg_10_list.append(ndcg)\n",
    "    \n",
    "    return ndcg_10_list\n",
    "\n",
    "ndcg_10_list = evaluate_ndcg_at_10_over_all_users()"
   ]
  },
  {
   "cell_type": "markdown",
   "id": "026b0e29",
   "metadata": {},
   "source": [
    "Now that we computed the ndcg@10 score for all of our users, let's look at the stats:"
   ]
  },
  {
   "cell_type": "code",
   "execution_count": 6,
   "id": "dac69793",
   "metadata": {},
   "outputs": [
    {
     "name": "stdout",
     "output_type": "stream",
     "text": [
      "Mean ndcg@10 over all of the small_matrix users: 0.6027\n",
      "Median ndcg@10 over all of the small_matrix users: 0.6048\n",
      "Max ndcg@10 over all of the small_matrix users: 0.9926\n",
      "Min ndcg@10 over all of the small_matrix users: 0.0974\n"
     ]
    }
   ],
   "source": [
    "print(f\"Mean ndcg@10 over all of the small_matrix users: {np.mean(ndcg_10_list):.4f}\")\n",
    "print(f\"Median ndcg@10 over all of the small_matrix users: {np.median(ndcg_10_list):.4f}\")\n",
    "print(f\"Max ndcg@10 over all of the small_matrix users: {np.max(ndcg_10_list):.4f}\")\n",
    "print(f\"Min ndcg@10 over all of the small_matrix users: {np.min(ndcg_10_list):.4f}\")"
   ]
  },
  {
   "cell_type": "code",
   "execution_count": 7,
   "id": "53a2559f",
   "metadata": {},
   "outputs": [
    {
     "data": {
      "image/png": "[encoded data removed]",
      "text/plain": [
       "<Figure size 800x500 with 1 Axes>"
      ]
     },
     "metadata": {},
     "output_type": "display_data"
    }
   ],
   "source": [
    "plt.figure(figsize=(8, 5))\n",
    "plt.hist(ndcg_10_list, bins=30, edgecolor=\"black\", alpha=0.7)\n",
    "plt.title(\"Distribution of NDCG@10 Across All Users\")\n",
    "plt.xlabel(\"NDCG@10\")\n",
    "plt.ylabel(\"Number of Users\")\n",
    "plt.grid(True)\n",
    "plt.tight_layout()\n",
    "plt.show()"
   ]
  },
  {
   "cell_type": "markdown",
   "id": "607ee4e6",
   "metadata": {},
   "source": [
    "We can see that our NDCG scores are centered around 0.60, with a mean value almost equal to the median value.\n",
    "\n",
    "Our NDCG scores varry from 0.09 to 0.99, which shows that our recommendation system manages to be almost perfect for some users but completely fails with others. \n",
    "\n",
    "This may be due to a lack of data from these users, or simply users who do not have clear patterns in their video watching behavior.\n",
    "\n",
    "Another possibility is that our data engineering wasn't good enough to tackle the issue correctly."
   ]
  },
  {
   "cell_type": "markdown",
   "id": "26bf8744",
   "metadata": {},
   "source": [
    "### Comparing to our baseline"
   ]
  },
  {
   "cell_type": "markdown",
   "id": "66bcbcb1",
   "metadata": {},
   "source": [
    "Let's take our baseline which predicts for each video its average watch ratio, and compute its NDCG@10 scores accross all the users to compare."
   ]
  },
  {
   "cell_type": "code",
   "execution_count": 8,
   "id": "fa9c0bf7",
   "metadata": {},
   "outputs": [
    {
     "name": "stderr",
     "output_type": "stream",
     "text": [
      "100%|██████████| 1354/1354 [00:06<00:00, 204.85it/s]"
     ]
    },
    {
     "name": "stdout",
     "output_type": "stream",
     "text": [
      "Mean ndcg@10 over all of the small_matrix users: 0.4733\n",
      "Median ndcg@10 over all of the small_matrix users: 0.4713\n",
      "Max ndcg@10 over all of the small_matrix users: 0.7984\n",
      "Min ndcg@10 over all of the small_matrix users: 0.1444\n"
     ]
    },
    {
     "name": "stderr",
     "output_type": "stream",
     "text": [
      "\n"
     ]
    }
   ],
   "source": [
    "test_dataset[\"mean_watch_ratio\"] = test_dataset.groupby(\"video_id\")[\"watch_ratio\"].mean()\n",
    "\n",
    "def get_user_recommendation_data_baseline(user: int):\n",
    "    preds = np.array(test_dataset[test_dataset[\"user_id\"] == user][\"mean_watch_ratio\"].to_list())\n",
    "    user_mat = test_dataset[test_dataset[\"user_id\"] == user].reset_index(drop=True)\n",
    "    to_recommend_index = np.flip(preds.argsort())\n",
    "    to_recommend = user_mat[\"video_id\"][to_recommend_index].values\n",
    "    ground_truth_index = np.flip(user_mat[\"watch_ratio\"].values.argsort())\n",
    "    ground_truth = user_mat[\"video_id\"][ground_truth_index].values\n",
    "    return to_recommend, ground_truth\n",
    "\n",
    "ndcg_10_baseline_list = []\n",
    "\n",
    "for user_id, group in tqdm(test_dataset.groupby(\"user_id\", sort=False)):\n",
    "    y_pred, y_truth = get_user_recommendation_data_baseline(user_id)\n",
    "    ndcg = ndcg_score([y_truth], [y_pred], k=10)\n",
    "    ndcg_10_baseline_list.append(ndcg)\n",
    "\n",
    "print(f\"Mean ndcg@10 over all of the small_matrix users: {np.mean(ndcg_10_baseline_list):.4f}\")\n",
    "print(f\"Median ndcg@10 over all of the small_matrix users: {np.median(ndcg_10_baseline_list):.4f}\")\n",
    "print(f\"Max ndcg@10 over all of the small_matrix users: {np.max(ndcg_10_baseline_list):.4f}\")\n",
    "print(f\"Min ndcg@10 over all of the small_matrix users: {np.min(ndcg_10_baseline_list):.4f}\")"
   ]
  },
  {
   "cell_type": "markdown",
   "id": "e861a374",
   "metadata": {},
   "source": [
    "We can clearly see that this baseline has worse results than our recommendation system. It has worse mean, median and max values.\n",
    "\n",
    "This furthermore comforts the idea that our recommendation system is actually giving strong video recommendations to our users, basing its decisions on the user's preferences and the video's features."
   ]
  },
  {
   "cell_type": "markdown",
   "id": "86ce6cec",
   "metadata": {},
   "source": [
    "## Conclusion"
   ]
  },
  {
   "cell_type": "markdown",
   "id": "a873e99b",
   "metadata": {},
   "source": [
    "In this project, we successfully developed a complete and scalable recommendation system tailored to the KuaiRec dataset. Throughout the process, we encountered and addressed several real-world challenges typical of recommender systems, including working with highly sparse data: our training matrix had a density of only 16%, which is common in practical applications.\n",
    "\n",
    "While our system is not without its limitations and leaves room for future improvement, it achieved promising results, especially when benchmarked against a strong baseline and the NDCG@K metric. This indicates that our model effectively captures and responds to users preferences and behaviors when recommending videos.\n",
    "\n",
    "Beyond the technical achievements, this project has been a valuable learning experience. It deepened my understanding of recommender systems, large-scale data handling, and the importance of critical analysis and iterative testing. I learned the value of continuously evaluating and refining my solutions to ensure their reliability and relevance in real-world scenarios."
   ]
  }
 ],
 "metadata": {
  "kernelspec": {
   "display_name": "recommender",
   "language": "python",
   "name": "python3"
  },
  "language_info": {
   "codemirror_mode": {
    "name": "ipython",
    "version": 3
   },
   "file_extension": ".py",
   "mimetype": "text/x-python",
   "name": "python",
   "nbconvert_exporter": "python",
   "pygments_lexer": "ipython3",
   "version": "3.12.10"
  }
 },
 "nbformat": 4,
 "nbformat_minor": 5
}
