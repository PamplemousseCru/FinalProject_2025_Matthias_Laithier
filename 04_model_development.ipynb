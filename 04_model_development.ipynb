{
 "cells": [
  {
   "cell_type": "markdown",
   "id": "a1e76a15",
   "metadata": {},
   "source": [
    "# Imports"
   ]
  },
  {
   "cell_type": "code",
   "execution_count": 1,
   "id": "dd6c7a4d",
   "metadata": {},
   "outputs": [
    {
     "name": "stderr",
     "output_type": "stream",
     "text": [
      "2025-05-13 20:02:35.925018: E external/local_xla/xla/stream_executor/cuda/cuda_fft.cc:467] Unable to register cuFFT factory: Attempting to register factory for plugin cuFFT when one has already been registered\n",
      "WARNING: All log messages before absl::InitializeLog() is called are written to STDERR\n",
      "E0000 00:00:1747159355.936180   86722 cuda_dnn.cc:8579] Unable to register cuDNN factory: Attempting to register factory for plugin cuDNN when one has already been registered\n",
      "E0000 00:00:1747159355.939120   86722 cuda_blas.cc:1407] Unable to register cuBLAS factory: Attempting to register factory for plugin cuBLAS when one has already been registered\n",
      "W0000 00:00:1747159355.948119   86722 computation_placer.cc:177] computation placer already registered. Please check linkage and avoid linking the same target more than once.\n",
      "W0000 00:00:1747159355.948127   86722 computation_placer.cc:177] computation placer already registered. Please check linkage and avoid linking the same target more than once.\n",
      "W0000 00:00:1747159355.948128   86722 computation_placer.cc:177] computation placer already registered. Please check linkage and avoid linking the same target more than once.\n",
      "W0000 00:00:1747159355.948129   86722 computation_placer.cc:177] computation placer already registered. Please check linkage and avoid linking the same target more than once.\n",
      "2025-05-13 20:02:35.951202: I tensorflow/core/platform/cpu_feature_guard.cc:210] This TensorFlow binary is optimized to use available CPU instructions in performance-critical operations.\n",
      "To enable the following instructions: AVX2 AVX512F AVX512_VNNI AVX512_BF16 FMA, in other operations, rebuild TensorFlow with the appropriate compiler flags.\n"
     ]
    }
   ],
   "source": [
    "SEED = 42\n",
    "import numpy as np\n",
    "import warnings\n",
    "warnings.filterwarnings(\"ignore\")\n",
    "import os\n",
    "os.environ['TF_ENABLE_ONEDNN_OPTS'] = '0'\n",
    "os.environ['PYTHONHASHSEED'] = str(SEED)\n",
    "os.environ['TF_DETERMINISTIC_OPS'] = '1'\n",
    "os.environ['TF_CUDNN_DETERMINISTIC'] = '1'\n",
    "import random\n",
    "import pandas as pd\n",
    "import ast\n",
    "import tensorflow as tf\n",
    "from tensorflow import keras\n",
    "from tensorflow.keras import layers, models\n",
    "from sklearn.model_selection import train_test_split\n",
    "from sklearn.preprocessing import StandardScaler\n",
    "from sklearn.model_selection import train_test_split\n",
    "from sklearn.metrics import mean_absolute_error\n",
    "#######################################\n",
    "np.random.seed(SEED)\n",
    "random.seed(SEED)\n",
    "np.random.seed(SEED)\n",
    "tf.random.set_seed(SEED)"
   ]
  },
  {
   "cell_type": "markdown",
   "id": "3a303ac6",
   "metadata": {},
   "source": [
    "# Loading the data"
   ]
  },
  {
   "cell_type": "code",
   "execution_count": 2,
   "id": "a0140b87",
   "metadata": {},
   "outputs": [],
   "source": [
    "root = \"data_final_project/KuaiRec 2.0/data/\"\n",
    "train_data = pd.read_parquet(\"./exports/train_data_feature_engineered.pq\")\n",
    "test_data = pd.read_parquet(\"./exports/test_data_feature_engineered.pq\")"
   ]
  },
  {
   "cell_type": "code",
   "execution_count": 3,
   "id": "fd777aca",
   "metadata": {},
   "outputs": [
    {
     "data": {
      "application/vnd.microsoft.datawrangler.viewer.v0+json": {
       "columns": [
        {
         "name": "index",
         "rawType": "int64",
         "type": "integer"
        },
        {
         "name": "user_id",
         "rawType": "int64",
         "type": "integer"
        },
        {
         "name": "video_duration",
         "rawType": "int64",
         "type": "integer"
        },
        {
         "name": "watch_ratio",
         "rawType": "float64",
         "type": "float"
        },
        {
         "name": "feat_12",
         "rawType": "int64",
         "type": "integer"
        },
        {
         "name": "show_cnt",
         "rawType": "float64",
         "type": "float"
        },
        {
         "name": "valid_play_cnt",
         "rawType": "float64",
         "type": "float"
        },
        {
         "name": "follow_cnt",
         "rawType": "float64",
         "type": "float"
        },
        {
         "name": "cancel_follow_cnt",
         "rawType": "float64",
         "type": "float"
        },
        {
         "name": "user_cum_avg_watch_ratio",
         "rawType": "float64",
         "type": "float"
        },
        {
         "name": "video_cum_avg_watch_ratio",
         "rawType": "float64",
         "type": "float"
        },
        {
         "name": "cumulative_avg_watch_ratio",
         "rawType": "float64",
         "type": "float"
        },
        {
         "name": "friend_watch_ratio",
         "rawType": "float64",
         "type": "float"
        }
       ],
       "conversionMethod": "pd.DataFrame",
       "ref": "6bd355f1-575f-46b3-906e-481500c4617e",
       "rows": [
        [
         "4496404",
         "3292",
         "7000",
         "0.9601428571428572",
         "0",
         "1122549.0",
         "603953.0",
         "1125.0",
         "0.0",
         "0.8185460857144107",
         "1.0102356209299148",
         "0.8282768498659353",
         "1.0102356209299148"
        ],
        [
         "9290251",
         "6802",
         "8600",
         "1.2602325581395348",
         "0",
         "0.0",
         "0.0",
         "0.0",
         "0.0",
         "1.1406365706955517",
         "0.9221099591061175",
         "1.2602325581395348",
         "0.7284883720930233"
        ],
        [
         "6632732",
         "4807",
         "9140",
         "1.1711159737417942",
         "0",
         "275807.0",
         "119066.0",
         "917.0",
         "0.0",
         "0.8377629430196217",
         "0.9007823452469285",
         "0.9917905786175044",
         "0.9007823452469285"
        ],
        [
         "9236339",
         "6770",
         "5943",
         "0.4743395591452128",
         "0",
         "7033.0",
         "4815.0",
         "0.0",
         "0.0",
         "0.8033859553731227",
         "1.2718821434104677",
         "0.8716788028448833",
         "1.2718821434104677"
        ],
        [
         "9379302",
         "6867",
         "8213",
         "0.2651893339827103",
         "0",
         "0.0",
         "0.0",
         "0.0",
         "0.0",
         "0.7444412636213659",
         "1.0332433885681918",
         "0.8364358607702688",
         "1.0332433885681918"
        ]
       ],
       "shape": {
        "columns": 12,
        "rows": 5
       }
      },
      "text/html": [
       "<div>\n",
       "<style scoped>\n",
       "    .dataframe tbody tr th:only-of-type {\n",
       "        vertical-align: middle;\n",
       "    }\n",
       "\n",
       "    .dataframe tbody tr th {\n",
       "        vertical-align: top;\n",
       "    }\n",
       "\n",
       "    .dataframe thead th {\n",
       "        text-align: right;\n",
       "    }\n",
       "</style>\n",
       "<table border=\"1\" class=\"dataframe\">\n",
       "  <thead>\n",
       "    <tr style=\"text-align: right;\">\n",
       "      <th></th>\n",
       "      <th>user_id</th>\n",
       "      <th>video_duration</th>\n",
       "      <th>watch_ratio</th>\n",
       "      <th>feat_12</th>\n",
       "      <th>show_cnt</th>\n",
       "      <th>valid_play_cnt</th>\n",
       "      <th>follow_cnt</th>\n",
       "      <th>cancel_follow_cnt</th>\n",
       "      <th>user_cum_avg_watch_ratio</th>\n",
       "      <th>video_cum_avg_watch_ratio</th>\n",
       "      <th>cumulative_avg_watch_ratio</th>\n",
       "      <th>friend_watch_ratio</th>\n",
       "    </tr>\n",
       "  </thead>\n",
       "  <tbody>\n",
       "    <tr>\n",
       "      <th>4496404</th>\n",
       "      <td>3292</td>\n",
       "      <td>7000</td>\n",
       "      <td>0.960143</td>\n",
       "      <td>0</td>\n",
       "      <td>1122549.0</td>\n",
       "      <td>603953.0</td>\n",
       "      <td>1125.0</td>\n",
       "      <td>0.0</td>\n",
       "      <td>0.818546</td>\n",
       "      <td>1.010236</td>\n",
       "      <td>0.828277</td>\n",
       "      <td>1.010236</td>\n",
       "    </tr>\n",
       "    <tr>\n",
       "      <th>9290251</th>\n",
       "      <td>6802</td>\n",
       "      <td>8600</td>\n",
       "      <td>1.260233</td>\n",
       "      <td>0</td>\n",
       "      <td>0.0</td>\n",
       "      <td>0.0</td>\n",
       "      <td>0.0</td>\n",
       "      <td>0.0</td>\n",
       "      <td>1.140637</td>\n",
       "      <td>0.922110</td>\n",
       "      <td>1.260233</td>\n",
       "      <td>0.728488</td>\n",
       "    </tr>\n",
       "    <tr>\n",
       "      <th>6632732</th>\n",
       "      <td>4807</td>\n",
       "      <td>9140</td>\n",
       "      <td>1.171116</td>\n",
       "      <td>0</td>\n",
       "      <td>275807.0</td>\n",
       "      <td>119066.0</td>\n",
       "      <td>917.0</td>\n",
       "      <td>0.0</td>\n",
       "      <td>0.837763</td>\n",
       "      <td>0.900782</td>\n",
       "      <td>0.991791</td>\n",
       "      <td>0.900782</td>\n",
       "    </tr>\n",
       "    <tr>\n",
       "      <th>9236339</th>\n",
       "      <td>6770</td>\n",
       "      <td>5943</td>\n",
       "      <td>0.474340</td>\n",
       "      <td>0</td>\n",
       "      <td>7033.0</td>\n",
       "      <td>4815.0</td>\n",
       "      <td>0.0</td>\n",
       "      <td>0.0</td>\n",
       "      <td>0.803386</td>\n",
       "      <td>1.271882</td>\n",
       "      <td>0.871679</td>\n",
       "      <td>1.271882</td>\n",
       "    </tr>\n",
       "    <tr>\n",
       "      <th>9379302</th>\n",
       "      <td>6867</td>\n",
       "      <td>8213</td>\n",
       "      <td>0.265189</td>\n",
       "      <td>0</td>\n",
       "      <td>0.0</td>\n",
       "      <td>0.0</td>\n",
       "      <td>0.0</td>\n",
       "      <td>0.0</td>\n",
       "      <td>0.744441</td>\n",
       "      <td>1.033243</td>\n",
       "      <td>0.836436</td>\n",
       "      <td>1.033243</td>\n",
       "    </tr>\n",
       "  </tbody>\n",
       "</table>\n",
       "</div>"
      ],
      "text/plain": [
       "         user_id  video_duration  watch_ratio  feat_12   show_cnt  \\\n",
       "4496404     3292            7000     0.960143        0  1122549.0   \n",
       "9290251     6802            8600     1.260233        0        0.0   \n",
       "6632732     4807            9140     1.171116        0   275807.0   \n",
       "9236339     6770            5943     0.474340        0     7033.0   \n",
       "9379302     6867            8213     0.265189        0        0.0   \n",
       "\n",
       "         valid_play_cnt  follow_cnt  cancel_follow_cnt  \\\n",
       "4496404        603953.0      1125.0                0.0   \n",
       "9290251             0.0         0.0                0.0   \n",
       "6632732        119066.0       917.0                0.0   \n",
       "9236339          4815.0         0.0                0.0   \n",
       "9379302             0.0         0.0                0.0   \n",
       "\n",
       "         user_cum_avg_watch_ratio  video_cum_avg_watch_ratio  \\\n",
       "4496404                  0.818546                   1.010236   \n",
       "9290251                  1.140637                   0.922110   \n",
       "6632732                  0.837763                   0.900782   \n",
       "9236339                  0.803386                   1.271882   \n",
       "9379302                  0.744441                   1.033243   \n",
       "\n",
       "         cumulative_avg_watch_ratio  friend_watch_ratio  \n",
       "4496404                    0.828277            1.010236  \n",
       "9290251                    1.260233            0.728488  \n",
       "6632732                    0.991791            0.900782  \n",
       "9236339                    0.871679            1.271882  \n",
       "9379302                    0.836436            1.033243  "
      ]
     },
     "execution_count": 3,
     "metadata": {},
     "output_type": "execute_result"
    }
   ],
   "source": [
    "train_data.sample(5, random_state=SEED)"
   ]
  },
  {
   "cell_type": "code",
   "execution_count": 4,
   "id": "eb0d2eee",
   "metadata": {},
   "outputs": [],
   "source": [
    "def to_dataset(df: pd.DataFrame) -> pd.DataFrame:\n",
    "    target = \"watch_ratio\"\n",
    "    exclude = [\"user_id\", target]\n",
    "    features = [col for col in df.columns if col not in exclude]\n",
    "    X, y = df[features].values, df[target].values\n",
    "    return X, y\n",
    "\n",
    "X_train, y_train = to_dataset(train_data)\n",
    "X_train, X_val, y_train, y_val = train_test_split(X_train, y_train, test_size=0.1, random_state=SEED)\n",
    "X_test, y_test = to_dataset(test_data)\n",
    "\n",
    "scaler = StandardScaler()\n",
    "X_train = scaler.fit_transform(X_train)\n",
    "X_val = scaler.transform(X_val)\n",
    "X_test = scaler.transform(X_test)"
   ]
  },
  {
   "cell_type": "code",
   "execution_count": 5,
   "id": "be7c28b1",
   "metadata": {},
   "outputs": [
    {
     "name": "stderr",
     "output_type": "stream",
     "text": [
      "I0000 00:00:1747159360.264457   86722 gpu_device.cc:2019] Created device /job:localhost/replica:0/task:0/device:GPU:0 with 13466 MB memory:  -> device: 0, name: NVIDIA GeForce RTX 4080 SUPER, pci bus id: 0000:01:00.0, compute capability: 8.9\n"
     ]
    }
   ],
   "source": [
    "model = models.Sequential([\n",
    "    layers.Input(shape=(X_train.shape[1],)),\n",
    "\n",
    "    layers.Dense(256, activation='relu'),\n",
    "    layers.BatchNormalization(),\n",
    "    layers.Dropout(0.2),\n",
    "\n",
    "    layers.Dense(128, activation='relu'),\n",
    "    layers.BatchNormalization(),\n",
    "    layers.Dropout(0.2),\n",
    "\n",
    "    layers.Dense(128, activation='relu'),\n",
    "    layers.Dense(1)\n",
    "])"
   ]
  },
  {
   "cell_type": "code",
   "execution_count": 6,
   "id": "ce417b98",
   "metadata": {},
   "outputs": [
    {
     "name": "stdout",
     "output_type": "stream",
     "text": [
      "Epoch 1/10\n"
     ]
    },
    {
     "name": "stderr",
     "output_type": "stream",
     "text": [
      "2025-05-13 20:02:41.422409: E tensorflow/core/framework/node_def_util.cc:680] NodeDef mentions attribute use_unbounded_threadpool which is not in the op definition: Op<name=MapDataset; signature=input_dataset:variant, other_arguments: -> handle:variant; attr=f:func; attr=Targuments:list(type),min=0; attr=output_types:list(type),min=1; attr=output_shapes:list(shape),min=1; attr=use_inter_op_parallelism:bool,default=true; attr=preserve_cardinality:bool,default=false; attr=force_synchronous:bool,default=false; attr=metadata:string,default=\"\"> This may be expected if your graph generating binary is newer  than this binary. Unknown attributes will be ignored. NodeDef: {{node ParallelMapDatasetV2/_15}}\n"
     ]
    },
    {
     "name": "stdout",
     "output_type": "stream",
     "text": [
      "\u001b[1m8597/8601\u001b[0m \u001b[32m━━━━━━━━━━━━━━━━━━━\u001b[0m\u001b[37m━\u001b[0m \u001b[1m0s\u001b[0m 2ms/step - loss: 0.4493 - mae: 0.4601"
     ]
    },
    {
     "name": "stderr",
     "output_type": "stream",
     "text": [
      "2025-05-13 20:02:59.842458: E tensorflow/core/framework/node_def_util.cc:680] NodeDef mentions attribute use_unbounded_threadpool which is not in the op definition: Op<name=MapDataset; signature=input_dataset:variant, other_arguments: -> handle:variant; attr=f:func; attr=Targuments:list(type),min=0; attr=output_types:list(type),min=1; attr=output_shapes:list(shape),min=1; attr=use_inter_op_parallelism:bool,default=true; attr=preserve_cardinality:bool,default=false; attr=force_synchronous:bool,default=false; attr=metadata:string,default=\"\"> This may be expected if your graph generating binary is newer  than this binary. Unknown attributes will be ignored. NodeDef: {{node ParallelMapDatasetV2/_15}}\n"
     ]
    },
    {
     "name": "stdout",
     "output_type": "stream",
     "text": [
      "\u001b[1m8601/8601\u001b[0m \u001b[32m━━━━━━━━━━━━━━━━━━━━\u001b[0m\u001b[37m\u001b[0m \u001b[1m19s\u001b[0m 2ms/step - loss: 0.4493 - mae: 0.4601 - val_loss: 0.3621 - val_mae: 0.3960\n",
      "Epoch 2/10\n",
      "\u001b[1m8601/8601\u001b[0m \u001b[32m━━━━━━━━━━━━━━━━━━━━\u001b[0m\u001b[37m\u001b[0m \u001b[1m18s\u001b[0m 2ms/step - loss: 0.3653 - mae: 0.4062 - val_loss: 0.3604 - val_mae: 0.3952\n",
      "Epoch 3/10\n",
      "\u001b[1m8601/8601\u001b[0m \u001b[32m━━━━━━━━━━━━━━━━━━━━\u001b[0m\u001b[37m\u001b[0m \u001b[1m19s\u001b[0m 2ms/step - loss: 0.3626 - mae: 0.4033 - val_loss: 0.3608 - val_mae: 0.3959\n",
      "Epoch 4/10\n",
      "\u001b[1m8601/8601\u001b[0m \u001b[32m━━━━━━━━━━━━━━━━━━━━\u001b[0m\u001b[37m\u001b[0m \u001b[1m18s\u001b[0m 2ms/step - loss: 0.3617 - mae: 0.4022 - val_loss: 0.3606 - val_mae: 0.3961\n",
      "Epoch 5/10\n",
      "\u001b[1m8601/8601\u001b[0m \u001b[32m━━━━━━━━━━━━━━━━━━━━\u001b[0m\u001b[37m\u001b[0m \u001b[1m18s\u001b[0m 2ms/step - loss: 0.3611 - mae: 0.4015 - val_loss: 0.3602 - val_mae: 0.3965\n",
      "Epoch 6/10\n",
      "\u001b[1m8601/8601\u001b[0m \u001b[32m━━━━━━━━━━━━━━━━━━━━\u001b[0m\u001b[37m\u001b[0m \u001b[1m18s\u001b[0m 2ms/step - loss: 0.3608 - mae: 0.4011 - val_loss: 0.3601 - val_mae: 0.3966\n",
      "Epoch 7/10\n",
      "\u001b[1m8601/8601\u001b[0m \u001b[32m━━━━━━━━━━━━━━━━━━━━\u001b[0m\u001b[37m\u001b[0m \u001b[1m18s\u001b[0m 2ms/step - loss: 0.3605 - mae: 0.4008 - val_loss: 0.3600 - val_mae: 0.3964\n",
      "Epoch 8/10\n",
      "\u001b[1m8601/8601\u001b[0m \u001b[32m━━━━━━━━━━━━━━━━━━━━\u001b[0m\u001b[37m\u001b[0m \u001b[1m18s\u001b[0m 2ms/step - loss: 0.3603 - mae: 0.4006 - val_loss: 0.3602 - val_mae: 0.3966\n",
      "Epoch 9/10\n",
      "\u001b[1m8601/8601\u001b[0m \u001b[32m━━━━━━━━━━━━━━━━━━━━\u001b[0m\u001b[37m\u001b[0m \u001b[1m18s\u001b[0m 2ms/step - loss: 0.3602 - mae: 0.4004 - val_loss: 0.3601 - val_mae: 0.3967\n",
      "Epoch 10/10\n",
      "\u001b[1m8601/8601\u001b[0m \u001b[32m━━━━━━━━━━━━━━━━━━━━\u001b[0m\u001b[37m\u001b[0m \u001b[1m18s\u001b[0m 2ms/step - loss: 0.3600 - mae: 0.4002 - val_loss: 0.3597 - val_mae: 0.3971\n"
     ]
    }
   ],
   "source": [
    "model.compile(\n",
    "    optimizer=tf.keras.optimizers.Adam(learning_rate=1e-4),\n",
    "    loss='mean_squared_error',\n",
    "    metrics=['mae']\n",
    ")\n",
    "\n",
    "history = model.fit(\n",
    "    X_train, y_train,\n",
    "    validation_data=(X_val, y_val),\n",
    "    epochs=10,\n",
    "    batch_size=1024,\n",
    "    callbacks=[keras.callbacks.EarlyStopping(patience=8, restore_best_weights=True)]\n",
    ")"
   ]
  },
  {
   "cell_type": "code",
   "execution_count": 7,
   "id": "d22e0a37",
   "metadata": {},
   "outputs": [
    {
     "name": "stdout",
     "output_type": "stream",
     "text": [
      "Baseline MAE: 0.4230\n"
     ]
    }
   ],
   "source": [
    "baseline_predictions = np.full_like(y_test, np.mean(y_test), dtype=np.float32)\n",
    "baseline_test_mae = np.mean(np.abs(baseline_predictions - y_test))\n",
    "print(f\"Baseline MAE: {baseline_test_mae:.4f}\")"
   ]
  },
  {
   "cell_type": "markdown",
   "id": "fc00bf59",
   "metadata": {},
   "source": [
    "### EVALUATE THE MODEL"
   ]
  },
  {
   "cell_type": "code",
   "execution_count": 8,
   "id": "d3533050",
   "metadata": {},
   "outputs": [
    {
     "name": "stdout",
     "output_type": "stream",
     "text": [
      "\u001b[1m 334/1890\u001b[0m \u001b[32m━━━\u001b[0m\u001b[37m━━━━━━━━━━━━━━━━━\u001b[0m \u001b[1m0s\u001b[0m 452us/step"
     ]
    },
    {
     "name": "stderr",
     "output_type": "stream",
     "text": [
      "2025-05-13 20:05:43.904770: E tensorflow/core/framework/node_def_util.cc:680] NodeDef mentions attribute use_unbounded_threadpool which is not in the op definition: Op<name=MapDataset; signature=input_dataset:variant, other_arguments: -> handle:variant; attr=f:func; attr=Targuments:list(type),min=0; attr=output_types:list(type),min=1; attr=output_shapes:list(shape),min=1; attr=use_inter_op_parallelism:bool,default=true; attr=preserve_cardinality:bool,default=false; attr=force_synchronous:bool,default=false; attr=metadata:string,default=\"\"> This may be expected if your graph generating binary is newer  than this binary. Unknown attributes will be ignored. NodeDef: {{node ParallelMapDatasetV2/_14}}\n"
     ]
    },
    {
     "name": "stdout",
     "output_type": "stream",
     "text": [
      "\u001b[1m1890/1890\u001b[0m \u001b[32m━━━━━━━━━━━━━━━━━━━━\u001b[0m\u001b[37m\u001b[0m \u001b[1m1s\u001b[0m 479us/step\n",
      "Model MAE: 0.3013\n"
     ]
    }
   ],
   "source": [
    "y_pred = model.predict(X_test, batch_size=2048).flatten()\n",
    "mae = mean_absolute_error(y_test, y_pred)\n",
    "print(f\"Model MAE: {mae:.4f}\")"
   ]
  },
  {
   "cell_type": "code",
   "execution_count": 10,
   "id": "f516f7f8",
   "metadata": {},
   "outputs": [
    {
     "name": "stdout",
     "output_type": "stream",
     "text": [
      "           actual  predicted\n",
      "1368882  0.099968   0.719875\n",
      "2669510  0.142961   0.164430\n",
      "2995806  1.526053   1.124395\n",
      "556239   0.618283   1.069494\n",
      "105496   0.997921   1.074542\n",
      "1020242  0.967097   0.868689\n",
      "2744890  1.187240   1.175679\n",
      "142460   0.883650   0.942452\n",
      "590581   1.384375   1.160124\n",
      "3532687  1.122799   0.801645\n"
     ]
    }
   ],
   "source": [
    "sample_df = pd.DataFrame({\"actual\": y_test, \"predicted\": y_pred}).sample(10, random_state=SEED)\n",
    "print(sample_df)"
   ]
  }
 ],
 "metadata": {
  "kernelspec": {
   "display_name": "recommender",
   "language": "python",
   "name": "python3"
  },
  "language_info": {
   "codemirror_mode": {
    "name": "ipython",
    "version": 3
   },
   "file_extension": ".py",
   "mimetype": "text/x-python",
   "name": "python",
   "nbconvert_exporter": "python",
   "pygments_lexer": "ipython3",
   "version": "3.12.10"
  }
 },
 "nbformat": 4,
 "nbformat_minor": 5
}
