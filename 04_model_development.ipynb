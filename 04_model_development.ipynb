{
 "cells": [
  {
   "cell_type": "markdown",
   "id": "a1e76a15",
   "metadata": {},
   "source": [
    "# Imports"
   ]
  },
  {
   "cell_type": "code",
   "execution_count": 1,
   "id": "dd6c7a4d",
   "metadata": {},
   "outputs": [
    {
     "name": "stderr",
     "output_type": "stream",
     "text": [
      "2025-05-14 00:15:04.785024: E external/local_xla/xla/stream_executor/cuda/cuda_fft.cc:467] Unable to register cuFFT factory: Attempting to register factory for plugin cuFFT when one has already been registered\n",
      "WARNING: All log messages before absl::InitializeLog() is called are written to STDERR\n",
      "E0000 00:00:1747174504.794856  351437 cuda_dnn.cc:8579] Unable to register cuDNN factory: Attempting to register factory for plugin cuDNN when one has already been registered\n",
      "E0000 00:00:1747174504.797763  351437 cuda_blas.cc:1407] Unable to register cuBLAS factory: Attempting to register factory for plugin cuBLAS when one has already been registered\n",
      "W0000 00:00:1747174504.805973  351437 computation_placer.cc:177] computation placer already registered. Please check linkage and avoid linking the same target more than once.\n",
      "W0000 00:00:1747174504.805991  351437 computation_placer.cc:177] computation placer already registered. Please check linkage and avoid linking the same target more than once.\n",
      "W0000 00:00:1747174504.805992  351437 computation_placer.cc:177] computation placer already registered. Please check linkage and avoid linking the same target more than once.\n",
      "W0000 00:00:1747174504.805993  351437 computation_placer.cc:177] computation placer already registered. Please check linkage and avoid linking the same target more than once.\n",
      "2025-05-14 00:15:04.808928: I tensorflow/core/platform/cpu_feature_guard.cc:210] This TensorFlow binary is optimized to use available CPU instructions in performance-critical operations.\n",
      "To enable the following instructions: AVX2 AVX512F AVX512_VNNI AVX512_BF16 FMA, in other operations, rebuild TensorFlow with the appropriate compiler flags.\n"
     ]
    }
   ],
   "source": [
    "SEED = 42\n",
    "import numpy as np\n",
    "import warnings\n",
    "warnings.filterwarnings(\"ignore\")\n",
    "import os\n",
    "os.environ['TF_ENABLE_ONEDNN_OPTS'] = '0'\n",
    "os.environ['PYTHONHASHSEED'] = str(SEED)\n",
    "os.environ['TF_DETERMINISTIC_OPS'] = '1'\n",
    "os.environ['TF_CUDNN_DETERMINISTIC'] = '1'\n",
    "import random\n",
    "import pandas as pd\n",
    "import ast\n",
    "import tensorflow as tf\n",
    "from tensorflow import keras\n",
    "from tensorflow.keras import layers, models\n",
    "from sklearn.model_selection import train_test_split\n",
    "from sklearn.preprocessing import StandardScaler\n",
    "from sklearn.model_selection import train_test_split\n",
    "from sklearn.metrics import mean_absolute_error\n",
    "#######################################\n",
    "np.random.seed(SEED)\n",
    "random.seed(SEED)\n",
    "np.random.seed(SEED)\n",
    "tf.random.set_seed(SEED)"
   ]
  },
  {
   "cell_type": "markdown",
   "id": "3a303ac6",
   "metadata": {},
   "source": [
    "# Loading the data"
   ]
  },
  {
   "cell_type": "code",
   "execution_count": 2,
   "id": "a0140b87",
   "metadata": {},
   "outputs": [],
   "source": [
    "root = \"data_final_project/KuaiRec 2.0/data/\"\n",
    "train_data = pd.read_parquet(\"./exports/train_data_feature_engineered.pq\")\n",
    "test_data = pd.read_parquet(\"./exports/test_data_feature_engineered.pq\")"
   ]
  },
  {
   "cell_type": "code",
   "execution_count": 3,
   "id": "fd777aca",
   "metadata": {},
   "outputs": [
    {
     "data": {
      "application/vnd.microsoft.datawrangler.viewer.v0+json": {
       "columns": [
        {
         "name": "index",
         "rawType": "int64",
         "type": "integer"
        },
        {
         "name": "user_id",
         "rawType": "int64",
         "type": "integer"
        },
        {
         "name": "video_id",
         "rawType": "int64",
         "type": "integer"
        },
        {
         "name": "video_duration",
         "rawType": "int64",
         "type": "integer"
        },
        {
         "name": "watch_ratio",
         "rawType": "float64",
         "type": "float"
        },
        {
         "name": "feat_12",
         "rawType": "int64",
         "type": "integer"
        },
        {
         "name": "show_cnt",
         "rawType": "float64",
         "type": "float"
        },
        {
         "name": "valid_play_cnt",
         "rawType": "float64",
         "type": "float"
        },
        {
         "name": "follow_cnt",
         "rawType": "float64",
         "type": "float"
        },
        {
         "name": "cancel_follow_cnt",
         "rawType": "float64",
         "type": "float"
        },
        {
         "name": "user_cum_avg_watch_ratio",
         "rawType": "float64",
         "type": "float"
        },
        {
         "name": "video_cum_avg_watch_ratio",
         "rawType": "float64",
         "type": "float"
        },
        {
         "name": "cumulative_avg_watch_ratio",
         "rawType": "float64",
         "type": "float"
        },
        {
         "name": "friend_watch_ratio",
         "rawType": "float64",
         "type": "float"
        }
       ],
       "conversionMethod": "pd.DataFrame",
       "ref": "a205a004-30d1-408c-ae04-0001fbb3da32",
       "rows": [
        [
         "4496404",
         "3292",
         "8728",
         "7000",
         "0.9601428571428572",
         "0",
         "1122549.0",
         "603953.0",
         "1125.0",
         "0.0",
         "0.8185460857144107",
         "1.0102356209299148",
         "0.8282768498659353",
         "1.0102356209299148"
        ],
        [
         "9290251",
         "6802",
         "3536",
         "8600",
         "1.2602325581395348",
         "0",
         "0.0",
         "0.0",
         "0.0",
         "0.0",
         "1.1406365706955517",
         "0.9221099591061175",
         "1.2602325581395348",
         "0.7284883720930233"
        ],
        [
         "6632732",
         "4807",
         "2412",
         "9140",
         "1.1711159737417942",
         "0",
         "275807.0",
         "119066.0",
         "917.0",
         "0.0",
         "0.8377629430196217",
         "0.9007823452469285",
         "0.9917905786175044",
         "0.9007823452469285"
        ],
        [
         "9236339",
         "6770",
         "4887",
         "5943",
         "0.4743395591452128",
         "0",
         "7033.0",
         "4815.0",
         "0.0",
         "0.0",
         "0.8033859553731227",
         "1.2718821434104677",
         "0.8716788028448833",
         "1.2718821434104677"
        ],
        [
         "9379302",
         "6867",
         "3772",
         "8213",
         "0.2651893339827103",
         "0",
         "0.0",
         "0.0",
         "0.0",
         "0.0",
         "0.7444412636213659",
         "1.0332433885681918",
         "0.8364358607702688",
         "1.0332433885681918"
        ]
       ],
       "shape": {
        "columns": 13,
        "rows": 5
       }
      },
      "text/html": [
       "<div>\n",
       "<style scoped>\n",
       "    .dataframe tbody tr th:only-of-type {\n",
       "        vertical-align: middle;\n",
       "    }\n",
       "\n",
       "    .dataframe tbody tr th {\n",
       "        vertical-align: top;\n",
       "    }\n",
       "\n",
       "    .dataframe thead th {\n",
       "        text-align: right;\n",
       "    }\n",
       "</style>\n",
       "<table border=\"1\" class=\"dataframe\">\n",
       "  <thead>\n",
       "    <tr style=\"text-align: right;\">\n",
       "      <th></th>\n",
       "      <th>user_id</th>\n",
       "      <th>video_id</th>\n",
       "      <th>video_duration</th>\n",
       "      <th>watch_ratio</th>\n",
       "      <th>feat_12</th>\n",
       "      <th>show_cnt</th>\n",
       "      <th>valid_play_cnt</th>\n",
       "      <th>follow_cnt</th>\n",
       "      <th>cancel_follow_cnt</th>\n",
       "      <th>user_cum_avg_watch_ratio</th>\n",
       "      <th>video_cum_avg_watch_ratio</th>\n",
       "      <th>cumulative_avg_watch_ratio</th>\n",
       "      <th>friend_watch_ratio</th>\n",
       "    </tr>\n",
       "  </thead>\n",
       "  <tbody>\n",
       "    <tr>\n",
       "      <th>4496404</th>\n",
       "      <td>3292</td>\n",
       "      <td>8728</td>\n",
       "      <td>7000</td>\n",
       "      <td>0.960143</td>\n",
       "      <td>0</td>\n",
       "      <td>1122549.0</td>\n",
       "      <td>603953.0</td>\n",
       "      <td>1125.0</td>\n",
       "      <td>0.0</td>\n",
       "      <td>0.818546</td>\n",
       "      <td>1.010236</td>\n",
       "      <td>0.828277</td>\n",
       "      <td>1.010236</td>\n",
       "    </tr>\n",
       "    <tr>\n",
       "      <th>9290251</th>\n",
       "      <td>6802</td>\n",
       "      <td>3536</td>\n",
       "      <td>8600</td>\n",
       "      <td>1.260233</td>\n",
       "      <td>0</td>\n",
       "      <td>0.0</td>\n",
       "      <td>0.0</td>\n",
       "      <td>0.0</td>\n",
       "      <td>0.0</td>\n",
       "      <td>1.140637</td>\n",
       "      <td>0.922110</td>\n",
       "      <td>1.260233</td>\n",
       "      <td>0.728488</td>\n",
       "    </tr>\n",
       "    <tr>\n",
       "      <th>6632732</th>\n",
       "      <td>4807</td>\n",
       "      <td>2412</td>\n",
       "      <td>9140</td>\n",
       "      <td>1.171116</td>\n",
       "      <td>0</td>\n",
       "      <td>275807.0</td>\n",
       "      <td>119066.0</td>\n",
       "      <td>917.0</td>\n",
       "      <td>0.0</td>\n",
       "      <td>0.837763</td>\n",
       "      <td>0.900782</td>\n",
       "      <td>0.991791</td>\n",
       "      <td>0.900782</td>\n",
       "    </tr>\n",
       "    <tr>\n",
       "      <th>9236339</th>\n",
       "      <td>6770</td>\n",
       "      <td>4887</td>\n",
       "      <td>5943</td>\n",
       "      <td>0.474340</td>\n",
       "      <td>0</td>\n",
       "      <td>7033.0</td>\n",
       "      <td>4815.0</td>\n",
       "      <td>0.0</td>\n",
       "      <td>0.0</td>\n",
       "      <td>0.803386</td>\n",
       "      <td>1.271882</td>\n",
       "      <td>0.871679</td>\n",
       "      <td>1.271882</td>\n",
       "    </tr>\n",
       "    <tr>\n",
       "      <th>9379302</th>\n",
       "      <td>6867</td>\n",
       "      <td>3772</td>\n",
       "      <td>8213</td>\n",
       "      <td>0.265189</td>\n",
       "      <td>0</td>\n",
       "      <td>0.0</td>\n",
       "      <td>0.0</td>\n",
       "      <td>0.0</td>\n",
       "      <td>0.0</td>\n",
       "      <td>0.744441</td>\n",
       "      <td>1.033243</td>\n",
       "      <td>0.836436</td>\n",
       "      <td>1.033243</td>\n",
       "    </tr>\n",
       "  </tbody>\n",
       "</table>\n",
       "</div>"
      ],
      "text/plain": [
       "         user_id  video_id  video_duration  watch_ratio  feat_12   show_cnt  \\\n",
       "4496404     3292      8728            7000     0.960143        0  1122549.0   \n",
       "9290251     6802      3536            8600     1.260233        0        0.0   \n",
       "6632732     4807      2412            9140     1.171116        0   275807.0   \n",
       "9236339     6770      4887            5943     0.474340        0     7033.0   \n",
       "9379302     6867      3772            8213     0.265189        0        0.0   \n",
       "\n",
       "         valid_play_cnt  follow_cnt  cancel_follow_cnt  \\\n",
       "4496404        603953.0      1125.0                0.0   \n",
       "9290251             0.0         0.0                0.0   \n",
       "6632732        119066.0       917.0                0.0   \n",
       "9236339          4815.0         0.0                0.0   \n",
       "9379302             0.0         0.0                0.0   \n",
       "\n",
       "         user_cum_avg_watch_ratio  video_cum_avg_watch_ratio  \\\n",
       "4496404                  0.818546                   1.010236   \n",
       "9290251                  1.140637                   0.922110   \n",
       "6632732                  0.837763                   0.900782   \n",
       "9236339                  0.803386                   1.271882   \n",
       "9379302                  0.744441                   1.033243   \n",
       "\n",
       "         cumulative_avg_watch_ratio  friend_watch_ratio  \n",
       "4496404                    0.828277            1.010236  \n",
       "9290251                    1.260233            0.728488  \n",
       "6632732                    0.991791            0.900782  \n",
       "9236339                    0.871679            1.271882  \n",
       "9379302                    0.836436            1.033243  "
      ]
     },
     "execution_count": 3,
     "metadata": {},
     "output_type": "execute_result"
    }
   ],
   "source": [
    "train_data.sample(5, random_state=SEED)"
   ]
  },
  {
   "cell_type": "code",
   "execution_count": 4,
   "id": "eb0d2eee",
   "metadata": {},
   "outputs": [],
   "source": [
    "def to_dataset(df: pd.DataFrame) -> tuple[np.ndarray, np.ndarray, np.ndarray]:\n",
    "    target = \"watch_ratio\"\n",
    "    exclude = [\"user_id\", \"video_id\", target]\n",
    "    features = [col for col in df.columns if col not in exclude]\n",
    "    X, y = df[features].values, df[target].values\n",
    "    return X, y, df[\"video_id\"].values\n",
    "\n",
    "X_train, y_train, _ = to_dataset(train_data)\n",
    "X_train, X_val, y_train, y_val = train_test_split(X_train, y_train, test_size=0.1, random_state=SEED)\n",
    "X_test, y_test, _ = to_dataset(test_data)\n",
    "\n",
    "scaler = StandardScaler()\n",
    "X_train = scaler.fit_transform(X_train)\n",
    "X_val = scaler.transform(X_val)\n",
    "X_test = scaler.transform(X_test)"
   ]
  },
  {
   "cell_type": "code",
   "execution_count": 5,
   "id": "be7c28b1",
   "metadata": {},
   "outputs": [
    {
     "name": "stderr",
     "output_type": "stream",
     "text": [
      "I0000 00:00:1747174508.922358  351437 gpu_device.cc:2019] Created device /job:localhost/replica:0/task:0/device:GPU:0 with 13424 MB memory:  -> device: 0, name: NVIDIA GeForce RTX 4080 SUPER, pci bus id: 0000:01:00.0, compute capability: 8.9\n"
     ]
    }
   ],
   "source": [
    "model = models.Sequential([\n",
    "    layers.Input(shape=(X_train.shape[1],)),\n",
    "\n",
    "    layers.Dense(256, activation='relu'),\n",
    "    layers.BatchNormalization(),\n",
    "    layers.Dropout(0.4),\n",
    "\n",
    "    layers.Dense(128, activation='relu'),\n",
    "    layers.BatchNormalization(),\n",
    "    layers.Dropout(0.4),\n",
    "\n",
    "    layers.Dense(128, activation='relu'),\n",
    "    layers.Dense(1)\n",
    "])"
   ]
  },
  {
   "cell_type": "code",
   "execution_count": 6,
   "id": "ce417b98",
   "metadata": {},
   "outputs": [
    {
     "name": "stdout",
     "output_type": "stream",
     "text": [
      "Epoch 1/10\n"
     ]
    },
    {
     "name": "stderr",
     "output_type": "stream",
     "text": [
      "2025-05-14 00:15:10.113242: E tensorflow/core/framework/node_def_util.cc:680] NodeDef mentions attribute use_unbounded_threadpool which is not in the op definition: Op<name=MapDataset; signature=input_dataset:variant, other_arguments: -> handle:variant; attr=f:func; attr=Targuments:list(type),min=0; attr=output_types:list(type),min=1; attr=output_shapes:list(shape),min=1; attr=use_inter_op_parallelism:bool,default=true; attr=preserve_cardinality:bool,default=false; attr=force_synchronous:bool,default=false; attr=metadata:string,default=\"\"> This may be expected if your graph generating binary is newer  than this binary. Unknown attributes will be ignored. NodeDef: {{node ParallelMapDatasetV2/_15}}\n"
     ]
    },
    {
     "name": "stdout",
     "output_type": "stream",
     "text": [
      "\u001b[1m4279/4301\u001b[0m \u001b[32m━━━━━━━━━━━━━━━━━━━\u001b[0m\u001b[37m━\u001b[0m \u001b[1m0s\u001b[0m 2ms/step - loss: 0.5856 - mae: 0.5253"
     ]
    },
    {
     "name": "stderr",
     "output_type": "stream",
     "text": [
      "2025-05-14 00:15:20.133126: E tensorflow/core/framework/node_def_util.cc:680] NodeDef mentions attribute use_unbounded_threadpool which is not in the op definition: Op<name=MapDataset; signature=input_dataset:variant, other_arguments: -> handle:variant; attr=f:func; attr=Targuments:list(type),min=0; attr=output_types:list(type),min=1; attr=output_shapes:list(shape),min=1; attr=use_inter_op_parallelism:bool,default=true; attr=preserve_cardinality:bool,default=false; attr=force_synchronous:bool,default=false; attr=metadata:string,default=\"\"> This may be expected if your graph generating binary is newer  than this binary. Unknown attributes will be ignored. NodeDef: {{node ParallelMapDatasetV2/_15}}\n"
     ]
    },
    {
     "name": "stdout",
     "output_type": "stream",
     "text": [
      "\u001b[1m4301/4301\u001b[0m \u001b[32m━━━━━━━━━━━━━━━━━━━━\u001b[0m\u001b[37m\u001b[0m \u001b[1m11s\u001b[0m 2ms/step - loss: 0.5849 - mae: 0.5250 - val_loss: 0.3801 - val_mae: 0.4055\n",
      "Epoch 2/10\n",
      "\u001b[1m4301/4301\u001b[0m \u001b[32m━━━━━━━━━━━━━━━━━━━━\u001b[0m\u001b[37m\u001b[0m \u001b[1m9s\u001b[0m 2ms/step - loss: 0.3735 - mae: 0.4149 - val_loss: 0.3716 - val_mae: 0.4006\n",
      "Epoch 3/10\n",
      "\u001b[1m4301/4301\u001b[0m \u001b[32m━━━━━━━━━━━━━━━━━━━━\u001b[0m\u001b[37m\u001b[0m \u001b[1m9s\u001b[0m 2ms/step - loss: 0.3660 - mae: 0.4070 - val_loss: 0.3691 - val_mae: 0.4008\n",
      "Epoch 4/10\n",
      "\u001b[1m4301/4301\u001b[0m \u001b[32m━━━━━━━━━━━━━━━━━━━━\u001b[0m\u001b[37m\u001b[0m \u001b[1m9s\u001b[0m 2ms/step - loss: 0.3639 - mae: 0.4046 - val_loss: 0.3687 - val_mae: 0.4007\n",
      "Epoch 5/10\n",
      "\u001b[1m4301/4301\u001b[0m \u001b[32m━━━━━━━━━━━━━━━━━━━━\u001b[0m\u001b[37m\u001b[0m \u001b[1m9s\u001b[0m 2ms/step - loss: 0.3627 - mae: 0.4034 - val_loss: 0.3677 - val_mae: 0.4003\n",
      "Epoch 6/10\n",
      "\u001b[1m4301/4301\u001b[0m \u001b[32m━━━━━━━━━━━━━━━━━━━━\u001b[0m\u001b[37m\u001b[0m \u001b[1m9s\u001b[0m 2ms/step - loss: 0.3623 - mae: 0.4027 - val_loss: 0.3678 - val_mae: 0.4009\n",
      "Epoch 7/10\n",
      "\u001b[1m4301/4301\u001b[0m \u001b[32m━━━━━━━━━━━━━━━━━━━━\u001b[0m\u001b[37m\u001b[0m \u001b[1m9s\u001b[0m 2ms/step - loss: 0.3619 - mae: 0.4023 - val_loss: 0.3690 - val_mae: 0.4016\n",
      "Epoch 8/10\n",
      "\u001b[1m4301/4301\u001b[0m \u001b[32m━━━━━━━━━━━━━━━━━━━━\u001b[0m\u001b[37m\u001b[0m \u001b[1m9s\u001b[0m 2ms/step - loss: 0.3615 - mae: 0.4018 - val_loss: 0.3690 - val_mae: 0.4018\n",
      "Epoch 9/10\n",
      "\u001b[1m4301/4301\u001b[0m \u001b[32m━━━━━━━━━━━━━━━━━━━━\u001b[0m\u001b[37m\u001b[0m \u001b[1m9s\u001b[0m 2ms/step - loss: 0.3614 - mae: 0.4016 - val_loss: 0.3687 - val_mae: 0.4022\n",
      "Epoch 10/10\n",
      "\u001b[1m4301/4301\u001b[0m \u001b[32m━━━━━━━━━━━━━━━━━━━━\u001b[0m\u001b[37m\u001b[0m \u001b[1m9s\u001b[0m 2ms/step - loss: 0.3611 - mae: 0.4014 - val_loss: 0.3694 - val_mae: 0.4024\n"
     ]
    }
   ],
   "source": [
    "model.compile(\n",
    "    optimizer=tf.keras.optimizers.Adam(learning_rate=1e-4),\n",
    "    loss='mean_squared_error',\n",
    "    metrics=['mae']\n",
    ")\n",
    "\n",
    "history = model.fit(\n",
    "    X_train, y_train,\n",
    "    validation_data=(X_val, y_val),\n",
    "    epochs=10,\n",
    "    batch_size=2048,\n",
    "    callbacks=[keras.callbacks.EarlyStopping(patience=8, restore_best_weights=True)]\n",
    ")"
   ]
  },
  {
   "cell_type": "code",
   "execution_count": 23,
   "id": "d22e0a37",
   "metadata": {},
   "outputs": [
    {
     "name": "stdout",
     "output_type": "stream",
     "text": [
      "Baseline MAE: 0.4230\n"
     ]
    }
   ],
   "source": [
    "baseline_predictions = np.full_like(y_test, np.mean(y_test), dtype=np.float32)\n",
    "baseline_test_mae = np.mean(np.abs(baseline_predictions - y_test))\n",
    "print(f\"Baseline MAE: {baseline_test_mae:.4f}\")"
   ]
  },
  {
   "cell_type": "markdown",
   "id": "fc00bf59",
   "metadata": {},
   "source": [
    "### EVALUATE THE MODEL"
   ]
  },
  {
   "cell_type": "code",
   "execution_count": 24,
   "id": "d3533050",
   "metadata": {},
   "outputs": [
    {
     "name": "stdout",
     "output_type": "stream",
     "text": [
      "\u001b[1m 324/1890\u001b[0m \u001b[32m━━━\u001b[0m\u001b[37m━━━━━━━━━━━━━━━━━\u001b[0m \u001b[1m0s\u001b[0m 466us/step"
     ]
    },
    {
     "name": "stderr",
     "output_type": "stream",
     "text": [
      "2025-05-14 00:32:57.506982: E tensorflow/core/framework/node_def_util.cc:680] NodeDef mentions attribute use_unbounded_threadpool which is not in the op definition: Op<name=MapDataset; signature=input_dataset:variant, other_arguments: -> handle:variant; attr=f:func; attr=Targuments:list(type),min=0; attr=output_types:list(type),min=1; attr=output_shapes:list(shape),min=1; attr=use_inter_op_parallelism:bool,default=true; attr=preserve_cardinality:bool,default=false; attr=force_synchronous:bool,default=false; attr=metadata:string,default=\"\"> This may be expected if your graph generating binary is newer  than this binary. Unknown attributes will be ignored. NodeDef: {{node ParallelMapDatasetV2/_14}}\n"
     ]
    },
    {
     "name": "stdout",
     "output_type": "stream",
     "text": [
      "\u001b[1m1890/1890\u001b[0m \u001b[32m━━━━━━━━━━━━━━━━━━━━\u001b[0m\u001b[37m\u001b[0m \u001b[1m1s\u001b[0m 463us/step\n",
      "Model MAE: 0.3042\n"
     ]
    }
   ],
   "source": [
    "y_pred = model.predict(X_test, batch_size=2048).flatten()\n",
    "mae = mean_absolute_error(y_test, y_pred)\n",
    "print(f\"Model MAE: {mae:.4f}\")"
   ]
  },
  {
   "cell_type": "code",
   "execution_count": 25,
   "id": "f516f7f8",
   "metadata": {},
   "outputs": [
    {
     "name": "stdout",
     "output_type": "stream",
     "text": [
      "           actual  predicted\n",
      "1368882  0.099968   0.715873\n",
      "2669510  0.142961   0.180474\n",
      "2995806  1.526053   1.120800\n",
      "556239   0.618283   1.076145\n",
      "105496   0.997921   1.078150\n",
      "1020242  0.967097   0.896252\n",
      "2744890  1.187240   1.131744\n",
      "142460   0.883650   0.931452\n",
      "590581   1.384375   1.154597\n",
      "3532687  1.122799   0.776215\n"
     ]
    }
   ],
   "source": [
    "sample_df = pd.DataFrame({\"actual\": y_test, \"predicted\": y_pred}).sample(10, random_state=SEED)\n",
    "print(sample_df)"
   ]
  },
  {
   "cell_type": "markdown",
   "id": "a0ec7246",
   "metadata": {},
   "source": [
    "# NEXT NOTEBOOK BUT FOR NOW IT IS HERE"
   ]
  },
  {
   "cell_type": "code",
   "execution_count": 26,
   "id": "a3c38fa4",
   "metadata": {},
   "outputs": [],
   "source": [
    "def precision_at_k(y_true, y_pred, k):\n",
    "    y_true_k = y_true[:k]\n",
    "    y_pred_k = y_pred[:k]\n",
    "    return len(set(y_true_k) & set(y_pred_k)) / k\n",
    "\n",
    "def recall_at_k(y_true, y_pred, k):\n",
    "    y_pred_k = y_pred[:k]\n",
    "    return len(set(y_true) & set(y_pred_k)) / len(y_true) if y_true is not None else 0"
   ]
  },
  {
   "cell_type": "code",
   "execution_count": 27,
   "id": "f06d718c",
   "metadata": {},
   "outputs": [
    {
     "name": "stderr",
     "output_type": "stream",
     "text": [
      "2025-05-14 00:33:12.952096: E tensorflow/core/framework/node_def_util.cc:680] NodeDef mentions attribute use_unbounded_threadpool which is not in the op definition: Op<name=MapDataset; signature=input_dataset:variant, other_arguments: -> handle:variant; attr=f:func; attr=Targuments:list(type),min=0; attr=output_types:list(type),min=1; attr=output_shapes:list(shape),min=1; attr=use_inter_op_parallelism:bool,default=true; attr=preserve_cardinality:bool,default=false; attr=force_synchronous:bool,default=false; attr=metadata:string,default=\"\"> This may be expected if your graph generating binary is newer  than this binary. Unknown attributes will be ignored. NodeDef: {{node ParallelMapDatasetV2/_14}}\n"
     ]
    }
   ],
   "source": [
    "user = 6190\n",
    "XX, yy, video_ids = to_dataset(test_data[test_data[\"user_id\"] == user])\n",
    "XX = scaler.transform(XX)\n",
    "yy_pred = model.predict(XX, batch_size=2048, verbose=False).flatten()\n",
    "indexes = np.flip(np.argsort(yy))\n",
    "ground_truth = video_ids[indexes]\n",
    "indexes = np.flip(np.argsort(yy_pred))\n",
    "recommendations = video_ids[indexes]"
   ]
  },
  {
   "cell_type": "code",
   "execution_count": 28,
   "id": "a0db62e7",
   "metadata": {},
   "outputs": [
    {
     "data": {
      "text/plain": [
       "0.24"
      ]
     },
     "execution_count": 28,
     "metadata": {},
     "output_type": "execute_result"
    }
   ],
   "source": [
    "precision_at_k(ground_truth, recommendations, 100)"
   ]
  },
  {
   "cell_type": "code",
   "execution_count": 29,
   "id": "efeeb9fb",
   "metadata": {},
   "outputs": [
    {
     "data": {
      "text/plain": [
       "0.03579098067287044"
      ]
     },
     "execution_count": 29,
     "metadata": {},
     "output_type": "execute_result"
    }
   ],
   "source": [
    "recall_at_k(ground_truth, recommendations, 100)"
   ]
  },
  {
   "cell_type": "code",
   "execution_count": 34,
   "id": "6099601a",
   "metadata": {},
   "outputs": [
    {
     "name": "stdout",
     "output_type": "stream",
     "text": [
      "NDCG@5: 0.6242\n",
      "NDCG@10: 0.5537\n",
      "NDCG@50: 0.5620\n",
      "NDCG@100: 0.5926\n",
      "NDCG@200: 0.6481\n"
     ]
    }
   ],
   "source": [
    "from sklearn.metrics import ndcg_score\n",
    "ndcg_5 = ndcg_score([yy], [yy_pred], k=5)\n",
    "ndcg_10 = ndcg_score([yy], [yy_pred], k=10)\n",
    "ndcg_50 = ndcg_score([yy], [yy_pred], k=50)\n",
    "ndcg_100 = ndcg_score([yy], [yy_pred], k=100)\n",
    "ndcg_200 = ndcg_score([yy], [yy_pred], k=200)\n",
    "\n",
    "print(f\"NDCG@5: {ndcg_5:.4f}\")\n",
    "print(f\"NDCG@10: {ndcg_10:.4f}\")\n",
    "print(f\"NDCG@50: {ndcg_50:.4f}\")\n",
    "print(f\"NDCG@100: {ndcg_100:.4f}\")\n",
    "print(f\"NDCG@200: {ndcg_200:.4f}\")"
   ]
  },
  {
   "cell_type": "code",
   "execution_count": 18,
   "id": "0e357f59",
   "metadata": {},
   "outputs": [
    {
     "name": "stderr",
     "output_type": "stream",
     "text": [
      "  0%|          | 0/1354 [00:00<?, ?it/s]"
     ]
    },
    {
     "name": "stderr",
     "output_type": "stream",
     "text": [
      "2025-05-14 00:16:49.880561: E tensorflow/core/framework/node_def_util.cc:680] NodeDef mentions attribute use_unbounded_threadpool which is not in the op definition: Op<name=MapDataset; signature=input_dataset:variant, other_arguments: -> handle:variant; attr=f:func; attr=Targuments:list(type),min=0; attr=output_types:list(type),min=1; attr=output_shapes:list(shape),min=1; attr=use_inter_op_parallelism:bool,default=true; attr=preserve_cardinality:bool,default=false; attr=force_synchronous:bool,default=false; attr=metadata:string,default=\"\"> This may be expected if your graph generating binary is newer  than this binary. Unknown attributes will be ignored. NodeDef: {{node ParallelMapDatasetV2/_14}}\n",
      " 10%|▉         | 132/1354 [00:05<00:46, 26.52it/s]2025-05-14 00:16:54.909163: E tensorflow/core/framework/node_def_util.cc:680] NodeDef mentions attribute use_unbounded_threadpool which is not in the op definition: Op<name=MapDataset; signature=input_dataset:variant, other_arguments: -> handle:variant; attr=f:func; attr=Targuments:list(type),min=0; attr=output_types:list(type),min=1; attr=output_shapes:list(shape),min=1; attr=use_inter_op_parallelism:bool,default=true; attr=preserve_cardinality:bool,default=false; attr=force_synchronous:bool,default=false; attr=metadata:string,default=\"\"> This may be expected if your graph generating binary is newer  than this binary. Unknown attributes will be ignored. NodeDef: {{node ParallelMapDatasetV2/_14}}\n",
      " 19%|█▉        | 264/1354 [00:10<00:41, 26.22it/s]2025-05-14 00:16:59.909274: E tensorflow/core/framework/node_def_util.cc:680] NodeDef mentions attribute use_unbounded_threadpool which is not in the op definition: Op<name=MapDataset; signature=input_dataset:variant, other_arguments: -> handle:variant; attr=f:func; attr=Targuments:list(type),min=0; attr=output_types:list(type),min=1; attr=output_shapes:list(shape),min=1; attr=use_inter_op_parallelism:bool,default=true; attr=preserve_cardinality:bool,default=false; attr=force_synchronous:bool,default=false; attr=metadata:string,default=\"\"> This may be expected if your graph generating binary is newer  than this binary. Unknown attributes will be ignored. NodeDef: {{node ParallelMapDatasetV2/_14}}\n",
      " 29%|██▉       | 396/1354 [00:14<00:36, 25.99it/s]2025-05-14 00:17:04.942713: E tensorflow/core/framework/node_def_util.cc:680] NodeDef mentions attribute use_unbounded_threadpool which is not in the op definition: Op<name=MapDataset; signature=input_dataset:variant, other_arguments: -> handle:variant; attr=f:func; attr=Targuments:list(type),min=0; attr=output_types:list(type),min=1; attr=output_shapes:list(shape),min=1; attr=use_inter_op_parallelism:bool,default=true; attr=preserve_cardinality:bool,default=false; attr=force_synchronous:bool,default=false; attr=metadata:string,default=\"\"> This may be expected if your graph generating binary is newer  than this binary. Unknown attributes will be ignored. NodeDef: {{node ParallelMapDatasetV2/_14}}\n",
      " 39%|███▉      | 531/1354 [00:20<00:29, 27.60it/s]2025-05-14 00:17:09.973259: E tensorflow/core/framework/node_def_util.cc:680] NodeDef mentions attribute use_unbounded_threadpool which is not in the op definition: Op<name=MapDataset; signature=input_dataset:variant, other_arguments: -> handle:variant; attr=f:func; attr=Targuments:list(type),min=0; attr=output_types:list(type),min=1; attr=output_shapes:list(shape),min=1; attr=use_inter_op_parallelism:bool,default=true; attr=preserve_cardinality:bool,default=false; attr=force_synchronous:bool,default=false; attr=metadata:string,default=\"\"> This may be expected if your graph generating binary is newer  than this binary. Unknown attributes will be ignored. NodeDef: {{node ParallelMapDatasetV2/_14}}\n",
      " 49%|████▉     | 663/1354 [00:25<00:26, 26.54it/s]2025-05-14 00:17:14.980769: E tensorflow/core/framework/node_def_util.cc:680] NodeDef mentions attribute use_unbounded_threadpool which is not in the op definition: Op<name=MapDataset; signature=input_dataset:variant, other_arguments: -> handle:variant; attr=f:func; attr=Targuments:list(type),min=0; attr=output_types:list(type),min=1; attr=output_shapes:list(shape),min=1; attr=use_inter_op_parallelism:bool,default=true; attr=preserve_cardinality:bool,default=false; attr=force_synchronous:bool,default=false; attr=metadata:string,default=\"\"> This may be expected if your graph generating binary is newer  than this binary. Unknown attributes will be ignored. NodeDef: {{node ParallelMapDatasetV2/_14}}\n",
      " 59%|█████▉    | 798/1354 [00:30<00:21, 26.29it/s]2025-05-14 00:17:20.015710: E tensorflow/core/framework/node_def_util.cc:680] NodeDef mentions attribute use_unbounded_threadpool which is not in the op definition: Op<name=MapDataset; signature=input_dataset:variant, other_arguments: -> handle:variant; attr=f:func; attr=Targuments:list(type),min=0; attr=output_types:list(type),min=1; attr=output_shapes:list(shape),min=1; attr=use_inter_op_parallelism:bool,default=true; attr=preserve_cardinality:bool,default=false; attr=force_synchronous:bool,default=false; attr=metadata:string,default=\"\"> This may be expected if your graph generating binary is newer  than this binary. Unknown attributes will be ignored. NodeDef: {{node ParallelMapDatasetV2/_14}}\n",
      " 69%|██████▊   | 930/1354 [00:35<00:16, 26.24it/s]2025-05-14 00:17:25.046985: E tensorflow/core/framework/node_def_util.cc:680] NodeDef mentions attribute use_unbounded_threadpool which is not in the op definition: Op<name=MapDataset; signature=input_dataset:variant, other_arguments: -> handle:variant; attr=f:func; attr=Targuments:list(type),min=0; attr=output_types:list(type),min=1; attr=output_shapes:list(shape),min=1; attr=use_inter_op_parallelism:bool,default=true; attr=preserve_cardinality:bool,default=false; attr=force_synchronous:bool,default=false; attr=metadata:string,default=\"\"> This may be expected if your graph generating binary is newer  than this binary. Unknown attributes will be ignored. NodeDef: {{node ParallelMapDatasetV2/_14}}\n",
      " 78%|███████▊  | 1062/1354 [00:40<00:11, 26.50it/s]2025-05-14 00:17:30.074939: E tensorflow/core/framework/node_def_util.cc:680] NodeDef mentions attribute use_unbounded_threadpool which is not in the op definition: Op<name=MapDataset; signature=input_dataset:variant, other_arguments: -> handle:variant; attr=f:func; attr=Targuments:list(type),min=0; attr=output_types:list(type),min=1; attr=output_shapes:list(shape),min=1; attr=use_inter_op_parallelism:bool,default=true; attr=preserve_cardinality:bool,default=false; attr=force_synchronous:bool,default=false; attr=metadata:string,default=\"\"> This may be expected if your graph generating binary is newer  than this binary. Unknown attributes will be ignored. NodeDef: {{node ParallelMapDatasetV2/_14}}\n",
      " 88%|████████▊ | 1197/1354 [00:45<00:06, 26.00it/s]2025-05-14 00:17:35.113973: E tensorflow/core/framework/node_def_util.cc:680] NodeDef mentions attribute use_unbounded_threadpool which is not in the op definition: Op<name=MapDataset; signature=input_dataset:variant, other_arguments: -> handle:variant; attr=f:func; attr=Targuments:list(type),min=0; attr=output_types:list(type),min=1; attr=output_shapes:list(shape),min=1; attr=use_inter_op_parallelism:bool,default=true; attr=preserve_cardinality:bool,default=false; attr=force_synchronous:bool,default=false; attr=metadata:string,default=\"\"> This may be expected if your graph generating binary is newer  than this binary. Unknown attributes will be ignored. NodeDef: {{node ParallelMapDatasetV2/_14}}\n",
      " 98%|█████████▊| 1326/1354 [00:50<00:01, 26.53it/s]2025-05-14 00:17:40.120741: E tensorflow/core/framework/node_def_util.cc:680] NodeDef mentions attribute use_unbounded_threadpool which is not in the op definition: Op<name=MapDataset; signature=input_dataset:variant, other_arguments: -> handle:variant; attr=f:func; attr=Targuments:list(type),min=0; attr=output_types:list(type),min=1; attr=output_shapes:list(shape),min=1; attr=use_inter_op_parallelism:bool,default=true; attr=preserve_cardinality:bool,default=false; attr=force_synchronous:bool,default=false; attr=metadata:string,default=\"\"> This may be expected if your graph generating binary is newer  than this binary. Unknown attributes will be ignored. NodeDef: {{node ParallelMapDatasetV2/_14}}\n",
      "100%|██████████| 1354/1354 [00:51<00:00, 26.43it/s]"
     ]
    },
    {
     "name": "stdout",
     "output_type": "stream",
     "text": [
      "Average NDCG@5 over users: 0.6582\n"
     ]
    },
    {
     "name": "stderr",
     "output_type": "stream",
     "text": [
      "\n"
     ]
    }
   ],
   "source": [
    "from tqdm import tqdm\n",
    "ndcg_5_list = []\n",
    "for user_id in tqdm(test_data[\"user_id\"].unique()):\n",
    "    user_df = test_data[test_data[\"user_id\"] == user_id]\n",
    "    X, y, _ = to_dataset(user_df)\n",
    "    X = scaler.transform(X)\n",
    "    y_pred = model.predict(X, batch_size=2048, verbose=False).flatten()\n",
    "    \n",
    "    if len(y) >= 5:\n",
    "        ndcg_5_list.append(ndcg_score([y], [y_pred], k=5))\n",
    "\n",
    "avg_ndcg_5 = np.mean(ndcg_5_list)\n",
    "print(f\"Average NDCG@5 over users: {avg_ndcg_5:.4f}\")"
   ]
  },
  {
   "cell_type": "code",
   "execution_count": 35,
   "id": "51a8680f",
   "metadata": {},
   "outputs": [
    {
     "data": {
      "image/png": "[encoded data removed]",
      "text/plain": [
       "<Figure size 800x500 with 1 Axes>"
      ]
     },
     "metadata": {},
     "output_type": "display_data"
    }
   ],
   "source": [
    "import matplotlib.pyplot as plt\n",
    "\n",
    "plt.figure(figsize=(8, 5))\n",
    "plt.hist(ndcg_5_list, bins=30, edgecolor='black', alpha=0.7)\n",
    "plt.title('Distribution of NDCG@5 Across Users')\n",
    "plt.xlabel('NDCG@5')\n",
    "plt.ylabel('Number of Users')\n",
    "plt.grid(True)\n",
    "plt.tight_layout()\n",
    "plt.show()"
   ]
  }
 ],
 "metadata": {
  "kernelspec": {
   "display_name": "recommender",
   "language": "python",
   "name": "python3"
  },
  "language_info": {
   "codemirror_mode": {
    "name": "ipython",
    "version": 3
   },
   "file_extension": ".py",
   "mimetype": "text/x-python",
   "name": "python",
   "nbconvert_exporter": "python",
   "pygments_lexer": "ipython3",
   "version": "3.12.10"
  }
 },
 "nbformat": 4,
 "nbformat_minor": 5
}
