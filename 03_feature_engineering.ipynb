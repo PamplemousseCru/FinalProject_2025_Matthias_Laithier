{
 "cells": [
  {
   "cell_type": "markdown",
   "id": "a1e76a15",
   "metadata": {},
   "source": [
    "# Imports"
   ]
  },
  {
   "cell_type": "code",
   "execution_count": null,
   "id": "dd6c7a4d",
   "metadata": {},
   "outputs": [],
   "source": [
    "import pandas as pd\n",
    "import os"
   ]
  },
  {
   "cell_type": "markdown",
   "id": "3a303ac6",
   "metadata": {},
   "source": [
    "# Loading the data"
   ]
  },
  {
   "cell_type": "code",
   "execution_count": null,
   "id": "a0140b87",
   "metadata": {},
   "outputs": [],
   "source": [
    "root = \"data_final_project/KuaiRec 2.0/data/\"\n",
    "train_data = pd.read_parquet(\"./exports/train_data.pq\")\n",
    "test_data = pd.read_parquet(\"./exports/test_data.pq\")"
   ]
  },
  {
   "cell_type": "code",
   "execution_count": null,
   "id": "42f3f574",
   "metadata": {},
   "outputs": [],
   "source": [
    "def clean_and_format(df: pd.DataFrame) -> pd.DataFrame:\n",
    "    df[\"timestamp\"] = pd.to_datetime(df[\"timestamp\"])\n",
    "    df[\"friend_list\"] = df[\"friend_list\"].apply(lambda x: list(map(int, x)))\n",
    "    ### TO REMOVE IN THE 01 STEP PLEASE MYSLEF STOP FORGETTING :\n",
    "    df = df.drop(columns=[\"user_active_degree\"])\n",
    "    return df\n",
    "\n",
    "train_data = clean_and_format(train_data)\n",
    "test_data = clean_and_format(test_data)"
   ]
  },
  {
   "cell_type": "code",
   "execution_count": null,
   "id": "6a6be298",
   "metadata": {},
   "outputs": [],
   "source": [
    "# Reason to drop these here ? Not enough RAM xD\n",
    "usefull_cols_for_computations = [\"user_id\", \"video_id\", \"timestamp\", \"friend_list\", \"watch_ratio\", \"first_level_category_id\"]\n",
    "to_remove = [col for col in train_data.columns if col not in usefull_cols_for_computations and abs(train_data[\"watch_ratio\"].corr(train_data[col])) < 0.1]\n",
    "train_data = train_data.drop(columns=to_remove)\n",
    "test_data = test_data.drop(columns=to_remove)"
   ]
  },
  {
   "cell_type": "code",
   "execution_count": null,
   "id": "7491e417",
   "metadata": {},
   "outputs": [],
   "source": [
    "def friends_watch_ratio(df):\n",
    "    exploded = df[['user_id', 'video_id', 'timestamp', 'friend_list']].explode('friend_list').rename(columns={'friend_list': 'friend_id'})\n",
    "    friend_watches = df[['user_id', 'video_id', 'watch_ratio', 'timestamp']].rename(columns={'user_id': 'friend_id', 'watch_ratio': 'friend_watch_ratio', 'timestamp': 'friend_timestamp'})\n",
    "    merged = exploded.merge(friend_watches, on=['friend_id', 'video_id'], how='left')\n",
    "    merged = merged[merged['friend_timestamp'] <= merged['timestamp']]\n",
    "    mean_ratios = merged.groupby(['user_id', 'video_id'])['friend_watch_ratio'].mean().reset_index()\n",
    "    df = df.merge(mean_ratios, on=['user_id', 'video_id'], how='left')\n",
    "    df['friend_watch_ratio'] = df['friend_watch_ratio'].fillna(df['video_cum_avg_watch_ratio'])\n",
    "    return df\n",
    "\n",
    "def mean_by_first_level_cat(df):\n",
    "    df = df.sort_values(['user_id', 'first_level_category_id', 'timestamp'])\n",
    "    df['cumulative_avg_watch_ratio'] = (\n",
    "        df.groupby(['user_id', 'first_level_category_id'])['watch_ratio']\n",
    "        .expanding()\n",
    "        .mean()\n",
    "        .reset_index(level=[0,1], drop=True)\n",
    "    )\n",
    "    return df\n",
    "\n",
    "def add_video_cumulative_avg_watch_ratio(df):\n",
    "    df = df.sort_values(['video_id', 'timestamp'])\n",
    "    df['video_cum_avg_watch_ratio'] = (\n",
    "        df.groupby('video_id')['watch_ratio']\n",
    "        .expanding()\n",
    "        .mean()\n",
    "        .reset_index(level=0, drop=True)\n",
    "    )\n",
    "    return df\n",
    "\n",
    "def add_user_cumulative_avg_watch_ratio(df):\n",
    "    df = df.sort_values(['user_id', 'timestamp'])\n",
    "    df['user_cum_avg_watch_ratio'] = (\n",
    "        df.groupby('user_id')['watch_ratio']\n",
    "        .expanding()\n",
    "        .mean()\n",
    "        .reset_index(level=0, drop=True)\n",
    "    )\n",
    "    return df"
   ]
  },
  {
   "cell_type": "code",
   "execution_count": null,
   "id": "898f6427",
   "metadata": {},
   "outputs": [],
   "source": [
    "def generate_features(df: pd.DataFrame) -> pd.DataFrame:\n",
    "    df = add_user_cumulative_avg_watch_ratio(df)\n",
    "    df = add_video_cumulative_avg_watch_ratio(df)\n",
    "    df = mean_by_first_level_cat(df)\n",
    "    df = friends_watch_ratio(df)\n",
    "    df = df.drop(columns=[\"friend_list\"])\n",
    "    return df\n",
    "\n",
    "def get_columns_to_remove(df: pd.DataFrame) -> list[str]:\n",
    "    to_remove = [col for col in df.columns if abs(df[\"watch_ratio\"].corr(df[col])) < 0.1 and col != \"user_id\"]\n",
    "    return to_remove\n",
    "\n",
    "def keep_high_correlated_features(df: pd.DataFrame, cols_to_remove: list[str]) -> tuple[pd.DataFrame, pd.DataFrame]:\n",
    "    print(f\"Removing columns:\\n{cols_to_remove}\")\n",
    "    df = df.drop(columns=cols_to_remove)\n",
    "    return df, df.corr()\n",
    "\n",
    "\n",
    "train_data = generate_features(train_data)\n",
    "test_data = generate_features(test_data)\n",
    "\n",
    "cols_to_remove = get_columns_to_remove(train_data)\n",
    "\n",
    "train_data, train_corr_matrix = keep_high_correlated_features(train_data, cols_to_remove)\n",
    "test_data, test_corr_matrix = keep_high_correlated_features(test_data, cols_to_remove)\n",
    "\n",
    "\n",
    "train_corr_matrix"
   ]
  },
  {
   "cell_type": "code",
   "execution_count": null,
   "id": "b620d6d9",
   "metadata": {},
   "outputs": [],
   "source": [
    "train_data = train_data.dropna()\n",
    "test_data = test_data.dropna()"
   ]
  },
  {
   "cell_type": "code",
   "execution_count": null,
   "id": "a52cb2cb",
   "metadata": {},
   "outputs": [],
   "source": [
    "export_dir = \"./exports\"\n",
    "if not os.path.exists(export_dir):\n",
    "    os.makedirs(export_dir)\n",
    "train_data.to_parquet(export_dir + \"/train_data_feature_engineered.pq\")\n",
    "test_data.to_parquet(export_dir + \"/test_data_feature_engineered.pq\")"
   ]
  }
 ],
 "metadata": {
  "kernelspec": {
   "display_name": "recommender",
   "language": "python",
   "name": "python3"
  },
  "language_info": {
   "codemirror_mode": {
    "name": "ipython",
    "version": 3
   },
   "file_extension": ".py",
   "mimetype": "text/x-python",
   "name": "python",
   "nbconvert_exporter": "python",
   "pygments_lexer": "ipython3",
   "version": "3.12.10"
  }
 },
 "nbformat": 4,
 "nbformat_minor": 5
}
