{
 "cells": [
  {
   "cell_type": "markdown",
   "id": "8e76402a",
   "metadata": {},
   "source": [
    "# DOWNLOADING THE DATASET"
   ]
  },
  {
   "cell_type": "code",
   "execution_count": 1,
   "id": "d7ebf945",
   "metadata": {},
   "outputs": [
    {
     "data": {
      "text/plain": [
       "\"%%bash\\nwget --no-check-certificate 'https://drive.usercontent.google.com/download?id=1qe5hOSBxzIuxBb1G_Ih5X-O65QElollE&export=download&confirm=t&uuid=b2002093-cc6e-4bd5-be47-9603f0b33470\\n' -O KuaiRec.zip\\nunzip KuaiRec.zip -d data_final_project\""
      ]
     },
     "execution_count": 1,
     "metadata": {},
     "output_type": "execute_result"
    }
   ],
   "source": [
    "\"\"\"%%bash\n",
    "wget --no-check-certificate 'https://drive.usercontent.google.com/download?id=1qe5hOSBxzIuxBb1G_Ih5X-O65QElollE&export=download&confirm=t&uuid=b2002093-cc6e-4bd5-be47-9603f0b33470\n",
    "' -O KuaiRec.zip\n",
    "unzip KuaiRec.zip -d data_final_project\"\"\""
   ]
  },
  {
   "cell_type": "markdown",
   "id": "a1e76a15",
   "metadata": {},
   "source": [
    "# IMPORTS FOR THE NOTEBOOK"
   ]
  },
  {
   "cell_type": "code",
   "execution_count": 2,
   "id": "dd6c7a4d",
   "metadata": {},
   "outputs": [],
   "source": [
    "import os\n",
    "import pandas as pd\n",
    "import ast\n",
    "from tqdm import tqdm"
   ]
  },
  {
   "cell_type": "markdown",
   "id": "3a303ac6",
   "metadata": {},
   "source": [
    "# LOADING THE DATA"
   ]
  },
  {
   "cell_type": "code",
   "execution_count": 3,
   "id": "a0140b87",
   "metadata": {},
   "outputs": [],
   "source": [
    "root = \"data_final_project/KuaiRec 2.0/data/\"\n",
    "big_matrix = pd.read_csv(root + \"big_matrix.csv\").drop_duplicates().dropna()\n",
    "small_matrix = pd.read_csv(root + \"small_matrix.csv\").drop_duplicates().dropna()\n",
    "social_network = pd.read_csv(root + \"social_network.csv\").drop_duplicates().dropna()\n",
    "user_features = pd.read_csv(root + \"user_features.csv\").drop_duplicates().dropna()\n",
    "item_daily_features = pd.read_csv(root + \"item_daily_features.csv\").drop_duplicates().dropna()\n",
    "item_categories = pd.read_csv(root + \"item_categories.csv\").drop_duplicates().dropna()\n",
    "caption_category = pd.read_csv(root + \"kuairec_caption_category.csv\", lineterminator='\\n').drop_duplicates().dropna()\n",
    "# There is a category id equal to -124 and no category being 30, so I set the negative one to be 30 for practical reasons\n",
    "caption_category['first_level_category_id'] = [x if x >= 0 else 30 for x in caption_category['first_level_category_id']]"
   ]
  },
  {
   "cell_type": "markdown",
   "id": "5cb7fad3",
   "metadata": {},
   "source": [
    "# Data Cleaning"
   ]
  },
  {
   "cell_type": "markdown",
   "id": "740a08cd",
   "metadata": {},
   "source": [
    "##### Cleaning steps:\n",
    "- small/big_matrix: watch_ratio (we remove unrealistic ones)\n",
    "- social_network: change friend list to actual list type (not str), add a column for friends count\n",
    "- item_categories: we explode feats and encode them\n",
    "- item_daily_features: we keep only NORMAL videos because we do not want to recommend ads, we keep only videos which are in public visible status because we can't recommend a private video, we also apply cumulative sums on the data to get the stats up to a certain day\n",
    "- user_features: good as-is\n",
    "- caption_category: good as-is"
   ]
  },
  {
   "cell_type": "code",
   "execution_count": 4,
   "id": "5cef3bcb",
   "metadata": {},
   "outputs": [],
   "source": [
    "item_daily_features_cleaned = item_daily_features.copy()\n",
    "item_daily_features_cleaned = item_daily_features_cleaned[item_daily_features_cleaned[\"visible_status\"] == \"public\"]\n",
    "item_daily_features_cleaned = item_daily_features_cleaned[item_daily_features_cleaned[\"video_type\"] == \"NORMAL\"]"
   ]
  },
  {
   "cell_type": "code",
   "execution_count": 5,
   "id": "1f2d9f75",
   "metadata": {},
   "outputs": [
    {
     "name": "stdout",
     "output_type": "stream",
     "text": [
      "We have data for 6899 users and 8754 videos\n"
     ]
    }
   ],
   "source": [
    "known_user_ids = set(user_features[\"user_id\"].unique())\n",
    "known_video_ids = set(caption_category[\"video_id\"].unique()) & set(item_categories[\"video_id\"].unique()) & set(item_daily_features_cleaned[\"video_id\"].unique())\n",
    "print(f\"We have data for {len(known_user_ids)} users and {len(known_video_ids)} videos\")"
   ]
  },
  {
   "cell_type": "code",
   "execution_count": 6,
   "id": "6cbcd392",
   "metadata": {},
   "outputs": [
    {
     "name": "stdout",
     "output_type": "stream",
     "text": [
      "2020-06-23 08:34:11.373 2020-09-10 07:32:12.427\n",
      "2020-07-04 02:23:26.06 2020-09-05 23:57:23.683\n"
     ]
    }
   ],
   "source": [
    "print(big_matrix[\"time\"].min(), big_matrix[\"time\"].max())\n",
    "print(small_matrix[\"time\"].min(), small_matrix[\"time\"].max())"
   ]
  },
  {
   "cell_type": "markdown",
   "id": "4c62ce5e",
   "metadata": {},
   "source": [
    "#### big & small_matrix:"
   ]
  },
  {
   "cell_type": "code",
   "execution_count": null,
   "id": "49d430a4",
   "metadata": {},
   "outputs": [],
   "source": [
    "def clean_big_small_matrix(df: pd.DataFrame) -> pd.DataFrame:\n",
    "    cleaned = df.copy()\n",
    "    cleaned = cleaned.drop(columns=[\"play_duration\", \"date\", \"timestamp\"])\n",
    "    # We remove duplicates, null values and filter out unrealistic watch_ratio values\n",
    "    cleaned = cleaned.dropna().drop_duplicates()\n",
    "    cleaned = cleaned[cleaned[\"watch_ratio\"] < 5]\n",
    "    cleaned = cleaned[cleaned[\"watch_ratio\"] != 0]\n",
    "    # We remove interactions with unknown users or unknown videos\n",
    "    cleaned = cleaned[cleaned[\"user_id\"].isin(known_user_ids)]\n",
    "    cleaned = cleaned[cleaned[\"video_id\"].isin(known_video_ids)]\n",
    "    # We convert times to actual times\n",
    "    cleaned[\"time\"] = pd.to_datetime(cleaned[\"time\"], format=\"%Y-%m-%d %H:%M:%S.%f\", errors=\"coerce\")\n",
    "    # We keep the best watch ratio if a user interacted multiple time with the same video, but we keep temporality and duplicate it\n",
    "\n",
    "    # PUT IT BACK\n",
    "    #cleaned[\"watch_ratio\"] = cleaned.groupby([\"user_id\", \"video_id\"])[\"watch_ratio\"].transform(\"max\")\n",
    "\n",
    "    cleaned[\"watch_ratio\"] = cleaned.groupby([\"user_id\", \"video_id\"])[\"watch_ratio\"].transform(\"sum\")\n",
    "    cleaned = cleaned[cleaned[\"watch_ratio\"] < 5]\n",
    "\n",
    "    assert(not cleaned.isnull().sum().any())\n",
    "    return cleaned\n",
    "\n",
    "small_matrix_cleaned = clean_big_small_matrix(small_matrix)\n",
    "big_matrix_cleaned = clean_big_small_matrix(big_matrix)"
   ]
  },
  {
   "cell_type": "markdown",
   "id": "1bc6e68e",
   "metadata": {},
   "source": [
    "#### social_network:"
   ]
  },
  {
   "cell_type": "code",
   "execution_count": 8,
   "id": "f533e4c7",
   "metadata": {},
   "outputs": [
    {
     "name": "stdout",
     "output_type": "stream",
     "text": [
      "93.50630526163212\n"
     ]
    }
   ],
   "source": [
    "social_network_cleaned = social_network.copy()\n",
    "# We remove unknown users\n",
    "social_network_cleaned = social_network_cleaned[social_network_cleaned.loc[:, \"user_id\"].isin(known_user_ids)]\n",
    "# Convert string to actual list of ints\n",
    "social_network_cleaned[\"friend_list\"] = social_network_cleaned[\"friend_list\"].apply(ast.literal_eval)\n",
    "# Add friend_count row\n",
    "social_network_cleaned[\"friend_count\"] = social_network_cleaned[\"friend_list\"].apply(lambda x : len(x))\n",
    "# Add users with no friends for consistency\n",
    "missing_ids = [id for id in known_user_ids if id not in social_network_cleaned[\"user_id\"].unique()]\n",
    "missing_users_social = pd.DataFrame({\"user_id\": missing_ids, \"friend_list\": [[] for _ in range(len(missing_ids))], \"friend_count\": [0] * len(missing_ids)})\n",
    "social_network_cleaned = pd.concat([social_network_cleaned, missing_users_social], ignore_index=True)\n",
    "assert(len(social_network_cleaned) == len(known_user_ids))\n",
    "# 93.5% of users dont have friends so we won't use it\n",
    "print(len(social_network_cleaned[social_network_cleaned[\"friend_count\"] == 0]) / len(social_network_cleaned[\"friend_count\"]) * 100)"
   ]
  },
  {
   "cell_type": "markdown",
   "id": "562a98fd",
   "metadata": {},
   "source": [
    "#### item_categories:"
   ]
  },
  {
   "cell_type": "code",
   "execution_count": 9,
   "id": "768daf0e",
   "metadata": {},
   "outputs": [
    {
     "data": {
      "application/vnd.microsoft.datawrangler.viewer.v0+json": {
       "columns": [
        {
         "name": "index",
         "rawType": "int64",
         "type": "integer"
        },
        {
         "name": "video_id",
         "rawType": "int64",
         "type": "integer"
        },
        {
         "name": "feat",
         "rawType": "object",
         "type": "unknown"
        }
       ],
       "conversionMethod": "pd.DataFrame",
       "ref": "335c6183-d6f5-4761-a26a-53dbe7a4de1a",
       "rows": [
        [
         "0",
         "0",
         "[8]"
        ],
        [
         "2",
         "2",
         "[9]"
        ],
        [
         "4",
         "4",
         "[5]"
        ],
        [
         "5",
         "5",
         "[6]"
        ],
        [
         "6",
         "6",
         "[19]"
        ],
        [
         "7",
         "7",
         "[8]"
        ],
        [
         "8",
         "8",
         "[12]"
        ],
        [
         "10",
         "10",
         "[5]"
        ],
        [
         "11",
         "11",
         "[11]"
        ],
        [
         "12",
         "12",
         "[19]"
        ],
        [
         "13",
         "13",
         "[28, 19]"
        ],
        [
         "14",
         "14",
         "[7]"
        ],
        [
         "15",
         "15",
         "[18]"
        ],
        [
         "16",
         "16",
         "[26]"
        ],
        [
         "17",
         "17",
         "[2, 11]"
        ],
        [
         "18",
         "18",
         "[6, 26]"
        ],
        [
         "21",
         "21",
         "[2]"
        ],
        [
         "22",
         "22",
         "[5]"
        ],
        [
         "23",
         "23",
         "[11, 7]"
        ],
        [
         "24",
         "24",
         "[11]"
        ],
        [
         "27",
         "27",
         "[11, 5]"
        ],
        [
         "28",
         "28",
         "[20]"
        ],
        [
         "29",
         "29",
         "[20]"
        ],
        [
         "31",
         "31",
         "[5]"
        ],
        [
         "32",
         "32",
         "[1]"
        ],
        [
         "33",
         "33",
         "[9]"
        ],
        [
         "34",
         "34",
         "[8]"
        ],
        [
         "39",
         "39",
         "[28]"
        ],
        [
         "40",
         "40",
         "[11]"
        ],
        [
         "41",
         "41",
         "[7]"
        ],
        [
         "42",
         "42",
         "[20]"
        ],
        [
         "43",
         "43",
         "[5]"
        ],
        [
         "44",
         "44",
         "[25]"
        ],
        [
         "45",
         "45",
         "[1, 2]"
        ],
        [
         "46",
         "46",
         "[11]"
        ],
        [
         "47",
         "47",
         "[5]"
        ],
        [
         "48",
         "48",
         "[4]"
        ],
        [
         "49",
         "49",
         "[1]"
        ],
        [
         "50",
         "50",
         "[11]"
        ],
        [
         "52",
         "52",
         "[7]"
        ],
        [
         "53",
         "53",
         "[19]"
        ],
        [
         "54",
         "54",
         "[2]"
        ],
        [
         "55",
         "55",
         "[26]"
        ],
        [
         "56",
         "56",
         "[12]"
        ],
        [
         "57",
         "57",
         "[8]"
        ],
        [
         "58",
         "58",
         "[15]"
        ],
        [
         "60",
         "60",
         "[3]"
        ],
        [
         "61",
         "61",
         "[11]"
        ],
        [
         "62",
         "62",
         "[28]"
        ],
        [
         "63",
         "63",
         "[8]"
        ]
       ],
       "shape": {
        "columns": 2,
        "rows": 8754
       }
      },
      "text/html": [
       "<div>\n",
       "<style scoped>\n",
       "    .dataframe tbody tr th:only-of-type {\n",
       "        vertical-align: middle;\n",
       "    }\n",
       "\n",
       "    .dataframe tbody tr th {\n",
       "        vertical-align: top;\n",
       "    }\n",
       "\n",
       "    .dataframe thead th {\n",
       "        text-align: right;\n",
       "    }\n",
       "</style>\n",
       "<table border=\"1\" class=\"dataframe\">\n",
       "  <thead>\n",
       "    <tr style=\"text-align: right;\">\n",
       "      <th></th>\n",
       "      <th>video_id</th>\n",
       "      <th>feat</th>\n",
       "    </tr>\n",
       "  </thead>\n",
       "  <tbody>\n",
       "    <tr>\n",
       "      <th>0</th>\n",
       "      <td>0</td>\n",
       "      <td>[8]</td>\n",
       "    </tr>\n",
       "    <tr>\n",
       "      <th>2</th>\n",
       "      <td>2</td>\n",
       "      <td>[9]</td>\n",
       "    </tr>\n",
       "    <tr>\n",
       "      <th>4</th>\n",
       "      <td>4</td>\n",
       "      <td>[5]</td>\n",
       "    </tr>\n",
       "    <tr>\n",
       "      <th>5</th>\n",
       "      <td>5</td>\n",
       "      <td>[6]</td>\n",
       "    </tr>\n",
       "    <tr>\n",
       "      <th>6</th>\n",
       "      <td>6</td>\n",
       "      <td>[19]</td>\n",
       "    </tr>\n",
       "    <tr>\n",
       "      <th>...</th>\n",
       "      <td>...</td>\n",
       "      <td>...</td>\n",
       "    </tr>\n",
       "    <tr>\n",
       "      <th>10722</th>\n",
       "      <td>10722</td>\n",
       "      <td>[5]</td>\n",
       "    </tr>\n",
       "    <tr>\n",
       "      <th>10723</th>\n",
       "      <td>10723</td>\n",
       "      <td>[11]</td>\n",
       "    </tr>\n",
       "    <tr>\n",
       "      <th>10724</th>\n",
       "      <td>10724</td>\n",
       "      <td>[2]</td>\n",
       "    </tr>\n",
       "    <tr>\n",
       "      <th>10726</th>\n",
       "      <td>10726</td>\n",
       "      <td>[19]</td>\n",
       "    </tr>\n",
       "    <tr>\n",
       "      <th>10727</th>\n",
       "      <td>10727</td>\n",
       "      <td>[5]</td>\n",
       "    </tr>\n",
       "  </tbody>\n",
       "</table>\n",
       "<p>8754 rows × 2 columns</p>\n",
       "</div>"
      ],
      "text/plain": [
       "       video_id  feat\n",
       "0             0   [8]\n",
       "2             2   [9]\n",
       "4             4   [5]\n",
       "5             5   [6]\n",
       "6             6  [19]\n",
       "...         ...   ...\n",
       "10722     10722   [5]\n",
       "10723     10723  [11]\n",
       "10724     10724   [2]\n",
       "10726     10726  [19]\n",
       "10727     10727   [5]\n",
       "\n",
       "[8754 rows x 2 columns]"
      ]
     },
     "execution_count": 9,
     "metadata": {},
     "output_type": "execute_result"
    }
   ],
   "source": [
    "item_categories_cleaned = item_categories.copy()\n",
    "item_categories_cleaned = item_categories_cleaned[item_categories_cleaned.loc[:, \"video_id\"].isin(known_video_ids)]\n",
    "item_categories_cleaned[\"feat\"] = item_categories_cleaned[\"feat\"].apply(ast.literal_eval)\n",
    "#item_categories_cleaned = item_categories_cleaned.explode(\"feat\")\n",
    "# Create the vector encoding\n",
    "#item_categories_cleaned = item_categories_cleaned.assign(present=1).pivot(index=\"video_id\", columns=\"feat\", values=\"present\").fillna(0).reindex(columns=sorted(item_categories_cleaned[\"feat\"].unique())).astype(int)\n",
    "#item_categories_cleaned.columns = [f\"feat_{feat}\" for feat in item_categories_cleaned.columns]\n",
    "#item_categories_cleaned = item_categories_cleaned.reset_index()\n",
    "#assert(len(item_categories_cleaned[\"video_id\"]) == len(known_video_ids))\n",
    "item_categories_cleaned"
   ]
  },
  {
   "cell_type": "markdown",
   "id": "553103f4",
   "metadata": {},
   "source": [
    "#### item_daily_features:"
   ]
  },
  {
   "cell_type": "code",
   "execution_count": 10,
   "id": "9aedf161",
   "metadata": {},
   "outputs": [
    {
     "data": {
      "application/vnd.microsoft.datawrangler.viewer.v0+json": {
       "columns": [
        {
         "name": "index",
         "rawType": "int64",
         "type": "integer"
        },
        {
         "name": "video_id",
         "rawType": "int64",
         "type": "integer"
        },
        {
         "name": "date",
         "rawType": "datetime64[ns]",
         "type": "datetime"
        },
        {
         "name": "video_duration",
         "rawType": "float64",
         "type": "float"
        },
        {
         "name": "upload_dt",
         "rawType": "datetime64[ns]",
         "type": "datetime"
        },
        {
         "name": "valid_play_cnt",
         "rawType": "int64",
         "type": "integer"
        },
        {
         "name": "like_cnt",
         "rawType": "int64",
         "type": "integer"
        },
        {
         "name": "comment_cnt",
         "rawType": "int64",
         "type": "integer"
        },
        {
         "name": "share_cnt",
         "rawType": "int64",
         "type": "integer"
        },
        {
         "name": "follow_cnt",
         "rawType": "int64",
         "type": "integer"
        },
        {
         "name": "collect_cnt",
         "rawType": "float64",
         "type": "float"
        },
        {
         "name": "download_cnt",
         "rawType": "int64",
         "type": "integer"
        }
       ],
       "conversionMethod": "pd.DataFrame",
       "ref": "8733c999-a5b9-4def-9475-31e047876563",
       "rows": [
        [
         "23",
         "0",
         "2020-07-28 00:00:00",
         "5966.0",
         "2020-03-30 00:00:00",
         "4280",
         "462",
         "10",
         "0",
         "247",
         "2.0",
         "3"
        ],
        [
         "149",
         "2",
         "2020-07-28 00:00:00",
         "8000.0",
         "2020-04-11 00:00:00",
         "7",
         "1",
         "0",
         "0",
         "0",
         "0.0",
         "0"
        ],
        [
         "274",
         "4",
         "2020-07-28 00:00:00",
         "18000.0",
         "2020-04-12 00:00:00",
         "0",
         "0",
         "0",
         "0",
         "0",
         "0.0",
         "0"
        ],
        [
         "327",
         "5",
         "2020-07-28 00:00:00",
         "8000.0",
         "2020-04-15 00:00:00",
         "190",
         "37",
         "2",
         "2",
         "4",
         "5.0",
         "0"
        ],
        [
         "390",
         "6",
         "2020-07-28 00:00:00",
         "6000.0",
         "2020-04-15 00:00:00",
         "6",
         "1",
         "0",
         "0",
         "0",
         "0.0",
         "0"
        ],
        [
         "453",
         "7",
         "2020-07-28 00:00:00",
         "7233.0",
         "2020-04-18 00:00:00",
         "8",
         "1",
         "0",
         "0",
         "0",
         "0.0",
         "0"
        ],
        [
         "515",
         "8",
         "2020-07-28 00:00:00",
         "45400.0",
         "2020-04-18 00:00:00",
         "0",
         "0",
         "0",
         "0",
         "0",
         "0.0",
         "0"
        ],
        [
         "620",
         "10",
         "2020-07-28 00:00:00",
         "23666.0",
         "2020-04-25 00:00:00",
         "135",
         "3",
         "0",
         "0",
         "0",
         "0.0",
         "0"
        ],
        [
         "683",
         "11",
         "2020-07-28 00:00:00",
         "14333.0",
         "2020-04-28 00:00:00",
         "0",
         "0",
         "0",
         "0",
         "0",
         "0.0",
         "0"
        ],
        [
         "744",
         "12",
         "2020-07-28 00:00:00",
         "6333.0",
         "2020-04-29 00:00:00",
         "3",
         "1",
         "0",
         "1",
         "0",
         "0.0",
         "0"
        ],
        [
         "807",
         "13",
         "2020-07-28 00:00:00",
         "17200.0",
         "2020-05-03 00:00:00",
         "3416",
         "259",
         "1",
         "1",
         "6",
         "0.0",
         "2"
        ],
        [
         "870",
         "14",
         "2020-07-28 00:00:00",
         "6233.0",
         "2020-05-03 00:00:00",
         "574",
         "37",
         "6",
         "6",
         "8",
         "1.0",
         "4"
        ],
        [
         "933",
         "15",
         "2020-07-28 00:00:00",
         "6784.0",
         "2020-05-14 00:00:00",
         "379",
         "4",
         "2",
         "0",
         "0",
         "0.0",
         "0"
        ],
        [
         "996",
         "16",
         "2020-07-28 00:00:00",
         "8754.0",
         "2020-05-18 00:00:00",
         "161",
         "26",
         "2",
         "2",
         "0",
         "5.0",
         "0"
        ],
        [
         "1058",
         "17",
         "2020-07-28 00:00:00",
         "56823.0",
         "2020-05-19 00:00:00",
         "309",
         "9",
         "0",
         "0",
         "1",
         "0.0",
         "0"
        ],
        [
         "1121",
         "18",
         "2020-07-28 00:00:00",
         "10240.0",
         "2020-05-20 00:00:00",
         "4347",
         "84",
         "0",
         "0",
         "4",
         "0.0",
         "1"
        ],
        [
         "1260",
         "21",
         "2020-07-28 00:00:00",
         "17680.0",
         "2020-05-28 00:00:00",
         "1102",
         "72",
         "5",
         "0",
         "3",
         "0.0",
         "1"
        ],
        [
         "1323",
         "22",
         "2020-07-28 00:00:00",
         "6066.0",
         "2020-06-01 00:00:00",
         "674",
         "2",
         "0",
         "0",
         "0",
         "0.0",
         "0"
        ],
        [
         "1386",
         "23",
         "2020-07-28 00:00:00",
         "10433.0",
         "2020-06-03 00:00:00",
         "21",
         "1",
         "0",
         "0",
         "0",
         "0.0",
         "0"
        ],
        [
         "1449",
         "24",
         "2020-07-28 00:00:00",
         "7400.0",
         "2020-06-03 00:00:00",
         "128",
         "4",
         "0",
         "0",
         "0",
         "0.0",
         "0"
        ],
        [
         "1591",
         "27",
         "2020-07-28 00:00:00",
         "6866.0",
         "2020-06-05 00:00:00",
         "108",
         "8",
         "1",
         "1",
         "0",
         "1.0",
         "0"
        ],
        [
         "1654",
         "28",
         "2020-07-28 00:00:00",
         "9700.0",
         "2020-06-05 00:00:00",
         "1",
         "0",
         "0",
         "0",
         "0",
         "0.0",
         "0"
        ],
        [
         "1717",
         "29",
         "2020-07-28 00:00:00",
         "4933.0",
         "2020-06-06 00:00:00",
         "13",
         "2",
         "0",
         "0",
         "0",
         "0.0",
         "0"
        ],
        [
         "1842",
         "31",
         "2020-07-28 00:00:00",
         "8475.0",
         "2020-06-06 00:00:00",
         "9",
         "0",
         "0",
         "0",
         "0",
         "0.0",
         "0"
        ],
        [
         "1905",
         "32",
         "2020-07-28 00:00:00",
         "15081.0",
         "2020-06-07 00:00:00",
         "8",
         "0",
         "0",
         "0",
         "0",
         "0.0",
         "0"
        ],
        [
         "1968",
         "33",
         "2020-07-28 00:00:00",
         "13346.0",
         "2020-06-07 00:00:00",
         "26",
         "1",
         "0",
         "0",
         "0",
         "0.0",
         "0"
        ],
        [
         "2031",
         "34",
         "2020-07-28 00:00:00",
         "8475.0",
         "2020-06-08 00:00:00",
         "8",
         "0",
         "0",
         "0",
         "1",
         "0.0",
         "0"
        ],
        [
         "2253",
         "39",
         "2020-07-28 00:00:00",
         "16534.0",
         "2020-06-09 00:00:00",
         "3",
         "0",
         "0",
         "0",
         "0",
         "0.0",
         "0"
        ],
        [
         "2316",
         "40",
         "2020-07-28 00:00:00",
         "12266.0",
         "2020-06-10 00:00:00",
         "3",
         "0",
         "0",
         "0",
         "0",
         "0.0",
         "0"
        ],
        [
         "2379",
         "41",
         "2020-07-28 00:00:00",
         "5766.0",
         "2020-06-11 00:00:00",
         "0",
         "0",
         "0",
         "0",
         "0",
         "0.0",
         "0"
        ],
        [
         "2533",
         "44",
         "2020-07-28 00:00:00",
         "17266.0",
         "2020-06-12 00:00:00",
         "46",
         "1",
         "0",
         "0",
         "1",
         "0.0",
         "0"
        ],
        [
         "2596",
         "45",
         "2020-07-28 00:00:00",
         "16633.0",
         "2020-06-12 00:00:00",
         "4",
         "0",
         "0",
         "0",
         "0",
         "0.0",
         "0"
        ],
        [
         "2659",
         "46",
         "2020-07-28 00:00:00",
         "4033.0",
         "2020-06-12 00:00:00",
         "5",
         "1",
         "0",
         "0",
         "2",
         "0.0",
         "0"
        ],
        [
         "2722",
         "47",
         "2020-07-28 00:00:00",
         "7566.0",
         "2020-06-12 00:00:00",
         "186",
         "0",
         "0",
         "0",
         "0",
         "0.0",
         "0"
        ],
        [
         "2785",
         "48",
         "2020-07-28 00:00:00",
         "4360.0",
         "2020-06-12 00:00:00",
         "1",
         "0",
         "0",
         "0",
         "0",
         "0.0",
         "0"
        ],
        [
         "2887",
         "50",
         "2020-07-28 00:00:00",
         "11533.0",
         "2020-06-13 00:00:00",
         "11",
         "0",
         "0",
         "0",
         "0",
         "0.0",
         "0"
        ],
        [
         "3013",
         "52",
         "2020-07-28 00:00:00",
         "11966.0",
         "2020-06-13 00:00:00",
         "7",
         "1",
         "0",
         "0",
         "0",
         "0.0",
         "0"
        ],
        [
         "3076",
         "53",
         "2020-07-28 00:00:00",
         "12366.0",
         "2020-06-13 00:00:00",
         "18",
         "3",
         "2",
         "0",
         "0",
         "1.0",
         "1"
        ],
        [
         "3139",
         "54",
         "2020-07-28 00:00:00",
         "15500.0",
         "2020-06-13 00:00:00",
         "832",
         "49",
         "1",
         "0",
         "0",
         "0.0",
         "0"
        ],
        [
         "3202",
         "55",
         "2020-07-28 00:00:00",
         "7857.0",
         "2020-06-13 00:00:00",
         "11",
         "3",
         "0",
         "0",
         "0",
         "0.0",
         "1"
        ],
        [
         "3264",
         "56",
         "2020-07-28 00:00:00",
         "7266.0",
         "2020-06-14 00:00:00",
         "1",
         "0",
         "0",
         "0",
         "0",
         "0.0",
         "0"
        ],
        [
         "3326",
         "57",
         "2020-07-28 00:00:00",
         "16283.0",
         "2020-06-14 00:00:00",
         "1008",
         "168",
         "5",
         "1",
         "28",
         "2.0",
         "0"
        ],
        [
         "3389",
         "58",
         "2020-07-28 00:00:00",
         "19000.0",
         "2020-06-14 00:00:00",
         "31",
         "3",
         "0",
         "0",
         "0",
         "0.0",
         "0"
        ],
        [
         "3460",
         "60",
         "2020-07-28 00:00:00",
         "8366.0",
         "2020-06-15 00:00:00",
         "16",
         "1",
         "0",
         "0",
         "0",
         "0.0",
         "0"
        ],
        [
         "3521",
         "61",
         "2020-07-28 00:00:00",
         "6606.0",
         "2020-06-15 00:00:00",
         "0",
         "0",
         "0",
         "0",
         "0",
         "0.0",
         "0"
        ],
        [
         "3643",
         "63",
         "2020-07-28 00:00:00",
         "4048.0",
         "2020-06-15 00:00:00",
         "0",
         "0",
         "0",
         "0",
         "0",
         "0.0",
         "0"
        ],
        [
         "3704",
         "64",
         "2020-07-28 00:00:00",
         "11533.0",
         "2020-06-15 00:00:00",
         "0",
         "0",
         "0",
         "0",
         "0",
         "0.0",
         "0"
        ],
        [
         "3765",
         "65",
         "2020-07-28 00:00:00",
         "9900.0",
         "2020-06-15 00:00:00",
         "16",
         "0",
         "0",
         "0",
         "0",
         "0.0",
         "0"
        ],
        [
         "3828",
         "66",
         "2020-07-28 00:00:00",
         "5052.0",
         "2020-06-15 00:00:00",
         "0",
         "0",
         "0",
         "0",
         "0",
         "0.0",
         "0"
        ],
        [
         "3905",
         "68",
         "2020-07-28 00:00:00",
         "20600.0",
         "2020-06-17 00:00:00",
         "1013",
         "40",
         "0",
         "0",
         "3",
         "0.0",
         "0"
        ]
       ],
       "shape": {
        "columns": 11,
        "rows": 212964
       }
      },
      "text/html": [
       "<div>\n",
       "<style scoped>\n",
       "    .dataframe tbody tr th:only-of-type {\n",
       "        vertical-align: middle;\n",
       "    }\n",
       "\n",
       "    .dataframe tbody tr th {\n",
       "        vertical-align: top;\n",
       "    }\n",
       "\n",
       "    .dataframe thead th {\n",
       "        text-align: right;\n",
       "    }\n",
       "</style>\n",
       "<table border=\"1\" class=\"dataframe\">\n",
       "  <thead>\n",
       "    <tr style=\"text-align: right;\">\n",
       "      <th></th>\n",
       "      <th>video_id</th>\n",
       "      <th>date</th>\n",
       "      <th>video_duration</th>\n",
       "      <th>upload_dt</th>\n",
       "      <th>valid_play_cnt</th>\n",
       "      <th>like_cnt</th>\n",
       "      <th>comment_cnt</th>\n",
       "      <th>share_cnt</th>\n",
       "      <th>follow_cnt</th>\n",
       "      <th>collect_cnt</th>\n",
       "      <th>download_cnt</th>\n",
       "    </tr>\n",
       "  </thead>\n",
       "  <tbody>\n",
       "    <tr>\n",
       "      <th>23</th>\n",
       "      <td>0</td>\n",
       "      <td>2020-07-28</td>\n",
       "      <td>5966.0</td>\n",
       "      <td>2020-03-30</td>\n",
       "      <td>4280</td>\n",
       "      <td>462</td>\n",
       "      <td>10</td>\n",
       "      <td>0</td>\n",
       "      <td>247</td>\n",
       "      <td>2.0</td>\n",
       "      <td>3</td>\n",
       "    </tr>\n",
       "    <tr>\n",
       "      <th>149</th>\n",
       "      <td>2</td>\n",
       "      <td>2020-07-28</td>\n",
       "      <td>8000.0</td>\n",
       "      <td>2020-04-11</td>\n",
       "      <td>7</td>\n",
       "      <td>1</td>\n",
       "      <td>0</td>\n",
       "      <td>0</td>\n",
       "      <td>0</td>\n",
       "      <td>0.0</td>\n",
       "      <td>0</td>\n",
       "    </tr>\n",
       "    <tr>\n",
       "      <th>274</th>\n",
       "      <td>4</td>\n",
       "      <td>2020-07-28</td>\n",
       "      <td>18000.0</td>\n",
       "      <td>2020-04-12</td>\n",
       "      <td>0</td>\n",
       "      <td>0</td>\n",
       "      <td>0</td>\n",
       "      <td>0</td>\n",
       "      <td>0</td>\n",
       "      <td>0.0</td>\n",
       "      <td>0</td>\n",
       "    </tr>\n",
       "    <tr>\n",
       "      <th>327</th>\n",
       "      <td>5</td>\n",
       "      <td>2020-07-28</td>\n",
       "      <td>8000.0</td>\n",
       "      <td>2020-04-15</td>\n",
       "      <td>190</td>\n",
       "      <td>37</td>\n",
       "      <td>2</td>\n",
       "      <td>2</td>\n",
       "      <td>4</td>\n",
       "      <td>5.0</td>\n",
       "      <td>0</td>\n",
       "    </tr>\n",
       "    <tr>\n",
       "      <th>390</th>\n",
       "      <td>6</td>\n",
       "      <td>2020-07-28</td>\n",
       "      <td>6000.0</td>\n",
       "      <td>2020-04-15</td>\n",
       "      <td>6</td>\n",
       "      <td>1</td>\n",
       "      <td>0</td>\n",
       "      <td>0</td>\n",
       "      <td>0</td>\n",
       "      <td>0.0</td>\n",
       "      <td>0</td>\n",
       "    </tr>\n",
       "    <tr>\n",
       "      <th>...</th>\n",
       "      <td>...</td>\n",
       "      <td>...</td>\n",
       "      <td>...</td>\n",
       "      <td>...</td>\n",
       "      <td>...</td>\n",
       "      <td>...</td>\n",
       "      <td>...</td>\n",
       "      <td>...</td>\n",
       "      <td>...</td>\n",
       "      <td>...</td>\n",
       "      <td>...</td>\n",
       "    </tr>\n",
       "    <tr>\n",
       "      <th>343335</th>\n",
       "      <td>10722</td>\n",
       "      <td>2020-09-05</td>\n",
       "      <td>9700.0</td>\n",
       "      <td>2020-09-05</td>\n",
       "      <td>143</td>\n",
       "      <td>4</td>\n",
       "      <td>1</td>\n",
       "      <td>0</td>\n",
       "      <td>1</td>\n",
       "      <td>0.0</td>\n",
       "      <td>0</td>\n",
       "    </tr>\n",
       "    <tr>\n",
       "      <th>343336</th>\n",
       "      <td>10723</td>\n",
       "      <td>2020-09-05</td>\n",
       "      <td>4833.0</td>\n",
       "      <td>2020-09-05</td>\n",
       "      <td>114</td>\n",
       "      <td>24</td>\n",
       "      <td>0</td>\n",
       "      <td>0</td>\n",
       "      <td>0</td>\n",
       "      <td>0.0</td>\n",
       "      <td>0</td>\n",
       "    </tr>\n",
       "    <tr>\n",
       "      <th>343337</th>\n",
       "      <td>10724</td>\n",
       "      <td>2020-09-05</td>\n",
       "      <td>54720.0</td>\n",
       "      <td>2020-09-05</td>\n",
       "      <td>754</td>\n",
       "      <td>264</td>\n",
       "      <td>29</td>\n",
       "      <td>1</td>\n",
       "      <td>8</td>\n",
       "      <td>0.0</td>\n",
       "      <td>1</td>\n",
       "    </tr>\n",
       "    <tr>\n",
       "      <th>343339</th>\n",
       "      <td>10726</td>\n",
       "      <td>2020-09-05</td>\n",
       "      <td>5132.0</td>\n",
       "      <td>2020-09-05</td>\n",
       "      <td>5382</td>\n",
       "      <td>44</td>\n",
       "      <td>0</td>\n",
       "      <td>1</td>\n",
       "      <td>2</td>\n",
       "      <td>0.0</td>\n",
       "      <td>2</td>\n",
       "    </tr>\n",
       "    <tr>\n",
       "      <th>343340</th>\n",
       "      <td>10727</td>\n",
       "      <td>2020-09-05</td>\n",
       "      <td>5666.0</td>\n",
       "      <td>2020-09-05</td>\n",
       "      <td>63</td>\n",
       "      <td>7</td>\n",
       "      <td>0</td>\n",
       "      <td>0</td>\n",
       "      <td>1</td>\n",
       "      <td>0.0</td>\n",
       "      <td>0</td>\n",
       "    </tr>\n",
       "  </tbody>\n",
       "</table>\n",
       "<p>212964 rows × 11 columns</p>\n",
       "</div>"
      ],
      "text/plain": [
       "        video_id       date  video_duration  upload_dt  valid_play_cnt  \\\n",
       "23             0 2020-07-28          5966.0 2020-03-30            4280   \n",
       "149            2 2020-07-28          8000.0 2020-04-11               7   \n",
       "274            4 2020-07-28         18000.0 2020-04-12               0   \n",
       "327            5 2020-07-28          8000.0 2020-04-15             190   \n",
       "390            6 2020-07-28          6000.0 2020-04-15               6   \n",
       "...          ...        ...             ...        ...             ...   \n",
       "343335     10722 2020-09-05          9700.0 2020-09-05             143   \n",
       "343336     10723 2020-09-05          4833.0 2020-09-05             114   \n",
       "343337     10724 2020-09-05         54720.0 2020-09-05             754   \n",
       "343339     10726 2020-09-05          5132.0 2020-09-05            5382   \n",
       "343340     10727 2020-09-05          5666.0 2020-09-05              63   \n",
       "\n",
       "        like_cnt  comment_cnt  share_cnt  follow_cnt  collect_cnt  \\\n",
       "23           462           10          0         247          2.0   \n",
       "149            1            0          0           0          0.0   \n",
       "274            0            0          0           0          0.0   \n",
       "327           37            2          2           4          5.0   \n",
       "390            1            0          0           0          0.0   \n",
       "...          ...          ...        ...         ...          ...   \n",
       "343335         4            1          0           1          0.0   \n",
       "343336        24            0          0           0          0.0   \n",
       "343337       264           29          1           8          0.0   \n",
       "343339        44            0          1           2          0.0   \n",
       "343340         7            0          0           1          0.0   \n",
       "\n",
       "        download_cnt  \n",
       "23                 3  \n",
       "149                0  \n",
       "274                0  \n",
       "327                0  \n",
       "390                0  \n",
       "...              ...  \n",
       "343335             0  \n",
       "343336             0  \n",
       "343337             1  \n",
       "343339             2  \n",
       "343340             0  \n",
       "\n",
       "[212964 rows x 11 columns]"
      ]
     },
     "execution_count": 10,
     "metadata": {},
     "output_type": "execute_result"
    }
   ],
   "source": [
    "item_daily_features_cleaned = item_daily_features_cleaned[item_daily_features_cleaned[\"video_id\"].isin(known_video_ids)]\n",
    "item_daily_features_cleaned = item_daily_features_cleaned[item_daily_features_cleaned[\"visible_status\"] == \"public\"]\n",
    "item_daily_features_cleaned = item_daily_features_cleaned[item_daily_features_cleaned[\"video_type\"] == \"NORMAL\"]\n",
    "item_daily_features_cleaned[\"date\"] = pd.to_datetime(item_daily_features_cleaned[\"date\"].astype(str), errors=\"coerce\")\n",
    "item_daily_features_cleaned[\"upload_dt\"] = pd.to_datetime(item_daily_features_cleaned[\"upload_dt\"].astype(str), errors=\"coerce\")\n",
    "stats_cols = [\"valid_play_cnt\", \"like_cnt\", \"comment_cnt\", \"share_cnt\", \"follow_cnt\", \"collect_cnt\", \"download_cnt\"]\n",
    "useful_cols = [\"video_id\", \"date\", \"video_duration\", \"upload_dt\"] + stats_cols\n",
    "item_daily_features_cleaned = item_daily_features_cleaned[useful_cols]\n",
    "item_daily_features_cleaned = item_daily_features_cleaned.sort_values([\"date\", \"video_id\"])\n",
    "item_daily_features_cleaned[stats_cols] = item_daily_features_cleaned.groupby(\"video_id\")[stats_cols].cumsum()\n",
    "item_daily_features_cleaned"
   ]
  },
  {
   "cell_type": "markdown",
   "id": "438296b6",
   "metadata": {},
   "source": [
    "#### user_features:"
   ]
  },
  {
   "cell_type": "code",
   "execution_count": 11,
   "id": "746b2ef0",
   "metadata": {},
   "outputs": [],
   "source": [
    "user_features_cleaned = user_features.copy()\n",
    "user_features_cleaned = user_features_cleaned[user_features_cleaned.loc[:, \"user_id\"].isin(known_user_ids)]\n",
    "useful_cols = [\"user_id\", \"user_active_degree\", \"is_lowactive_period\", \"is_live_streamer\", \"is_video_author\", \"follow_user_num\", \"fans_user_num\", \"friend_user_num\", \"register_days\"]\n",
    "useful_cols += [f\"onehot_feat{i}\" for i in range(18)]\n",
    "user_features_cleaned = user_features_cleaned[useful_cols]\n",
    "#user_features_cleaned"
   ]
  },
  {
   "cell_type": "markdown",
   "id": "553fcaa9",
   "metadata": {},
   "source": [
    "#### caption_category"
   ]
  },
  {
   "cell_type": "code",
   "execution_count": 12,
   "id": "f2f8ae06",
   "metadata": {},
   "outputs": [
    {
     "data": {
      "application/vnd.microsoft.datawrangler.viewer.v0+json": {
       "columns": [
        {
         "name": "index",
         "rawType": "int64",
         "type": "integer"
        },
        {
         "name": "video_id",
         "rawType": "int64",
         "type": "integer"
        },
        {
         "name": "first_level_category_id",
         "rawType": "int64",
         "type": "integer"
        }
       ],
       "conversionMethod": "pd.DataFrame",
       "ref": "267fdcde-b077-47b4-9019-a4f7d767f14d",
       "rows": [
        [
         "0",
         "0",
         "8"
        ],
        [
         "2",
         "2",
         "9"
        ],
        [
         "3",
         "3",
         "26"
        ],
        [
         "4",
         "4",
         "5"
        ],
        [
         "5",
         "5",
         "6"
        ],
        [
         "6",
         "6",
         "19"
        ],
        [
         "7",
         "7",
         "8"
        ],
        [
         "8",
         "8",
         "12"
        ],
        [
         "10",
         "10",
         "5"
        ],
        [
         "11",
         "11",
         "11"
        ],
        [
         "12",
         "12",
         "2"
        ],
        [
         "13",
         "13",
         "19"
        ],
        [
         "14",
         "14",
         "34"
        ],
        [
         "15",
         "15",
         "18"
        ],
        [
         "16",
         "16",
         "26"
        ],
        [
         "17",
         "17",
         "2"
        ],
        [
         "18",
         "18",
         "26"
        ],
        [
         "21",
         "21",
         "2"
        ],
        [
         "22",
         "22",
         "34"
        ],
        [
         "23",
         "23",
         "7"
        ],
        [
         "24",
         "24",
         "34"
        ],
        [
         "27",
         "27",
         "34"
        ],
        [
         "28",
         "28",
         "20"
        ],
        [
         "29",
         "29",
         "1"
        ],
        [
         "30",
         "30",
         "5"
        ],
        [
         "31",
         "31",
         "5"
        ],
        [
         "32",
         "32",
         "1"
        ],
        [
         "33",
         "33",
         "17"
        ],
        [
         "34",
         "34",
         "8"
        ],
        [
         "35",
         "35",
         "6"
        ],
        [
         "36",
         "36",
         "9"
        ],
        [
         "38",
         "38",
         "1"
        ],
        [
         "39",
         "39",
         "28"
        ],
        [
         "40",
         "40",
         "11"
        ],
        [
         "41",
         "41",
         "31"
        ],
        [
         "42",
         "42",
         "20"
        ],
        [
         "43",
         "43",
         "5"
        ],
        [
         "44",
         "44",
         "34"
        ],
        [
         "45",
         "45",
         "1"
        ],
        [
         "46",
         "46",
         "11"
        ],
        [
         "47",
         "47",
         "5"
        ],
        [
         "48",
         "48",
         "4"
        ],
        [
         "49",
         "49",
         "1"
        ],
        [
         "50",
         "50",
         "11"
        ],
        [
         "52",
         "52",
         "7"
        ],
        [
         "53",
         "53",
         "19"
        ],
        [
         "54",
         "54",
         "2"
        ],
        [
         "55",
         "55",
         "26"
        ],
        [
         "56",
         "56",
         "12"
        ],
        [
         "57",
         "57",
         "8"
        ]
       ],
       "shape": {
        "columns": 2,
        "rows": 9373
       }
      },
      "text/html": [
       "<div>\n",
       "<style scoped>\n",
       "    .dataframe tbody tr th:only-of-type {\n",
       "        vertical-align: middle;\n",
       "    }\n",
       "\n",
       "    .dataframe tbody tr th {\n",
       "        vertical-align: top;\n",
       "    }\n",
       "\n",
       "    .dataframe thead th {\n",
       "        text-align: right;\n",
       "    }\n",
       "</style>\n",
       "<table border=\"1\" class=\"dataframe\">\n",
       "  <thead>\n",
       "    <tr style=\"text-align: right;\">\n",
       "      <th></th>\n",
       "      <th>video_id</th>\n",
       "      <th>first_level_category_id</th>\n",
       "    </tr>\n",
       "  </thead>\n",
       "  <tbody>\n",
       "    <tr>\n",
       "      <th>0</th>\n",
       "      <td>0</td>\n",
       "      <td>8</td>\n",
       "    </tr>\n",
       "    <tr>\n",
       "      <th>2</th>\n",
       "      <td>2</td>\n",
       "      <td>9</td>\n",
       "    </tr>\n",
       "    <tr>\n",
       "      <th>3</th>\n",
       "      <td>3</td>\n",
       "      <td>26</td>\n",
       "    </tr>\n",
       "    <tr>\n",
       "      <th>4</th>\n",
       "      <td>4</td>\n",
       "      <td>5</td>\n",
       "    </tr>\n",
       "    <tr>\n",
       "      <th>5</th>\n",
       "      <td>5</td>\n",
       "      <td>6</td>\n",
       "    </tr>\n",
       "    <tr>\n",
       "      <th>...</th>\n",
       "      <td>...</td>\n",
       "      <td>...</td>\n",
       "    </tr>\n",
       "    <tr>\n",
       "      <th>10722</th>\n",
       "      <td>10722</td>\n",
       "      <td>5</td>\n",
       "    </tr>\n",
       "    <tr>\n",
       "      <th>10723</th>\n",
       "      <td>10723</td>\n",
       "      <td>33</td>\n",
       "    </tr>\n",
       "    <tr>\n",
       "      <th>10724</th>\n",
       "      <td>10724</td>\n",
       "      <td>6</td>\n",
       "    </tr>\n",
       "    <tr>\n",
       "      <th>10726</th>\n",
       "      <td>10726</td>\n",
       "      <td>38</td>\n",
       "    </tr>\n",
       "    <tr>\n",
       "      <th>10727</th>\n",
       "      <td>10727</td>\n",
       "      <td>5</td>\n",
       "    </tr>\n",
       "  </tbody>\n",
       "</table>\n",
       "<p>9373 rows × 2 columns</p>\n",
       "</div>"
      ],
      "text/plain": [
       "       video_id  first_level_category_id\n",
       "0             0                        8\n",
       "2             2                        9\n",
       "3             3                       26\n",
       "4             4                        5\n",
       "5             5                        6\n",
       "...         ...                      ...\n",
       "10722     10722                        5\n",
       "10723     10723                       33\n",
       "10724     10724                        6\n",
       "10726     10726                       38\n",
       "10727     10727                        5\n",
       "\n",
       "[9373 rows x 2 columns]"
      ]
     },
     "execution_count": 12,
     "metadata": {},
     "output_type": "execute_result"
    }
   ],
   "source": [
    "caption_category_cleaned = caption_category.copy()\n",
    "useful_cols = [\"video_id\", \"first_level_category_id\"]\n",
    "caption_category_cleaned = caption_category_cleaned[useful_cols]\n",
    "# Create the vector encoding\n",
    "#caption_category_cleaned = caption_category_cleaned.assign(present=1).pivot(index=\"video_id\", columns=\"first_level_category_id\", values=\"present\").fillna(0).reindex(columns=sorted(caption_category_cleaned[\"first_level_category_id\"].unique())).astype(int)\n",
    "#caption_category_cleaned.columns = [f\"category_{category}\" for category in caption_category_cleaned.columns]\n",
    "#caption_category_cleaned = caption_category_cleaned.reset_index()\n",
    "#assert(len(caption_category_cleaned[\"video_id\"]) == len(known_video_ids))\n",
    "caption_category_cleaned"
   ]
  },
  {
   "cell_type": "markdown",
   "id": "dab2ee8e",
   "metadata": {},
   "source": [
    "# Aggregating Train and Test Data"
   ]
  },
  {
   "cell_type": "code",
   "execution_count": 13,
   "id": "6124a77b",
   "metadata": {},
   "outputs": [
    {
     "data": {
      "text/plain": [
       "'train_data = big_matrix_cleaned.copy().sort_values([\"time\", \"video_id\"])\\ntest_data = small_matrix_cleaned.copy().sort_values([\"time\", \"video_id\"])\\n\\ntrain_data = train_data.merge(social_network_cleaned, on=\"user_id\", how=\"left\")\\ntrain_data = train_data.merge(item_categories_cleaned, on=\"video_id\", how=\"left\")\\ntrain_data = train_data.merge(user_features_cleaned, on=\"user_id\", how=\"left\")\\ntrain_data = train_data.merge(caption_category_cleaned, on=\"video_id\", how=\"left\")\\ntrain_data = pd.merge_asof(train_data, item_daily_features_cleaned, by=\"video_id\", left_on=\"time\", right_on=\"date\", direction=\"backward\")\\ntrain_data = train_data.fillna(0)\\n\\ntest_data = test_data.merge(social_network_cleaned, on=\"user_id\", how=\"left\")\\ntest_data = test_data.merge(item_categories_cleaned, on=\"video_id\", how=\"left\")\\ntest_data = test_data.merge(user_features_cleaned, on=\"user_id\", how=\"left\")\\ntest_data = test_data.merge(caption_category_cleaned, on=\"video_id\", how=\"left\")\\ntest_data = pd.merge_asof(test_data, item_daily_features_cleaned, by=\"video_id\", left_on=\"time\", right_on=\"date\", direction=\"backward\")\\ntest_data = test_data.fillna(0)'"
      ]
     },
     "execution_count": 13,
     "metadata": {},
     "output_type": "execute_result"
    }
   ],
   "source": [
    "\"\"\"train_data = big_matrix_cleaned.copy().sort_values([\"time\", \"video_id\"])\n",
    "test_data = small_matrix_cleaned.copy().sort_values([\"time\", \"video_id\"])\n",
    "\n",
    "train_data = train_data.merge(social_network_cleaned, on=\"user_id\", how=\"left\")\n",
    "train_data = train_data.merge(item_categories_cleaned, on=\"video_id\", how=\"left\")\n",
    "train_data = train_data.merge(user_features_cleaned, on=\"user_id\", how=\"left\")\n",
    "train_data = train_data.merge(caption_category_cleaned, on=\"video_id\", how=\"left\")\n",
    "train_data = pd.merge_asof(train_data, item_daily_features_cleaned, by=\"video_id\", left_on=\"time\", right_on=\"date\", direction=\"backward\")\n",
    "train_data = train_data.fillna(0)\n",
    "\n",
    "test_data = test_data.merge(social_network_cleaned, on=\"user_id\", how=\"left\")\n",
    "test_data = test_data.merge(item_categories_cleaned, on=\"video_id\", how=\"left\")\n",
    "test_data = test_data.merge(user_features_cleaned, on=\"user_id\", how=\"left\")\n",
    "test_data = test_data.merge(caption_category_cleaned, on=\"video_id\", how=\"left\")\n",
    "test_data = pd.merge_asof(test_data, item_daily_features_cleaned, by=\"video_id\", left_on=\"time\", right_on=\"date\", direction=\"backward\")\n",
    "test_data = test_data.fillna(0)\"\"\""
   ]
  },
  {
   "cell_type": "markdown",
   "id": "18d20f62",
   "metadata": {},
   "source": [
    "# SAVING CLEANED DATA"
   ]
  },
  {
   "cell_type": "code",
   "execution_count": 14,
   "id": "a294181a",
   "metadata": {},
   "outputs": [],
   "source": [
    "export_dir = \"./exports\"\n",
    "if not os.path.exists(export_dir):\n",
    "    os.makedirs(export_dir)\n",
    "big_matrix_cleaned.to_parquet(export_dir + \"/big_matrix_cleaned.pq\")\n",
    "small_matrix_cleaned.to_parquet(export_dir + \"/small_matrix_cleaned.pq\")\n",
    "social_network_cleaned.to_parquet(export_dir + \"/social_network_cleaned.pq\")\n",
    "user_features_cleaned.to_parquet(export_dir + \"/user_features_cleaned.pq\")\n",
    "item_categories_cleaned.to_parquet(export_dir + \"/item_categories_cleaned.pq\")\n",
    "item_daily_features_cleaned.to_parquet(export_dir + \"/item_daily_features_cleaned.pq\")\n",
    "caption_category_cleaned.to_parquet(export_dir + \"/caption_category_cleaned.pq\")"
   ]
  }
 ],
 "metadata": {
  "kernelspec": {
   "display_name": "recommender",
   "language": "python",
   "name": "python3"
  },
  "language_info": {
   "codemirror_mode": {
    "name": "ipython",
    "version": 3
   },
   "file_extension": ".py",
   "mimetype": "text/x-python",
   "name": "python",
   "nbconvert_exporter": "python",
   "pygments_lexer": "ipython3",
   "version": "3.12.10"
  }
 },
 "nbformat": 4,
 "nbformat_minor": 5
}
