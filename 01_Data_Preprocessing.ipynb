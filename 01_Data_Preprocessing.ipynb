{
 "cells": [
  {
   "cell_type": "markdown",
   "id": "02a52cda",
   "metadata": {},
   "source": [
    "## Introduction"
   ]
  },
  {
   "cell_type": "markdown",
   "id": "ed6ec052",
   "metadata": {},
   "source": [
    "In this notebook, we will load all the data available to us, clean it and keep relevant information."
   ]
  },
  {
   "cell_type": "markdown",
   "id": "8e76402a",
   "metadata": {},
   "source": [
    "## Downloading the dataset"
   ]
  },
  {
   "cell_type": "code",
   "execution_count": 1,
   "id": "d7ebf945",
   "metadata": {},
   "outputs": [
    {
     "data": {
      "text/plain": [
       "\"%%bash\\nwget --no-check-certificate 'https://drive.usercontent.google.com/download?id=1qe5hOSBxzIuxBb1G_Ih5X-O65QElollE&export=download&confirm=t&uuid=b2002093-cc6e-4bd5-be47-9603f0b33470\\n' -O KuaiRec.zip\\nunzip KuaiRec.zip -d data_final_project\""
      ]
     },
     "execution_count": 1,
     "metadata": {},
     "output_type": "execute_result"
    }
   ],
   "source": [
    "\"\"\"%%bash\n",
    "wget --no-check-certificate 'https://drive.usercontent.google.com/download?id=1qe5hOSBxzIuxBb1G_Ih5X-O65QElollE&export=download&confirm=t&uuid=b2002093-cc6e-4bd5-be47-9603f0b33470\n",
    "' -O KuaiRec.zip\n",
    "unzip KuaiRec.zip -d data_final_project\"\"\""
   ]
  },
  {
   "cell_type": "markdown",
   "id": "a1e76a15",
   "metadata": {},
   "source": [
    "## Imports"
   ]
  },
  {
   "cell_type": "code",
   "execution_count": 2,
   "id": "dd6c7a4d",
   "metadata": {},
   "outputs": [],
   "source": [
    "import os\n",
    "import pandas as pd\n",
    "import ast"
   ]
  },
  {
   "cell_type": "markdown",
   "id": "3a303ac6",
   "metadata": {},
   "source": [
    "## Loading all the data"
   ]
  },
  {
   "cell_type": "code",
   "execution_count": 3,
   "id": "a0140b87",
   "metadata": {},
   "outputs": [],
   "source": [
    "root = \"data_final_project/KuaiRec 2.0/data/\"\n",
    "big_matrix = pd.read_csv(root + \"big_matrix.csv\").drop_duplicates().dropna()\n",
    "small_matrix = pd.read_csv(root + \"small_matrix.csv\").drop_duplicates().dropna()\n",
    "social_network = pd.read_csv(root + \"social_network.csv\").drop_duplicates().dropna()\n",
    "user_features = pd.read_csv(root + \"user_features.csv\").drop_duplicates().dropna()\n",
    "item_daily_features = pd.read_csv(root + \"item_daily_features.csv\").drop_duplicates().dropna()\n",
    "item_categories = pd.read_csv(root + \"item_categories.csv\").drop_duplicates().dropna()\n",
    "caption_category = pd.read_csv(root + \"kuairec_caption_category.csv\", lineterminator='\\n').drop_duplicates().dropna()\n",
    "# There is a category id equal to -124 and no category being 30, so I set the negative one to be 30 for practical reasons:\n",
    "caption_category['first_level_category_id'] = [x if x >= 0 else 30 for x in caption_category['first_level_category_id']]"
   ]
  },
  {
   "cell_type": "markdown",
   "id": "5cb7fad3",
   "metadata": {},
   "source": [
    "## Data Cleaning"
   ]
  },
  {
   "cell_type": "markdown",
   "id": "740a08cd",
   "metadata": {},
   "source": [
    "##### Cleaning steps:\n",
    "- small/big_matrix: watch_ratio (we remove unrealistic ones)\n",
    "- social_network: change friend list to actual list type (not str), add a column for friends count\n",
    "- item_categories: we explode feats and encode them\n",
    "- item_daily_features: we keep only NORMAL videos because we do not want to recommend ads, we keep only videos which are in public visible status because we can't recommend a private video, we also apply cumulative sums on the data to get the stats up to a certain day\n",
    "- user_features: good as-is\n",
    "- caption_category: good as-is"
   ]
  },
  {
   "cell_type": "markdown",
   "id": "cac9bf80",
   "metadata": {},
   "source": [
    "## Creating filters for users and videos\n",
    "Since we will be using a lot of data from different files, we have to make sure we don't have more missing values then necessary.\n",
    "\n",
    "To prevent that, we create sets containing all the user and video ids for which we have data in all the sources we want.\n",
    "\n",
    "Also, one obvious thing we have to consider is that we do not want our recomender system to recommend videos which are ads or which are not publicly visible, so we filter these one out from the start, right before we create our sets."
   ]
  },
  {
   "cell_type": "code",
   "execution_count": 4,
   "id": "5cef3bcb",
   "metadata": {},
   "outputs": [],
   "source": [
    "item_daily_features_cleaned = item_daily_features.copy()\n",
    "item_daily_features_cleaned = item_daily_features_cleaned[item_daily_features_cleaned[\"visible_status\"] == \"public\"]\n",
    "item_daily_features_cleaned = item_daily_features_cleaned[item_daily_features_cleaned[\"video_type\"] == \"NORMAL\"]"
   ]
  },
  {
   "cell_type": "code",
   "execution_count": 5,
   "id": "1f2d9f75",
   "metadata": {},
   "outputs": [
    {
     "name": "stdout",
     "output_type": "stream",
     "text": [
      "We have data for 6899 users and 8754 videos\n"
     ]
    }
   ],
   "source": [
    "known_user_ids = set(user_features[\"user_id\"].unique())\n",
    "known_video_ids = set(caption_category[\"video_id\"].unique()) & set(item_categories[\"video_id\"].unique()) & set(item_daily_features_cleaned[\"video_id\"].unique())\n",
    "print(f\"We have data for {len(known_user_ids)} users and {len(known_video_ids)} videos\")"
   ]
  },
  {
   "cell_type": "markdown",
   "id": "9b08e4f8",
   "metadata": {},
   "source": [
    "We can see that we have data foor 6899 singular users, and 8754 singular videos."
   ]
  },
  {
   "cell_type": "markdown",
   "id": "4c62ce5e",
   "metadata": {},
   "source": [
    "## Big & Small matrix"
   ]
  },
  {
   "cell_type": "markdown",
   "id": "113abe43",
   "metadata": {},
   "source": [
    "These two files contain the same exact type of data, so we will clean them together, following these steps:\n",
    "- We drop the \"date\" and \"timestamp\" columns since there is already the column \"time\". We also drop the \"play_duration\" column we will not need since we already have the watch ratio and the video duration.\n",
    "- We drop any duplicate rows, then filter out unrealistically high watch ratios, as well as 0 watch ratio values since these do not describe an interaction.\n",
    "- We assume that if a user interacted two times with the same video, then we can add the watch ratios because the user went back to watch it, then we filter again the outliers.\n",
    "- We filter out videos for which we have incomplete or no data.\n",
    "- We make sure times are in the right format."
   ]
  },
  {
   "cell_type": "code",
   "execution_count": 6,
   "id": "49d430a4",
   "metadata": {},
   "outputs": [
    {
     "data": {
      "application/vnd.microsoft.datawrangler.viewer.v0+json": {
       "columns": [
        {
         "name": "index",
         "rawType": "int64",
         "type": "integer"
        },
        {
         "name": "user_id",
         "rawType": "int64",
         "type": "integer"
        },
        {
         "name": "video_id",
         "rawType": "int64",
         "type": "integer"
        },
        {
         "name": "video_duration",
         "rawType": "int64",
         "type": "integer"
        },
        {
         "name": "time",
         "rawType": "datetime64[ns]",
         "type": "datetime"
        },
        {
         "name": "watch_ratio",
         "rawType": "float64",
         "type": "float"
        }
       ],
       "conversionMethod": "pd.DataFrame",
       "ref": "889517b7-08e0-4437-ae10-c97ce60ab870",
       "rows": [
        [
         "0",
         "0",
         "3649",
         "10867",
         "2020-07-05 00:08:23.438000",
         "1.2733965215790926"
        ],
        [
         "2",
         "0",
         "5262",
         "7908",
         "2020-07-05 00:16:06.687000",
         "0.1076125442589782"
        ],
        [
         "3",
         "0",
         "1963",
         "9590",
         "2020-07-05 00:20:26.792000",
         "1.4343065693430657"
        ],
        [
         "4",
         "0",
         "8234",
         "11000",
         "2020-07-05 00:43:05.128000",
         "1.2964545454545457"
        ],
        [
         "5",
         "0",
         "8228",
         "8576",
         "2020-07-05 01:00:25.500000",
         "3.1138059701492535"
        ],
        [
         "6",
         "0",
         "6789",
         "13267",
         "2020-07-05 03:28:02.320000",
         "0.1753976030752996"
        ],
        [
         "7",
         "0",
         "6812",
         "10728",
         "2020-07-05 22:22:11.813000",
         "2.212061894108874"
        ],
        [
         "8",
         "0",
         "183",
         "6100",
         "2020-07-06 00:14:06.245000",
         "0.1304918032786885"
        ],
        [
         "9",
         "0",
         "169",
         "9767",
         "2020-07-06 00:14:48.800000",
         "2.7666632538138627"
        ],
        [
         "10",
         "0",
         "1988",
         "7034",
         "2020-07-06 00:15:03.506000",
         "1.8889678703440431"
        ],
        [
         "11",
         "0",
         "5274",
         "6200",
         "2020-07-06 01:03:27.933000",
         "4.248548387096774"
        ],
        [
         "12",
         "0",
         "179",
         "6067",
         "2020-07-06 01:04:54.916000",
         "2.1577385857919893"
        ],
        [
         "13",
         "0",
         "3647",
         "11967",
         "2020-07-06 01:06:21.880000",
         "0.1281858444054482"
        ],
        [
         "14",
         "0",
         "8248",
         "11000",
         "2020-07-06 01:06:36.499000",
         "1.2918181818181818"
        ],
        [
         "15",
         "0",
         "206",
         "9067",
         "2020-07-06 01:07:48.597000",
         "0.1697364067497518"
        ],
        [
         "16",
         "0",
         "6801",
         "6933",
         "2020-07-06 01:08:02.473000",
         "3.874513197749892"
        ],
        [
         "18",
         "0",
         "3672",
         "9200",
         "2020-07-06 01:14:03.743000",
         "1.4420652173913044"
        ],
        [
         "19",
         "0",
         "2000",
         "12260",
         "2020-07-06 01:14:48.155000",
         "0.0716965742251223"
        ],
        [
         "20",
         "0",
         "5219",
         "9567",
         "2020-07-06 01:20:48.754000",
         "1.443190132747988"
        ],
        [
         "21",
         "0",
         "2007",
         "59634",
         "2020-07-06 01:22:00.855000",
         "0.2353020089210852"
        ],
        [
         "22",
         "0",
         "3657",
         "10734",
         "2020-07-06 01:24:26.108000",
         "0.0780696851127259"
        ],
        [
         "23",
         "0",
         "211",
         "4949",
         "2020-07-06 01:28:45.279000",
         "2.788442109517074"
        ],
        [
         "24",
         "0",
         "5287",
         "9651",
         "2020-07-06 01:29:14.850000",
         "0.1664076261527302"
        ],
        [
         "25",
         "0",
         "1913",
         "12700",
         "2020-07-06 01:29:29.688000",
         "0.065748031496063"
        ],
        [
         "26",
         "0",
         "3684",
         "10600",
         "2020-07-06 01:54:26.894000",
         "0.0811320754716981"
        ],
        [
         "27",
         "0",
         "9591",
         "11312",
         "2020-07-06 02:01:13.383000",
         "0.0772630834512022"
        ],
        [
         "28",
         "0",
         "6829",
         "7734",
         "2020-07-06 03:01:18.678000",
         "1.7760537884665113"
        ],
        [
         "29",
         "0",
         "1997",
         "11367",
         "2020-07-06 03:06:14.376000",
         "2.439693850620216"
        ],
        [
         "30",
         "0",
         "1943",
         "6315",
         "2020-07-06 03:07:16.420000",
         "2.345526524148852"
        ],
        [
         "31",
         "0",
         "6731",
         "12500",
         "2020-07-06 03:17:25.726000",
         "1.15256"
        ],
        [
         "33",
         "0",
         "5233",
         "10751",
         "2020-07-06 03:57:45.068000",
         "1.3400613896381732"
        ],
        [
         "34",
         "0",
         "6843",
         "7700",
         "2020-07-06 03:59:50.267000",
         "0.1105194805194805"
        ],
        [
         "35",
         "0",
         "1986",
         "9467",
         "2020-07-06 04:02:25.847000",
         "1.5229745431498891"
        ],
        [
         "37",
         "0",
         "2008",
         "6000",
         "2020-07-06 04:08:41.264000",
         "0.1356666666666666"
        ],
        [
         "39",
         "0",
         "8261",
         "7734",
         "2020-07-06 04:20:39.184000",
         "0.1092578226014998"
        ],
        [
         "40",
         "0",
         "8242",
         "6134",
         "2020-07-06 04:22:59.180000",
         "2.3708835996087383"
        ],
        [
         "41",
         "0",
         "8259",
         "6034",
         "2020-07-06 04:30:47.427000",
         "2.403380841895923"
        ],
        [
         "42",
         "0",
         "8220",
         "5734",
         "2020-07-06 04:36:14.697000",
         "2.530868503662365"
        ],
        [
         "43",
         "0",
         "1965",
         "8336",
         "2020-07-06 04:37:49.256000",
         "1.6895393474088292"
        ],
        [
         "44",
         "0",
         "6775",
         "11734",
         "2020-07-06 04:40:10.043000",
         "0.0617862621441963"
        ],
        [
         "45",
         "0",
         "8239",
         "7134",
         "2020-07-06 04:40:55.535000",
         "2.074151948416036"
        ],
        [
         "46",
         "0",
         "5293",
         "9700",
         "2020-07-06 04:53:41.019000",
         "1.5030927835051546"
        ],
        [
         "47",
         "0",
         "6811",
         "6791",
         "2020-07-06 04:55:14.610000",
         "4.070534530996907"
        ],
        [
         "48",
         "0",
         "6803",
         "6334",
         "2020-07-06 04:59:56.316000",
         "0.1294600568361225"
        ],
        [
         "49",
         "0",
         "9645",
         "8493",
         "2020-07-06 05:18:38.198000",
         "1.7442599788060755"
        ],
        [
         "50",
         "0",
         "3664",
         "11796",
         "2020-07-06 05:26:26.994000",
         "0.1219057307561884"
        ],
        [
         "51",
         "0",
         "8260",
         "9150",
         "2020-07-06 05:26:41.790000",
         "3.090928961748634"
        ],
        [
         "52",
         "0",
         "5292",
         "9667",
         "2020-07-06 05:35:33.264000",
         "0.079342091652012"
        ],
        [
         "53",
         "0",
         "3578",
         "11728",
         "2020-07-06 05:50:23.186000",
         "0.0705150068212824"
        ],
        [
         "54",
         "0",
         "9595",
         "10067",
         "2020-07-06 05:56:37.622000",
         "0.0804609118903347"
        ]
       ],
       "shape": {
        "columns": 5,
        "rows": 9486376
       }
      },
      "text/html": [
       "<div>\n",
       "<style scoped>\n",
       "    .dataframe tbody tr th:only-of-type {\n",
       "        vertical-align: middle;\n",
       "    }\n",
       "\n",
       "    .dataframe tbody tr th {\n",
       "        vertical-align: top;\n",
       "    }\n",
       "\n",
       "    .dataframe thead th {\n",
       "        text-align: right;\n",
       "    }\n",
       "</style>\n",
       "<table border=\"1\" class=\"dataframe\">\n",
       "  <thead>\n",
       "    <tr style=\"text-align: right;\">\n",
       "      <th></th>\n",
       "      <th>user_id</th>\n",
       "      <th>video_id</th>\n",
       "      <th>video_duration</th>\n",
       "      <th>time</th>\n",
       "      <th>watch_ratio</th>\n",
       "    </tr>\n",
       "  </thead>\n",
       "  <tbody>\n",
       "    <tr>\n",
       "      <th>0</th>\n",
       "      <td>0</td>\n",
       "      <td>3649</td>\n",
       "      <td>10867</td>\n",
       "      <td>2020-07-05 00:08:23.438</td>\n",
       "      <td>1.273397</td>\n",
       "    </tr>\n",
       "    <tr>\n",
       "      <th>2</th>\n",
       "      <td>0</td>\n",
       "      <td>5262</td>\n",
       "      <td>7908</td>\n",
       "      <td>2020-07-05 00:16:06.687</td>\n",
       "      <td>0.107613</td>\n",
       "    </tr>\n",
       "    <tr>\n",
       "      <th>3</th>\n",
       "      <td>0</td>\n",
       "      <td>1963</td>\n",
       "      <td>9590</td>\n",
       "      <td>2020-07-05 00:20:26.792</td>\n",
       "      <td>1.434307</td>\n",
       "    </tr>\n",
       "    <tr>\n",
       "      <th>4</th>\n",
       "      <td>0</td>\n",
       "      <td>8234</td>\n",
       "      <td>11000</td>\n",
       "      <td>2020-07-05 00:43:05.128</td>\n",
       "      <td>1.296455</td>\n",
       "    </tr>\n",
       "    <tr>\n",
       "      <th>5</th>\n",
       "      <td>0</td>\n",
       "      <td>8228</td>\n",
       "      <td>8576</td>\n",
       "      <td>2020-07-05 01:00:25.500</td>\n",
       "      <td>3.113806</td>\n",
       "    </tr>\n",
       "    <tr>\n",
       "      <th>...</th>\n",
       "      <td>...</td>\n",
       "      <td>...</td>\n",
       "      <td>...</td>\n",
       "      <td>...</td>\n",
       "      <td>...</td>\n",
       "    </tr>\n",
       "    <tr>\n",
       "      <th>12530799</th>\n",
       "      <td>7175</td>\n",
       "      <td>6597</td>\n",
       "      <td>8741</td>\n",
       "      <td>2020-09-05 06:35:01.104</td>\n",
       "      <td>1.004462</td>\n",
       "    </tr>\n",
       "    <tr>\n",
       "      <th>12530800</th>\n",
       "      <td>7175</td>\n",
       "      <td>6630</td>\n",
       "      <td>13855</td>\n",
       "      <td>2020-09-05 15:00:33.379</td>\n",
       "      <td>0.313389</td>\n",
       "    </tr>\n",
       "    <tr>\n",
       "      <th>12530803</th>\n",
       "      <td>7175</td>\n",
       "      <td>10360</td>\n",
       "      <td>7067</td>\n",
       "      <td>2020-09-05 19:10:29.041</td>\n",
       "      <td>1.253997</td>\n",
       "    </tr>\n",
       "    <tr>\n",
       "      <th>12530804</th>\n",
       "      <td>7175</td>\n",
       "      <td>10360</td>\n",
       "      <td>7067</td>\n",
       "      <td>2020-09-05 19:10:36.995</td>\n",
       "      <td>1.253997</td>\n",
       "    </tr>\n",
       "    <tr>\n",
       "      <th>12530805</th>\n",
       "      <td>7175</td>\n",
       "      <td>10389</td>\n",
       "      <td>14304</td>\n",
       "      <td>2020-09-05 21:13:51.419</td>\n",
       "      <td>0.857313</td>\n",
       "    </tr>\n",
       "  </tbody>\n",
       "</table>\n",
       "<p>9486376 rows × 5 columns</p>\n",
       "</div>"
      ],
      "text/plain": [
       "          user_id  video_id  video_duration                    time  \\\n",
       "0               0      3649           10867 2020-07-05 00:08:23.438   \n",
       "2               0      5262            7908 2020-07-05 00:16:06.687   \n",
       "3               0      1963            9590 2020-07-05 00:20:26.792   \n",
       "4               0      8234           11000 2020-07-05 00:43:05.128   \n",
       "5               0      8228            8576 2020-07-05 01:00:25.500   \n",
       "...           ...       ...             ...                     ...   \n",
       "12530799     7175      6597            8741 2020-09-05 06:35:01.104   \n",
       "12530800     7175      6630           13855 2020-09-05 15:00:33.379   \n",
       "12530803     7175     10360            7067 2020-09-05 19:10:29.041   \n",
       "12530804     7175     10360            7067 2020-09-05 19:10:36.995   \n",
       "12530805     7175     10389           14304 2020-09-05 21:13:51.419   \n",
       "\n",
       "          watch_ratio  \n",
       "0            1.273397  \n",
       "2            0.107613  \n",
       "3            1.434307  \n",
       "4            1.296455  \n",
       "5            3.113806  \n",
       "...               ...  \n",
       "12530799     1.004462  \n",
       "12530800     0.313389  \n",
       "12530803     1.253997  \n",
       "12530804     1.253997  \n",
       "12530805     0.857313  \n",
       "\n",
       "[9486376 rows x 5 columns]"
      ]
     },
     "execution_count": 6,
     "metadata": {},
     "output_type": "execute_result"
    }
   ],
   "source": [
    "def clean_big_small_matrix(df: pd.DataFrame) -> pd.DataFrame:\n",
    "    cleaned = df.copy()\n",
    "\n",
    "    cleaned = cleaned.drop(columns=[\"play_duration\", \"date\", \"timestamp\"])\n",
    "    # Remove duplicates, null values and filter out unrealistic watch_ratio values\n",
    "    cleaned = cleaned.dropna().drop_duplicates()\n",
    "    cleaned = cleaned[cleaned[\"watch_ratio\"] < 5]\n",
    "    cleaned = cleaned[cleaned[\"watch_ratio\"] > 0]\n",
    "    cleaned[\"watch_ratio\"] = cleaned.groupby([\"user_id\", \"video_id\"])[\"watch_ratio\"].transform(\"sum\")\n",
    "    cleaned = cleaned[cleaned[\"watch_ratio\"] < 5]\n",
    "    # Remove interactions with unknown users or unknown videos\n",
    "    cleaned = cleaned[cleaned[\"user_id\"].isin(known_user_ids)]\n",
    "    cleaned = cleaned[cleaned[\"video_id\"].isin(known_video_ids)]\n",
    "    # Convert times to actual times\n",
    "    cleaned[\"time\"] = pd.to_datetime(cleaned[\"time\"], format=\"%Y-%m-%d %H:%M:%S.%f\", errors=\"coerce\")\n",
    "    assert(not cleaned.isnull().sum().any())\n",
    "    return cleaned\n",
    "\n",
    "small_matrix_cleaned = clean_big_small_matrix(small_matrix)\n",
    "big_matrix_cleaned = clean_big_small_matrix(big_matrix)\n",
    "big_matrix_cleaned"
   ]
  },
  {
   "cell_type": "markdown",
   "id": "1bc6e68e",
   "metadata": {},
   "source": [
    "## Social Network"
   ]
  },
  {
   "cell_type": "markdown",
   "id": "bdb3b3a0",
   "metadata": {},
   "source": [
    "By running a quick check we noticed that 93.5% of the users do not have any friends, so we believe it is safe to not take this data into account:"
   ]
  },
  {
   "cell_type": "code",
   "execution_count": 7,
   "id": "f533e4c7",
   "metadata": {},
   "outputs": [
    {
     "name": "stdout",
     "output_type": "stream",
     "text": [
      "93.16% of users do not have friends\n"
     ]
    }
   ],
   "source": [
    "percent_who_have_friends = len(social_network[\"user_id\"].unique()) / len(known_user_ids) * 100\n",
    "print(f\"{100 - percent_who_have_friends:.2f}% of users do not have friends\")"
   ]
  },
  {
   "cell_type": "markdown",
   "id": "562a98fd",
   "metadata": {},
   "source": [
    "## Item Categories"
   ]
  },
  {
   "cell_type": "markdown",
   "id": "fac0447c",
   "metadata": {},
   "source": [
    "- We filter out videos for which we have incomplete or no data.\n",
    "- We parse the \"feat\" column into a list of integers instead of a string."
   ]
  },
  {
   "cell_type": "code",
   "execution_count": 8,
   "id": "768daf0e",
   "metadata": {},
   "outputs": [
    {
     "data": {
      "application/vnd.microsoft.datawrangler.viewer.v0+json": {
       "columns": [
        {
         "name": "index",
         "rawType": "int64",
         "type": "integer"
        },
        {
         "name": "video_id",
         "rawType": "int64",
         "type": "integer"
        },
        {
         "name": "feat",
         "rawType": "object",
         "type": "unknown"
        }
       ],
       "conversionMethod": "pd.DataFrame",
       "ref": "727017bd-5c67-4614-b468-160ac9cb1d0c",
       "rows": [
        [
         "0",
         "0",
         "[8]"
        ],
        [
         "2",
         "2",
         "[9]"
        ],
        [
         "4",
         "4",
         "[5]"
        ],
        [
         "5",
         "5",
         "[6]"
        ],
        [
         "6",
         "6",
         "[19]"
        ],
        [
         "7",
         "7",
         "[8]"
        ],
        [
         "8",
         "8",
         "[12]"
        ],
        [
         "10",
         "10",
         "[5]"
        ],
        [
         "11",
         "11",
         "[11]"
        ],
        [
         "12",
         "12",
         "[19]"
        ],
        [
         "13",
         "13",
         "[28, 19]"
        ],
        [
         "14",
         "14",
         "[7]"
        ],
        [
         "15",
         "15",
         "[18]"
        ],
        [
         "16",
         "16",
         "[26]"
        ],
        [
         "17",
         "17",
         "[2, 11]"
        ],
        [
         "18",
         "18",
         "[6, 26]"
        ],
        [
         "21",
         "21",
         "[2]"
        ],
        [
         "22",
         "22",
         "[5]"
        ],
        [
         "23",
         "23",
         "[11, 7]"
        ],
        [
         "24",
         "24",
         "[11]"
        ],
        [
         "27",
         "27",
         "[11, 5]"
        ],
        [
         "28",
         "28",
         "[20]"
        ],
        [
         "29",
         "29",
         "[20]"
        ],
        [
         "31",
         "31",
         "[5]"
        ],
        [
         "32",
         "32",
         "[1]"
        ],
        [
         "33",
         "33",
         "[9]"
        ],
        [
         "34",
         "34",
         "[8]"
        ],
        [
         "39",
         "39",
         "[28]"
        ],
        [
         "40",
         "40",
         "[11]"
        ],
        [
         "41",
         "41",
         "[7]"
        ],
        [
         "42",
         "42",
         "[20]"
        ],
        [
         "43",
         "43",
         "[5]"
        ],
        [
         "44",
         "44",
         "[25]"
        ],
        [
         "45",
         "45",
         "[1, 2]"
        ],
        [
         "46",
         "46",
         "[11]"
        ],
        [
         "47",
         "47",
         "[5]"
        ],
        [
         "48",
         "48",
         "[4]"
        ],
        [
         "49",
         "49",
         "[1]"
        ],
        [
         "50",
         "50",
         "[11]"
        ],
        [
         "52",
         "52",
         "[7]"
        ],
        [
         "53",
         "53",
         "[19]"
        ],
        [
         "54",
         "54",
         "[2]"
        ],
        [
         "55",
         "55",
         "[26]"
        ],
        [
         "56",
         "56",
         "[12]"
        ],
        [
         "57",
         "57",
         "[8]"
        ],
        [
         "58",
         "58",
         "[15]"
        ],
        [
         "60",
         "60",
         "[3]"
        ],
        [
         "61",
         "61",
         "[11]"
        ],
        [
         "62",
         "62",
         "[28]"
        ],
        [
         "63",
         "63",
         "[8]"
        ]
       ],
       "shape": {
        "columns": 2,
        "rows": 8754
       }
      },
      "text/html": [
       "<div>\n",
       "<style scoped>\n",
       "    .dataframe tbody tr th:only-of-type {\n",
       "        vertical-align: middle;\n",
       "    }\n",
       "\n",
       "    .dataframe tbody tr th {\n",
       "        vertical-align: top;\n",
       "    }\n",
       "\n",
       "    .dataframe thead th {\n",
       "        text-align: right;\n",
       "    }\n",
       "</style>\n",
       "<table border=\"1\" class=\"dataframe\">\n",
       "  <thead>\n",
       "    <tr style=\"text-align: right;\">\n",
       "      <th></th>\n",
       "      <th>video_id</th>\n",
       "      <th>feat</th>\n",
       "    </tr>\n",
       "  </thead>\n",
       "  <tbody>\n",
       "    <tr>\n",
       "      <th>0</th>\n",
       "      <td>0</td>\n",
       "      <td>[8]</td>\n",
       "    </tr>\n",
       "    <tr>\n",
       "      <th>2</th>\n",
       "      <td>2</td>\n",
       "      <td>[9]</td>\n",
       "    </tr>\n",
       "    <tr>\n",
       "      <th>4</th>\n",
       "      <td>4</td>\n",
       "      <td>[5]</td>\n",
       "    </tr>\n",
       "    <tr>\n",
       "      <th>5</th>\n",
       "      <td>5</td>\n",
       "      <td>[6]</td>\n",
       "    </tr>\n",
       "    <tr>\n",
       "      <th>6</th>\n",
       "      <td>6</td>\n",
       "      <td>[19]</td>\n",
       "    </tr>\n",
       "    <tr>\n",
       "      <th>...</th>\n",
       "      <td>...</td>\n",
       "      <td>...</td>\n",
       "    </tr>\n",
       "    <tr>\n",
       "      <th>10722</th>\n",
       "      <td>10722</td>\n",
       "      <td>[5]</td>\n",
       "    </tr>\n",
       "    <tr>\n",
       "      <th>10723</th>\n",
       "      <td>10723</td>\n",
       "      <td>[11]</td>\n",
       "    </tr>\n",
       "    <tr>\n",
       "      <th>10724</th>\n",
       "      <td>10724</td>\n",
       "      <td>[2]</td>\n",
       "    </tr>\n",
       "    <tr>\n",
       "      <th>10726</th>\n",
       "      <td>10726</td>\n",
       "      <td>[19]</td>\n",
       "    </tr>\n",
       "    <tr>\n",
       "      <th>10727</th>\n",
       "      <td>10727</td>\n",
       "      <td>[5]</td>\n",
       "    </tr>\n",
       "  </tbody>\n",
       "</table>\n",
       "<p>8754 rows × 2 columns</p>\n",
       "</div>"
      ],
      "text/plain": [
       "       video_id  feat\n",
       "0             0   [8]\n",
       "2             2   [9]\n",
       "4             4   [5]\n",
       "5             5   [6]\n",
       "6             6  [19]\n",
       "...         ...   ...\n",
       "10722     10722   [5]\n",
       "10723     10723  [11]\n",
       "10724     10724   [2]\n",
       "10726     10726  [19]\n",
       "10727     10727   [5]\n",
       "\n",
       "[8754 rows x 2 columns]"
      ]
     },
     "execution_count": 8,
     "metadata": {},
     "output_type": "execute_result"
    }
   ],
   "source": [
    "item_categories_cleaned = item_categories.copy()\n",
    "item_categories_cleaned = item_categories_cleaned[item_categories_cleaned[\"video_id\"].isin(known_video_ids)]\n",
    "item_categories_cleaned[\"feat\"] = item_categories_cleaned[\"feat\"].apply(ast.literal_eval)\n",
    "item_categories_cleaned"
   ]
  },
  {
   "cell_type": "markdown",
   "id": "553103f4",
   "metadata": {},
   "source": [
    "## Item Daily Features"
   ]
  },
  {
   "cell_type": "markdown",
   "id": "598cf620",
   "metadata": {},
   "source": [
    "- We filter out videos for which we have incomplete or no data.\n",
    "- (Private videos and advertisements have already been filtered out whem building or known_video_ids list so we do not have to do it)\n",
    "- We ensure all the time variables have the right format.\n",
    "- We define a \"stats_cols\" and \"useful_cols\" list to filter the columns we want from all the ones available. We assume that keeping them all may not be relevant, and we are also constrained by RAM memory issues."
   ]
  },
  {
   "cell_type": "code",
   "execution_count": 9,
   "id": "9aedf161",
   "metadata": {},
   "outputs": [
    {
     "data": {
      "application/vnd.microsoft.datawrangler.viewer.v0+json": {
       "columns": [
        {
         "name": "index",
         "rawType": "int64",
         "type": "integer"
        },
        {
         "name": "video_id",
         "rawType": "int64",
         "type": "integer"
        },
        {
         "name": "date",
         "rawType": "datetime64[ns]",
         "type": "datetime"
        },
        {
         "name": "video_duration",
         "rawType": "float64",
         "type": "float"
        },
        {
         "name": "upload_dt",
         "rawType": "datetime64[ns]",
         "type": "datetime"
        },
        {
         "name": "valid_play_cnt",
         "rawType": "int64",
         "type": "integer"
        },
        {
         "name": "like_cnt",
         "rawType": "int64",
         "type": "integer"
        },
        {
         "name": "comment_cnt",
         "rawType": "int64",
         "type": "integer"
        },
        {
         "name": "share_cnt",
         "rawType": "int64",
         "type": "integer"
        },
        {
         "name": "follow_cnt",
         "rawType": "int64",
         "type": "integer"
        },
        {
         "name": "collect_cnt",
         "rawType": "float64",
         "type": "float"
        },
        {
         "name": "download_cnt",
         "rawType": "int64",
         "type": "integer"
        }
       ],
       "conversionMethod": "pd.DataFrame",
       "ref": "810ce627-6502-47a0-85a5-00ad96bb8057",
       "rows": [
        [
         "23",
         "0",
         "2020-07-28 00:00:00",
         "5966.0",
         "2020-03-30 00:00:00",
         "4280",
         "462",
         "10",
         "0",
         "247",
         "2.0",
         "3"
        ],
        [
         "24",
         "0",
         "2020-07-29 00:00:00",
         "5966.0",
         "2020-03-30 00:00:00",
         "3892",
         "443",
         "7",
         "0",
         "242",
         "7.0",
         "5"
        ],
        [
         "25",
         "0",
         "2020-07-30 00:00:00",
         "5966.0",
         "2020-03-30 00:00:00",
         "3884",
         "411",
         "9",
         "4",
         "226",
         "6.0",
         "3"
        ],
        [
         "26",
         "0",
         "2020-07-31 00:00:00",
         "5966.0",
         "2020-03-30 00:00:00",
         "4259",
         "456",
         "5",
         "0",
         "223",
         "3.0",
         "9"
        ],
        [
         "27",
         "0",
         "2020-08-01 00:00:00",
         "5966.0",
         "2020-03-30 00:00:00",
         "8860",
         "800",
         "9",
         "1",
         "275",
         "7.0",
         "9"
        ],
        [
         "28",
         "0",
         "2020-08-02 00:00:00",
         "5966.0",
         "2020-03-30 00:00:00",
         "7135",
         "710",
         "5",
         "3",
         "269",
         "2.0",
         "8"
        ],
        [
         "29",
         "0",
         "2020-08-03 00:00:00",
         "5966.0",
         "2020-03-30 00:00:00",
         "5509",
         "612",
         "10",
         "3",
         "257",
         "1.0",
         "7"
        ],
        [
         "30",
         "0",
         "2020-08-04 00:00:00",
         "5966.0",
         "2020-03-30 00:00:00",
         "5678",
         "657",
         "9",
         "6",
         "248",
         "9.0",
         "6"
        ],
        [
         "31",
         "0",
         "2020-08-05 00:00:00",
         "5966.0",
         "2020-03-30 00:00:00",
         "7919",
         "758",
         "11",
         "7",
         "265",
         "2.0",
         "5"
        ],
        [
         "32",
         "0",
         "2020-08-06 00:00:00",
         "5966.0",
         "2020-03-30 00:00:00",
         "8364",
         "717",
         "35",
         "2",
         "253",
         "8.0",
         "7"
        ],
        [
         "33",
         "0",
         "2020-08-07 00:00:00",
         "5966.0",
         "2020-03-30 00:00:00",
         "5702",
         "526",
         "38",
         "2",
         "232",
         "7.0",
         "2"
        ],
        [
         "34",
         "0",
         "2020-08-08 00:00:00",
         "5966.0",
         "2020-03-30 00:00:00",
         "4462",
         "472",
         "6",
         "2",
         "228",
         "4.0",
         "3"
        ],
        [
         "35",
         "0",
         "2020-08-09 00:00:00",
         "5966.0",
         "2020-03-30 00:00:00",
         "4836",
         "528",
         "9",
         "6",
         "235",
         "2.0",
         "4"
        ],
        [
         "36",
         "0",
         "2020-08-10 00:00:00",
         "5966.0",
         "2020-03-30 00:00:00",
         "4460",
         "453",
         "8",
         "3",
         "231",
         "3.0",
         "3"
        ],
        [
         "37",
         "0",
         "2020-08-11 00:00:00",
         "5966.0",
         "2020-03-30 00:00:00",
         "3637",
         "433",
         "12",
         "1",
         "231",
         "2.0",
         "3"
        ],
        [
         "38",
         "0",
         "2020-08-12 00:00:00",
         "5966.0",
         "2020-03-30 00:00:00",
         "3417",
         "394",
         "12",
         "2",
         "190",
         "4.0",
         "4"
        ],
        [
         "39",
         "0",
         "2020-08-13 00:00:00",
         "5966.0",
         "2020-03-30 00:00:00",
         "3562",
         "455",
         "5",
         "2",
         "259",
         "2.0",
         "5"
        ],
        [
         "40",
         "0",
         "2020-08-14 00:00:00",
         "5966.0",
         "2020-03-30 00:00:00",
         "3728",
         "440",
         "13",
         "0",
         "277",
         "6.0",
         "3"
        ],
        [
         "41",
         "0",
         "2020-08-15 00:00:00",
         "5966.0",
         "2020-03-30 00:00:00",
         "3376",
         "374",
         "8",
         "1",
         "206",
         "5.0",
         "2"
        ],
        [
         "42",
         "0",
         "2020-08-16 00:00:00",
         "5966.0",
         "2020-03-30 00:00:00",
         "3592",
         "398",
         "9",
         "3",
         "209",
         "6.0",
         "4"
        ],
        [
         "43",
         "0",
         "2020-08-17 00:00:00",
         "5966.0",
         "2020-03-30 00:00:00",
         "2989",
         "361",
         "4",
         "3",
         "177",
         "3.0",
         "1"
        ],
        [
         "44",
         "0",
         "2020-08-18 00:00:00",
         "5966.0",
         "2020-03-30 00:00:00",
         "2547",
         "334",
         "6",
         "3",
         "160",
         "3.0",
         "2"
        ],
        [
         "45",
         "0",
         "2020-08-19 00:00:00",
         "5966.0",
         "2020-03-30 00:00:00",
         "3792",
         "417",
         "13",
         "1",
         "175",
         "7.0",
         "2"
        ],
        [
         "46",
         "0",
         "2020-08-20 00:00:00",
         "5966.0",
         "2020-03-30 00:00:00",
         "3434",
         "357",
         "8",
         "0",
         "125",
         "2.0",
         "6"
        ],
        [
         "47",
         "0",
         "2020-08-21 00:00:00",
         "5966.0",
         "2020-03-30 00:00:00",
         "2371",
         "240",
         "8",
         "1",
         "105",
         "1.0",
         "3"
        ],
        [
         "48",
         "0",
         "2020-08-22 00:00:00",
         "5966.0",
         "2020-03-30 00:00:00",
         "2289",
         "238",
         "7",
         "3",
         "113",
         "3.0",
         "0"
        ],
        [
         "49",
         "0",
         "2020-08-23 00:00:00",
         "5966.0",
         "2020-03-30 00:00:00",
         "2117",
         "225",
         "2",
         "0",
         "106",
         "2.0",
         "4"
        ],
        [
         "50",
         "0",
         "2020-08-24 00:00:00",
         "5966.0",
         "2020-03-30 00:00:00",
         "2078",
         "175",
         "3",
         "1",
         "95",
         "1.0",
         "2"
        ],
        [
         "51",
         "0",
         "2020-08-25 00:00:00",
         "5966.0",
         "2020-03-30 00:00:00",
         "2067",
         "192",
         "2",
         "2",
         "92",
         "0.0",
         "1"
        ],
        [
         "52",
         "0",
         "2020-08-26 00:00:00",
         "5966.0",
         "2020-03-30 00:00:00",
         "1852",
         "191",
         "3",
         "1",
         "103",
         "5.0",
         "2"
        ],
        [
         "53",
         "0",
         "2020-08-27 00:00:00",
         "5966.0",
         "2020-03-30 00:00:00",
         "1642",
         "177",
         "1",
         "2",
         "93",
         "0.0",
         "1"
        ],
        [
         "54",
         "0",
         "2020-08-28 00:00:00",
         "5966.0",
         "2020-03-30 00:00:00",
         "1223",
         "160",
         "2",
         "0",
         "70",
         "2.0",
         "1"
        ],
        [
         "55",
         "0",
         "2020-08-29 00:00:00",
         "5966.0",
         "2020-03-30 00:00:00",
         "1515",
         "157",
         "8",
         "1",
         "58",
         "1.0",
         "2"
        ],
        [
         "56",
         "0",
         "2020-08-30 00:00:00",
         "5966.0",
         "2020-03-30 00:00:00",
         "1392",
         "141",
         "4",
         "1",
         "47",
         "0.0",
         "2"
        ],
        [
         "57",
         "0",
         "2020-08-31 00:00:00",
         "5966.0",
         "2020-03-30 00:00:00",
         "841",
         "74",
         "1",
         "1",
         "30",
         "0.0",
         "0"
        ],
        [
         "58",
         "0",
         "2020-09-01 00:00:00",
         "5966.0",
         "2020-03-30 00:00:00",
         "771",
         "61",
         "0",
         "0",
         "37",
         "0.0",
         "0"
        ],
        [
         "59",
         "0",
         "2020-09-02 00:00:00",
         "5966.0",
         "2020-03-30 00:00:00",
         "685",
         "43",
         "0",
         "0",
         "27",
         "0.0",
         "1"
        ],
        [
         "60",
         "0",
         "2020-09-03 00:00:00",
         "5966.0",
         "2020-03-30 00:00:00",
         "667",
         "37",
         "0",
         "0",
         "20",
         "0.0",
         "0"
        ],
        [
         "61",
         "0",
         "2020-09-04 00:00:00",
         "5966.0",
         "2020-03-30 00:00:00",
         "930",
         "49",
         "1",
         "0",
         "43",
         "0.0",
         "1"
        ],
        [
         "62",
         "0",
         "2020-09-05 00:00:00",
         "5966.0",
         "2020-03-30 00:00:00",
         "1199",
         "112",
         "1",
         "0",
         "74",
         "1.0",
         "1"
        ],
        [
         "149",
         "2",
         "2020-07-28 00:00:00",
         "8000.0",
         "2020-04-11 00:00:00",
         "7",
         "1",
         "0",
         "0",
         "0",
         "0.0",
         "0"
        ],
        [
         "150",
         "2",
         "2020-07-29 00:00:00",
         "8000.0",
         "2020-04-11 00:00:00",
         "11",
         "0",
         "0",
         "0",
         "0",
         "0.0",
         "0"
        ],
        [
         "151",
         "2",
         "2020-07-30 00:00:00",
         "8000.0",
         "2020-04-11 00:00:00",
         "11",
         "0",
         "0",
         "0",
         "0",
         "0.0",
         "0"
        ],
        [
         "152",
         "2",
         "2020-07-31 00:00:00",
         "8000.0",
         "2020-04-11 00:00:00",
         "15",
         "0",
         "0",
         "0",
         "0",
         "0.0",
         "0"
        ],
        [
         "153",
         "2",
         "2020-08-01 00:00:00",
         "8000.0",
         "2020-04-11 00:00:00",
         "6",
         "1",
         "0",
         "0",
         "0",
         "0.0",
         "0"
        ],
        [
         "154",
         "2",
         "2020-08-02 00:00:00",
         "8000.0",
         "2020-04-11 00:00:00",
         "5",
         "0",
         "0",
         "0",
         "0",
         "0.0",
         "0"
        ],
        [
         "155",
         "2",
         "2020-08-03 00:00:00",
         "8000.0",
         "2020-04-11 00:00:00",
         "11",
         "1",
         "0",
         "0",
         "0",
         "0.0",
         "0"
        ],
        [
         "156",
         "2",
         "2020-08-04 00:00:00",
         "8000.0",
         "2020-04-11 00:00:00",
         "16",
         "1",
         "0",
         "0",
         "0",
         "0.0",
         "0"
        ],
        [
         "157",
         "2",
         "2020-08-05 00:00:00",
         "8000.0",
         "2020-04-11 00:00:00",
         "9",
         "0",
         "0",
         "0",
         "0",
         "0.0",
         "0"
        ],
        [
         "158",
         "2",
         "2020-08-06 00:00:00",
         "8000.0",
         "2020-04-11 00:00:00",
         "6",
         "0",
         "0",
         "0",
         "0",
         "0.0",
         "0"
        ]
       ],
       "shape": {
        "columns": 11,
        "rows": 212964
       }
      },
      "text/html": [
       "<div>\n",
       "<style scoped>\n",
       "    .dataframe tbody tr th:only-of-type {\n",
       "        vertical-align: middle;\n",
       "    }\n",
       "\n",
       "    .dataframe tbody tr th {\n",
       "        vertical-align: top;\n",
       "    }\n",
       "\n",
       "    .dataframe thead th {\n",
       "        text-align: right;\n",
       "    }\n",
       "</style>\n",
       "<table border=\"1\" class=\"dataframe\">\n",
       "  <thead>\n",
       "    <tr style=\"text-align: right;\">\n",
       "      <th></th>\n",
       "      <th>video_id</th>\n",
       "      <th>date</th>\n",
       "      <th>video_duration</th>\n",
       "      <th>upload_dt</th>\n",
       "      <th>valid_play_cnt</th>\n",
       "      <th>like_cnt</th>\n",
       "      <th>comment_cnt</th>\n",
       "      <th>share_cnt</th>\n",
       "      <th>follow_cnt</th>\n",
       "      <th>collect_cnt</th>\n",
       "      <th>download_cnt</th>\n",
       "    </tr>\n",
       "  </thead>\n",
       "  <tbody>\n",
       "    <tr>\n",
       "      <th>23</th>\n",
       "      <td>0</td>\n",
       "      <td>2020-07-28</td>\n",
       "      <td>5966.0</td>\n",
       "      <td>2020-03-30</td>\n",
       "      <td>4280</td>\n",
       "      <td>462</td>\n",
       "      <td>10</td>\n",
       "      <td>0</td>\n",
       "      <td>247</td>\n",
       "      <td>2.0</td>\n",
       "      <td>3</td>\n",
       "    </tr>\n",
       "    <tr>\n",
       "      <th>24</th>\n",
       "      <td>0</td>\n",
       "      <td>2020-07-29</td>\n",
       "      <td>5966.0</td>\n",
       "      <td>2020-03-30</td>\n",
       "      <td>3892</td>\n",
       "      <td>443</td>\n",
       "      <td>7</td>\n",
       "      <td>0</td>\n",
       "      <td>242</td>\n",
       "      <td>7.0</td>\n",
       "      <td>5</td>\n",
       "    </tr>\n",
       "    <tr>\n",
       "      <th>25</th>\n",
       "      <td>0</td>\n",
       "      <td>2020-07-30</td>\n",
       "      <td>5966.0</td>\n",
       "      <td>2020-03-30</td>\n",
       "      <td>3884</td>\n",
       "      <td>411</td>\n",
       "      <td>9</td>\n",
       "      <td>4</td>\n",
       "      <td>226</td>\n",
       "      <td>6.0</td>\n",
       "      <td>3</td>\n",
       "    </tr>\n",
       "    <tr>\n",
       "      <th>26</th>\n",
       "      <td>0</td>\n",
       "      <td>2020-07-31</td>\n",
       "      <td>5966.0</td>\n",
       "      <td>2020-03-30</td>\n",
       "      <td>4259</td>\n",
       "      <td>456</td>\n",
       "      <td>5</td>\n",
       "      <td>0</td>\n",
       "      <td>223</td>\n",
       "      <td>3.0</td>\n",
       "      <td>9</td>\n",
       "    </tr>\n",
       "    <tr>\n",
       "      <th>27</th>\n",
       "      <td>0</td>\n",
       "      <td>2020-08-01</td>\n",
       "      <td>5966.0</td>\n",
       "      <td>2020-03-30</td>\n",
       "      <td>8860</td>\n",
       "      <td>800</td>\n",
       "      <td>9</td>\n",
       "      <td>1</td>\n",
       "      <td>275</td>\n",
       "      <td>7.0</td>\n",
       "      <td>9</td>\n",
       "    </tr>\n",
       "    <tr>\n",
       "      <th>...</th>\n",
       "      <td>...</td>\n",
       "      <td>...</td>\n",
       "      <td>...</td>\n",
       "      <td>...</td>\n",
       "      <td>...</td>\n",
       "      <td>...</td>\n",
       "      <td>...</td>\n",
       "      <td>...</td>\n",
       "      <td>...</td>\n",
       "      <td>...</td>\n",
       "      <td>...</td>\n",
       "    </tr>\n",
       "    <tr>\n",
       "      <th>343335</th>\n",
       "      <td>10722</td>\n",
       "      <td>2020-09-05</td>\n",
       "      <td>9700.0</td>\n",
       "      <td>2020-09-05</td>\n",
       "      <td>143</td>\n",
       "      <td>4</td>\n",
       "      <td>1</td>\n",
       "      <td>0</td>\n",
       "      <td>1</td>\n",
       "      <td>0.0</td>\n",
       "      <td>0</td>\n",
       "    </tr>\n",
       "    <tr>\n",
       "      <th>343336</th>\n",
       "      <td>10723</td>\n",
       "      <td>2020-09-05</td>\n",
       "      <td>4833.0</td>\n",
       "      <td>2020-09-05</td>\n",
       "      <td>114</td>\n",
       "      <td>24</td>\n",
       "      <td>0</td>\n",
       "      <td>0</td>\n",
       "      <td>0</td>\n",
       "      <td>0.0</td>\n",
       "      <td>0</td>\n",
       "    </tr>\n",
       "    <tr>\n",
       "      <th>343337</th>\n",
       "      <td>10724</td>\n",
       "      <td>2020-09-05</td>\n",
       "      <td>54720.0</td>\n",
       "      <td>2020-09-05</td>\n",
       "      <td>754</td>\n",
       "      <td>264</td>\n",
       "      <td>29</td>\n",
       "      <td>1</td>\n",
       "      <td>8</td>\n",
       "      <td>0.0</td>\n",
       "      <td>1</td>\n",
       "    </tr>\n",
       "    <tr>\n",
       "      <th>343339</th>\n",
       "      <td>10726</td>\n",
       "      <td>2020-09-05</td>\n",
       "      <td>5132.0</td>\n",
       "      <td>2020-09-05</td>\n",
       "      <td>5382</td>\n",
       "      <td>44</td>\n",
       "      <td>0</td>\n",
       "      <td>1</td>\n",
       "      <td>2</td>\n",
       "      <td>0.0</td>\n",
       "      <td>2</td>\n",
       "    </tr>\n",
       "    <tr>\n",
       "      <th>343340</th>\n",
       "      <td>10727</td>\n",
       "      <td>2020-09-05</td>\n",
       "      <td>5666.0</td>\n",
       "      <td>2020-09-05</td>\n",
       "      <td>63</td>\n",
       "      <td>7</td>\n",
       "      <td>0</td>\n",
       "      <td>0</td>\n",
       "      <td>1</td>\n",
       "      <td>0.0</td>\n",
       "      <td>0</td>\n",
       "    </tr>\n",
       "  </tbody>\n",
       "</table>\n",
       "<p>212964 rows × 11 columns</p>\n",
       "</div>"
      ],
      "text/plain": [
       "        video_id       date  video_duration  upload_dt  valid_play_cnt  \\\n",
       "23             0 2020-07-28          5966.0 2020-03-30            4280   \n",
       "24             0 2020-07-29          5966.0 2020-03-30            3892   \n",
       "25             0 2020-07-30          5966.0 2020-03-30            3884   \n",
       "26             0 2020-07-31          5966.0 2020-03-30            4259   \n",
       "27             0 2020-08-01          5966.0 2020-03-30            8860   \n",
       "...          ...        ...             ...        ...             ...   \n",
       "343335     10722 2020-09-05          9700.0 2020-09-05             143   \n",
       "343336     10723 2020-09-05          4833.0 2020-09-05             114   \n",
       "343337     10724 2020-09-05         54720.0 2020-09-05             754   \n",
       "343339     10726 2020-09-05          5132.0 2020-09-05            5382   \n",
       "343340     10727 2020-09-05          5666.0 2020-09-05              63   \n",
       "\n",
       "        like_cnt  comment_cnt  share_cnt  follow_cnt  collect_cnt  \\\n",
       "23           462           10          0         247          2.0   \n",
       "24           443            7          0         242          7.0   \n",
       "25           411            9          4         226          6.0   \n",
       "26           456            5          0         223          3.0   \n",
       "27           800            9          1         275          7.0   \n",
       "...          ...          ...        ...         ...          ...   \n",
       "343335         4            1          0           1          0.0   \n",
       "343336        24            0          0           0          0.0   \n",
       "343337       264           29          1           8          0.0   \n",
       "343339        44            0          1           2          0.0   \n",
       "343340         7            0          0           1          0.0   \n",
       "\n",
       "        download_cnt  \n",
       "23                 3  \n",
       "24                 5  \n",
       "25                 3  \n",
       "26                 9  \n",
       "27                 9  \n",
       "...              ...  \n",
       "343335             0  \n",
       "343336             0  \n",
       "343337             1  \n",
       "343339             2  \n",
       "343340             0  \n",
       "\n",
       "[212964 rows x 11 columns]"
      ]
     },
     "execution_count": 9,
     "metadata": {},
     "output_type": "execute_result"
    }
   ],
   "source": [
    "item_daily_features_cleaned = item_daily_features_cleaned[item_daily_features_cleaned[\"video_id\"].isin(known_video_ids)]\n",
    "item_daily_features_cleaned[\"date\"] = pd.to_datetime(item_daily_features_cleaned[\"date\"].astype(str), errors=\"coerce\")\n",
    "item_daily_features_cleaned[\"upload_dt\"] = pd.to_datetime(item_daily_features_cleaned[\"upload_dt\"].astype(str), errors=\"coerce\")\n",
    "stats_cols = [\"valid_play_cnt\", \"like_cnt\", \"comment_cnt\", \"share_cnt\", \"follow_cnt\", \"collect_cnt\", \"download_cnt\"]\n",
    "useful_cols = [\"video_id\", \"date\", \"video_duration\", \"upload_dt\"] + stats_cols\n",
    "item_daily_features_cleaned = item_daily_features_cleaned[useful_cols]\n",
    "item_daily_features_cleaned"
   ]
  },
  {
   "cell_type": "markdown",
   "id": "438296b6",
   "metadata": {},
   "source": [
    "## User Features"
   ]
  },
  {
   "cell_type": "markdown",
   "id": "36153f62",
   "metadata": {},
   "source": [
    "We believe that knowing if a user is streamer or a video author will not tell us much about what he likes, because anyone can produce content. Furthermore, features like the number of followers or the number of days since the user's first registration zill most likely not tend to change a user's behavior.\n",
    "For the onehot_feat features, we do not know what they represent exactly and we do not have enough RAM memory to load them all alongside the other information, which is why we decide to not use them.\n",
    "In conclusion, we will not use the user_features table for our project."
   ]
  },
  {
   "cell_type": "markdown",
   "id": "553fcaa9",
   "metadata": {},
   "source": [
    "## Caption Category"
   ]
  },
  {
   "cell_type": "markdown",
   "id": "03169152",
   "metadata": {},
   "source": [
    "- We filter out videos for which we have incomplete or no data.\n",
    "- We keep only the \"firt_level_category_id\" column, since it defines the category of the video, which will most likely help us for our project."
   ]
  },
  {
   "cell_type": "code",
   "execution_count": 10,
   "id": "f2f8ae06",
   "metadata": {},
   "outputs": [
    {
     "data": {
      "application/vnd.microsoft.datawrangler.viewer.v0+json": {
       "columns": [
        {
         "name": "index",
         "rawType": "int64",
         "type": "integer"
        },
        {
         "name": "video_id",
         "rawType": "int64",
         "type": "integer"
        },
        {
         "name": "first_level_category_id",
         "rawType": "int64",
         "type": "integer"
        }
       ],
       "conversionMethod": "pd.DataFrame",
       "ref": "f4c7cf6f-4e1e-4fbb-9469-191b86fa9997",
       "rows": [
        [
         "0",
         "0",
         "8"
        ],
        [
         "2",
         "2",
         "9"
        ],
        [
         "3",
         "3",
         "26"
        ],
        [
         "4",
         "4",
         "5"
        ],
        [
         "5",
         "5",
         "6"
        ],
        [
         "6",
         "6",
         "19"
        ],
        [
         "7",
         "7",
         "8"
        ],
        [
         "8",
         "8",
         "12"
        ],
        [
         "10",
         "10",
         "5"
        ],
        [
         "11",
         "11",
         "11"
        ],
        [
         "12",
         "12",
         "2"
        ],
        [
         "13",
         "13",
         "19"
        ],
        [
         "14",
         "14",
         "34"
        ],
        [
         "15",
         "15",
         "18"
        ],
        [
         "16",
         "16",
         "26"
        ],
        [
         "17",
         "17",
         "2"
        ],
        [
         "18",
         "18",
         "26"
        ],
        [
         "21",
         "21",
         "2"
        ],
        [
         "22",
         "22",
         "34"
        ],
        [
         "23",
         "23",
         "7"
        ],
        [
         "24",
         "24",
         "34"
        ],
        [
         "27",
         "27",
         "34"
        ],
        [
         "28",
         "28",
         "20"
        ],
        [
         "29",
         "29",
         "1"
        ],
        [
         "30",
         "30",
         "5"
        ],
        [
         "31",
         "31",
         "5"
        ],
        [
         "32",
         "32",
         "1"
        ],
        [
         "33",
         "33",
         "17"
        ],
        [
         "34",
         "34",
         "8"
        ],
        [
         "35",
         "35",
         "6"
        ],
        [
         "36",
         "36",
         "9"
        ],
        [
         "38",
         "38",
         "1"
        ],
        [
         "39",
         "39",
         "28"
        ],
        [
         "40",
         "40",
         "11"
        ],
        [
         "41",
         "41",
         "31"
        ],
        [
         "42",
         "42",
         "20"
        ],
        [
         "43",
         "43",
         "5"
        ],
        [
         "44",
         "44",
         "34"
        ],
        [
         "45",
         "45",
         "1"
        ],
        [
         "46",
         "46",
         "11"
        ],
        [
         "47",
         "47",
         "5"
        ],
        [
         "48",
         "48",
         "4"
        ],
        [
         "49",
         "49",
         "1"
        ],
        [
         "50",
         "50",
         "11"
        ],
        [
         "52",
         "52",
         "7"
        ],
        [
         "53",
         "53",
         "19"
        ],
        [
         "54",
         "54",
         "2"
        ],
        [
         "55",
         "55",
         "26"
        ],
        [
         "56",
         "56",
         "12"
        ],
        [
         "57",
         "57",
         "8"
        ]
       ],
       "shape": {
        "columns": 2,
        "rows": 9373
       }
      },
      "text/html": [
       "<div>\n",
       "<style scoped>\n",
       "    .dataframe tbody tr th:only-of-type {\n",
       "        vertical-align: middle;\n",
       "    }\n",
       "\n",
       "    .dataframe tbody tr th {\n",
       "        vertical-align: top;\n",
       "    }\n",
       "\n",
       "    .dataframe thead th {\n",
       "        text-align: right;\n",
       "    }\n",
       "</style>\n",
       "<table border=\"1\" class=\"dataframe\">\n",
       "  <thead>\n",
       "    <tr style=\"text-align: right;\">\n",
       "      <th></th>\n",
       "      <th>video_id</th>\n",
       "      <th>first_level_category_id</th>\n",
       "    </tr>\n",
       "  </thead>\n",
       "  <tbody>\n",
       "    <tr>\n",
       "      <th>0</th>\n",
       "      <td>0</td>\n",
       "      <td>8</td>\n",
       "    </tr>\n",
       "    <tr>\n",
       "      <th>2</th>\n",
       "      <td>2</td>\n",
       "      <td>9</td>\n",
       "    </tr>\n",
       "    <tr>\n",
       "      <th>3</th>\n",
       "      <td>3</td>\n",
       "      <td>26</td>\n",
       "    </tr>\n",
       "    <tr>\n",
       "      <th>4</th>\n",
       "      <td>4</td>\n",
       "      <td>5</td>\n",
       "    </tr>\n",
       "    <tr>\n",
       "      <th>5</th>\n",
       "      <td>5</td>\n",
       "      <td>6</td>\n",
       "    </tr>\n",
       "    <tr>\n",
       "      <th>...</th>\n",
       "      <td>...</td>\n",
       "      <td>...</td>\n",
       "    </tr>\n",
       "    <tr>\n",
       "      <th>10722</th>\n",
       "      <td>10722</td>\n",
       "      <td>5</td>\n",
       "    </tr>\n",
       "    <tr>\n",
       "      <th>10723</th>\n",
       "      <td>10723</td>\n",
       "      <td>33</td>\n",
       "    </tr>\n",
       "    <tr>\n",
       "      <th>10724</th>\n",
       "      <td>10724</td>\n",
       "      <td>6</td>\n",
       "    </tr>\n",
       "    <tr>\n",
       "      <th>10726</th>\n",
       "      <td>10726</td>\n",
       "      <td>38</td>\n",
       "    </tr>\n",
       "    <tr>\n",
       "      <th>10727</th>\n",
       "      <td>10727</td>\n",
       "      <td>5</td>\n",
       "    </tr>\n",
       "  </tbody>\n",
       "</table>\n",
       "<p>9373 rows × 2 columns</p>\n",
       "</div>"
      ],
      "text/plain": [
       "       video_id  first_level_category_id\n",
       "0             0                        8\n",
       "2             2                        9\n",
       "3             3                       26\n",
       "4             4                        5\n",
       "5             5                        6\n",
       "...         ...                      ...\n",
       "10722     10722                        5\n",
       "10723     10723                       33\n",
       "10724     10724                        6\n",
       "10726     10726                       38\n",
       "10727     10727                        5\n",
       "\n",
       "[9373 rows x 2 columns]"
      ]
     },
     "execution_count": 10,
     "metadata": {},
     "output_type": "execute_result"
    }
   ],
   "source": [
    "caption_category_cleaned = caption_category.copy()\n",
    "useful_cols = [\"video_id\", \"first_level_category_id\"]\n",
    "caption_category_cleaned = caption_category_cleaned[useful_cols]\n",
    "caption_category_cleaned"
   ]
  },
  {
   "cell_type": "markdown",
   "id": "18d20f62",
   "metadata": {},
   "source": [
    "## Saving the cleaned dataframes"
   ]
  },
  {
   "cell_type": "code",
   "execution_count": 11,
   "id": "a294181a",
   "metadata": {},
   "outputs": [],
   "source": [
    "export_dir = \"./exports/cleaned_data/\"\n",
    "if not os.path.exists(export_dir):\n",
    "    os.makedirs(export_dir)\n",
    "big_matrix_cleaned.to_parquet(export_dir + \"big_matrix_cleaned.pq\")\n",
    "small_matrix_cleaned.to_parquet(export_dir + \"small_matrix_cleaned.pq\")\n",
    "item_categories_cleaned.to_parquet(export_dir + \"item_categories_cleaned.pq\")\n",
    "item_daily_features_cleaned.to_parquet(export_dir + \"item_daily_features_cleaned.pq\")\n",
    "caption_category_cleaned.to_parquet(export_dir + \"caption_category_cleaned.pq\")"
   ]
  }
 ],
 "metadata": {
  "kernelspec": {
   "display_name": "recommender",
   "language": "python",
   "name": "python3"
  },
  "language_info": {
   "codemirror_mode": {
    "name": "ipython",
    "version": 3
   },
   "file_extension": ".py",
   "mimetype": "text/x-python",
   "name": "python",
   "nbconvert_exporter": "python",
   "pygments_lexer": "ipython3",
   "version": "3.12.10"
  }
 },
 "nbformat": 4,
 "nbformat_minor": 5
}
